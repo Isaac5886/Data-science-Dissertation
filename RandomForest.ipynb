{
 "cells": [
  {
   "cell_type": "markdown",
   "id": "a68ee698-87e3-41da-af44-59510e8e656d",
   "metadata": {},
   "source": [
    "DATA LOADING AND INSPECTION\n",
    "---------------"
   ]
  },
  {
   "cell_type": "code",
   "execution_count": 1,
   "id": "bfbeb27b-91d9-4539-b13f-6880ad7d5733",
   "metadata": {},
   "outputs": [],
   "source": [
    "#Importing libraries\n",
    "\n",
    "#Packages for numeric\n",
    "import pandas as pd\n",
    "import numpy as np\n",
    "\n",
    "#Packages for Visualization\n",
    "import matplotlib.pyplot as plt\n",
    "import seaborn as sns\n",
    "import matplotlib.pyplot as plt \n",
    "import plotly.express as px\n",
    "\n",
    "# Modeling\n",
    "from sklearn.model_selection import train_test_split,cross_val_score,StratifiedKFold, KFold\n",
    "from imblearn.over_sampling import SMOTE,SMOTENC\n",
    "from sklearn.metrics import f1_score,recall_score,precision_score,confusion_matrix,roc_curve,roc_auc_score,classification_report, accuracy_score,log_loss# performance metrics\n",
    "from scipy import stats\n",
    "from sklearn import metrics\n",
    "from sklearn.preprocessing import MinMaxScaler, OneHotEncoder, LabelEncoder, StandardScaler\n",
    "from sklearn.feature_selection import RFE\n",
    "from sklearn.inspection import permutation_importance\n",
    "\n",
    "#Classifier module\n",
    "from sklearn.ensemble import RandomForestClassifier\n",
    "\n",
    "# Filtering future warnings\n",
    "import warnings\n",
    "warnings.filterwarnings('ignore')"
   ]
  },
  {
   "cell_type": "code",
   "execution_count": 2,
   "id": "33093160-b3db-4a86-bc8a-dcfea6308264",
   "metadata": {},
   "outputs": [],
   "source": [
    "# # Load the data.\n",
    "telecom = pd.read_csv('tele-churn.csv')"
   ]
  },
  {
   "cell_type": "markdown",
   "id": "ed3fbf7f-1496-4ba3-8624-315a84a025fd",
   "metadata": {},
   "source": [
    "Data Preprocessing\n",
    "---------\n",
    "Encoding\n",
    "----------"
   ]
  },
  {
   "cell_type": "code",
   "execution_count": 3,
   "id": "27313899-c18b-4d7a-a64a-03a718eaa4c8",
   "metadata": {},
   "outputs": [],
   "source": [
    "# Removing the phone number and state column\n",
    "df1 = telecom.drop(['phone number', 'state', 'area code'], axis=1)\n",
    "\n",
    "# change categorical data into numerical data\n",
    "df1['international plan'] = df1['international plan'].map({'no': 0, 'yes': 1})\n",
    "df1['voice mail plan'] = df1['voice mail plan'].map({'no': 0, 'yes': 1})\n",
    "df1['churn'] = df1['churn'].map({False : 0, True : 1})"
   ]
  },
  {
   "cell_type": "markdown",
   "id": "116773e0-9ca7-4ead-adad-864174b93f2c",
   "metadata": {},
   "source": [
    "FEATURES SCALING / STANDARDIZATION\n",
    "------------"
   ]
  },
  {
   "cell_type": "code",
   "execution_count": 4,
   "id": "f783556e-6fbf-41bd-9d3a-5534a85d9e93",
   "metadata": {},
   "outputs": [],
   "source": [
    "# Scaling the data\n",
    "from sklearn.preprocessing import MinMaxScaler\n",
    "scaler = MinMaxScaler()\n",
    "\n",
    "# Define function for scaling a column\n",
    "def scaling(column):\n",
    "    return scaler.fit_transform(df1[[column]])\n",
    "\n",
    "# Iterate through numerical columns and scale them\n",
    "for column in df1.select_dtypes(include=[np.number]).columns:\n",
    "    df1[[column]] = scaling(column)"
   ]
  },
  {
   "cell_type": "code",
   "execution_count": 5,
   "id": "9e89c561-c206-434e-ab04-0bcea4a4040e",
   "metadata": {},
   "outputs": [
    {
     "name": "stdout",
     "output_type": "stream",
     "text": [
      "Test set size: (600, 17)\n",
      "Train set size: (2733,)\n",
      "Test set size: (600,)\n"
     ]
    }
   ],
   "source": [
    "# Creating a Test and Train Dataset\n",
    "y = df1['churn']\n",
    "X = df1.drop(['churn'], axis=1)\n",
    "\n",
    "from sklearn.model_selection import train_test_split\n",
    "X_train, X_test, y_train, y_test = train_test_split(X, y, test_size=0.18, random_state=42)\n",
    "\n",
    "# Check the shapes of the split dataprint(\"Train set size:\", X_train.shape)\n",
    "print(\"Test set size:\", X_test.shape)\n",
    "print(\"Train set size:\", y_train.shape)\n",
    "print(\"Test set size:\", y_test.shape)"
   ]
  },
  {
   "cell_type": "markdown",
   "id": "3d9f4b92-feb3-47a0-a423-4ccf596cd754",
   "metadata": {},
   "source": [
    "SMOTE\n",
    "-------"
   ]
  },
  {
   "cell_type": "code",
   "execution_count": 6,
   "id": "ea300bed-366f-48f7-a38c-bab7cb06de8f",
   "metadata": {},
   "outputs": [
    {
     "name": "stdout",
     "output_type": "stream",
     "text": [
      "Shape of X_train_resampled: (4676, 17)\n",
      "\n",
      "Value counts of y_train_resampled:\n",
      " churn\n",
      "0.0    2338\n",
      "1.0    2338\n",
      "Name: count, dtype: int64\n"
     ]
    }
   ],
   "source": [
    "from imblearn.over_sampling import SMOTE\n",
    "smote = SMOTE(random_state=42)\n",
    "# Resample the training data\n",
    "\n",
    "smote = SMOTE(random_state=42)\n",
    "X_train_resampled, y_train_resampled = smote.fit_resample(X_train, y_train)\n",
    "\n",
    "# Check the shape of the resampled data\n",
    "print(\"Shape of X_train_resampled:\", X_train_resampled.shape)\n",
    "print(\"\\nValue counts of y_train_resampled:\\n\", y_train_resampled.value_counts())"
   ]
  },
  {
   "cell_type": "markdown",
   "id": "f1c856be-e3c8-4e8e-a435-766186dd2ce6",
   "metadata": {},
   "source": [
    "DATA MODELING\n",
    "--------------\n",
    "RandomForest Classifier\n",
    "------------"
   ]
  },
  {
   "cell_type": "code",
   "execution_count": 7,
   "id": "58b5ace1-1b27-4062-8fa4-fc0b100e2f6f",
   "metadata": {},
   "outputs": [
    {
     "name": "stdout",
     "output_type": "stream",
     "text": [
      "RandomForest Classifier Accuracy: 0.9500\n",
      "RandomForest Classifier Precision: 0.8295\n",
      "RandomForest Classifier recall: 0.8295\n",
      "RandomForest Classifier f1_score: 0.8295\n",
      "RandomForest Classifierr auc_roc: 0.9001\n",
      "              precision    recall  f1-score   support\n",
      "\n",
      "         0.0       0.97      0.97      0.97       512\n",
      "         1.0       0.83      0.83      0.83        88\n",
      "\n",
      "    accuracy                           0.95       600\n",
      "   macro avg       0.90      0.90      0.90       600\n",
      "weighted avg       0.95      0.95      0.95       600\n",
      "\n",
      "Confusion Matrix:\n",
      " [[497  15]\n",
      " [ 15  73]]\n",
      "ROC AUC Score: 0.9322065873579546\n",
      "Training Accuracy : 1.0\n",
      "Training Resampled Accuracy : 1.0\n",
      "Testing Accuracy : 0.95\n"
     ]
    }
   ],
   "source": [
    "#Initialize the Random Forest Classifier model\n",
    "rf = RandomForestClassifier(random_state=42)\n",
    "\n",
    "#Train the model\n",
    "rf.fit(X_train_resampled, y_train_resampled)\n",
    "\n",
    "#Make predictions\n",
    "y_pred_rf = rf.predict(X_test)\n",
    "\n",
    "#Evaluate the model\n",
    "accuracy= accuracy_score(y_test, y_pred_rf)\n",
    "precision = precision_score(y_test, y_pred_rf)\n",
    "recall = recall_score(y_test, y_pred_rf)\n",
    "f1 = f1_score(y_test, y_pred_rf)\n",
    "auc_roc = roc_auc_score(y_test, y_pred_rf)\n",
    "print(f\"RandomForest Classifier Accuracy: {accuracy :.4f}\")\n",
    "print(f\"RandomForest Classifier Precision: {precision :.4f}\")\n",
    "print(f\"RandomForest Classifier recall: {recall :.4f}\")\n",
    "print(f\"RandomForest Classifier f1_score: {f1 :.4f}\")\n",
    "print(f\"RandomForest Classifierr auc_roc: {auc_roc :.4f}\")\n",
    "\n",
    "print(classification_report(y_test, y_pred_rf))\n",
    "print (\"Confusion Matrix:\\n\", confusion_matrix(y_test, y_pred_rf))\n",
    "print(\"ROC AUC Score:\", roc_auc_score(y_test, rf.predict_proba(X_test)[:, 1]))\n",
    "\n",
    "\n",
    "print(\"Training Accuracy :\", rf.score(X_train, y_train))\n",
    "print(\"Training Resampled Accuracy :\", rf.score(X_train_resampled, y_train_resampled))\n",
    "print(\"Testing Accuracy :\", rf.score(X_test, y_test))"
   ]
  },
  {
   "cell_type": "markdown",
   "id": "6a894517-ea49-488e-8286-cd438b0fce44",
   "metadata": {},
   "source": [
    "CONFUSION MATRIX \n",
    "-----------"
   ]
  },
  {
   "cell_type": "code",
   "execution_count": 8,
   "id": "1d5ee3d9-3ce4-4e9b-b2cf-cf445584540f",
   "metadata": {},
   "outputs": [
    {
     "name": "stdout",
     "output_type": "stream",
     "text": [
      "True positives: 73\n",
      "False positives: 15\n",
      "True negatives: 497\n",
      "False negatives: 15\n",
      "\n"
     ]
    }
   ],
   "source": [
    "y_pred_rf = rf.predict(X_test)\n",
    "tn, fp, fn, tp = metrics.confusion_matrix(y_test, y_pred_rf).ravel()\n",
    "\n",
    "print(f\"True positives: {tp}\")\n",
    "print(f\"False positives: {fp}\")\n",
    "print(f\"True negatives: {tn}\")\n",
    "print(f\"False negatives: {fn}\\n\")"
   ]
  },
  {
   "cell_type": "code",
   "execution_count": 9,
   "id": "53358bcd-30c8-4009-809f-48738b0a14ab",
   "metadata": {},
   "outputs": [
    {
     "data": {
      "image/png": "[encoded data removed]",
      "text/plain": [
       "<Figure size 600x600 with 2 Axes>"
      ]
     },
     "metadata": {},
     "output_type": "display_data"
    }
   ],
   "source": [
    "cm = confusion_matrix(y_test, y_pred_rf)\n",
    "\n",
    "#Visualize the Matrix\n",
    "plt.figure(figsize=(6,6))\n",
    "sns.heatmap(cm, annot=True, cmap='viridis', fmt='d',\n",
    "            xticklabels=['Non Churn', 'Churn'],\n",
    "            yticklabels=['Non Churn', 'Churn'])\n",
    "\n",
    "plt.xlabel('Predicted')\n",
    "plt.ylabel('Actual')\n",
    "plt.title('Confusion Matrix of the  RandomForest Classifier', size=18, color='black', fontweight= 'bold')\n",
    "plt.show()"
   ]
  },
  {
   "cell_type": "markdown",
   "id": "892ec38c-4d12-4696-8a27-7636558a7a9d",
   "metadata": {},
   "source": [
    "EVALUATION OF THE MACHINE LEARNING ALGORITHMS\n",
    "-----------------"
   ]
  },
  {
   "cell_type": "code",
   "execution_count": 10,
   "id": "c5de5ec4-76e7-4d1c-a4cb-7e4676825551",
   "metadata": {},
   "outputs": [
    {
     "data": {
      "text/html": [
       "<div>\n",
       "<style scoped>\n",
       "    .dataframe tbody tr th:only-of-type {\n",
       "        vertical-align: middle;\n",
       "    }\n",
       "\n",
       "    .dataframe tbody tr th {\n",
       "        vertical-align: top;\n",
       "    }\n",
       "\n",
       "    .dataframe thead th {\n",
       "        text-align: right;\n",
       "    }\n",
       "</style>\n",
       "<table border=\"1\" class=\"dataframe\">\n",
       "  <thead>\n",
       "    <tr style=\"text-align: right;\">\n",
       "      <th></th>\n",
       "      <th>ALGORITHMS</th>\n",
       "      <th>ACCURACY</th>\n",
       "      <th>PRECISION</th>\n",
       "      <th>RECALL</th>\n",
       "      <th>F1_SCORE</th>\n",
       "      <th>ROC_AUC</th>\n",
       "    </tr>\n",
       "  </thead>\n",
       "  <tbody>\n",
       "    <tr>\n",
       "      <th>0</th>\n",
       "      <td>RandomForestClassifier</td>\n",
       "      <td>95.0</td>\n",
       "      <td>82.954545</td>\n",
       "      <td>82.954545</td>\n",
       "      <td>82.954545</td>\n",
       "      <td>90.012429</td>\n",
       "    </tr>\n",
       "  </tbody>\n",
       "</table>\n",
       "</div>"
      ],
      "text/plain": [
       "               ALGORITHMS  ACCURACY  PRECISION     RECALL   F1_SCORE  \\\n",
       "0  RandomForestClassifier      95.0  82.954545  82.954545  82.954545   \n",
       "\n",
       "     ROC_AUC  \n",
       "0  90.012429  "
      ]
     },
     "execution_count": 10,
     "metadata": {},
     "output_type": "execute_result"
    }
   ],
   "source": [
    "final_data = pd.DataFrame({\"ALGORITHMS\":[\"RandomForestClassifier\"], \n",
    "                           \"ACCURACY\":[accuracy_score(y_test, y_pred_rf)*100],\n",
    "                         \"PRECISION\":[precision_score(y_test, y_pred_rf)*100],\n",
    "                          \"RECALL\":[recall_score(y_test, y_pred_rf)*100],\n",
    "                          \"F1_SCORE\":[f1_score(y_test, y_pred_rf)*100], \n",
    "                            \"ROC_AUC\":[roc_auc_score(y_test, y_pred_rf)*100], \n",
    "                           \n",
    "                        })\n",
    "\n",
    "final_data"
   ]
  },
  {
   "cell_type": "markdown",
   "id": "94bf2695-51a4-4077-b957-fb3302c02549",
   "metadata": {},
   "source": [
    "K_FOLD CROSS VALIDATION\n",
    "--------------"
   ]
  },
  {
   "cell_type": "markdown",
   "id": "6b5dfd3f-db84-40de-aeab-b1b2d7a2f556",
   "metadata": {},
   "source": [
    "ACCURACY\n",
    "--------"
   ]
  },
  {
   "cell_type": "code",
   "execution_count": 11,
   "id": "3ca64a4b-c680-433f-ac67-19879f16201a",
   "metadata": {},
   "outputs": [
    {
     "name": "stdout",
     "output_type": "stream",
     "text": [
      "[0.97649573 0.94871795 0.94444444 0.95726496 0.96367521 0.95299145\n",
      " 0.96788009 0.95931478 0.9614561  0.97002141]\n",
      "The std score of cross validation using RandomForest Classifier algorithm is 0.94%\n",
      "The mean score of cross validation using RandomForest Classifier algorithm is 96.02%\n"
     ]
    }
   ],
   "source": [
    "kf = StratifiedKFold(n_splits=10, shuffle=True, random_state=42)\n",
    "\n",
    "rf_accuracies = cross_val_score(rf, X_train_resampled, y_train_resampled, cv=kf, scoring='accuracy')\n",
    "print(rf_accuracies)\n",
    "rf_avg_accuracy = np.mean(rf_accuracies)\n",
    "rf_std_accuracy = np.std(rf_accuracies)\n",
    "print(f\"The std score of cross validation using RandomForest Classifier algorithm is {rf_std_accuracy * 100:.2f}%\")\n",
    "print(f\"The mean score of cross validation using RandomForest Classifier algorithm is {rf_avg_accuracy * 100:.2f}%\")"
   ]
  },
  {
   "cell_type": "markdown",
   "id": "3f44536f-aebe-443b-a7e1-63b95d42be80",
   "metadata": {},
   "source": [
    "PRECISION\n",
    "--------"
   ]
  },
  {
   "cell_type": "code",
   "execution_count": 12,
   "id": "a2e0e668-dbcd-44b1-a620-13d28274236f",
   "metadata": {},
   "outputs": [
    {
     "name": "stdout",
     "output_type": "stream",
     "text": [
      "[0.99118943 0.96875    0.96428571 0.9612069  0.96969697 0.96902655\n",
      " 0.96982759 0.96929825 0.95378151 0.98245614]\n",
      "The std score of cross validation using RandomForest Classifier algorithm is 0.99%\n",
      "The mean score of cross validation using RandomForest Classifier algorithm is 97.00%\n"
     ]
    }
   ],
   "source": [
    "kf = StratifiedKFold(n_splits=10, shuffle=True, random_state=42)\n",
    "rf_precision = cross_val_score(rf, X_train_resampled, y_train_resampled, cv=kf, scoring='precision')\n",
    "print(rf_precision)\n",
    "rf_avg_precision = np.mean(rf_precision)\n",
    "rf_std_precision = np.std(rf_precision)\n",
    "print(f\"The std score of cross validation using RandomForest Classifier algorithm is {rf_std_precision * 100:.2f}%\")\n",
    "print(f\"The mean score of cross validation using RandomForest Classifier algorithm is {rf_avg_precision * 100:.2f}%\")"
   ]
  },
  {
   "cell_type": "markdown",
   "id": "1c0fedc7-dba7-45d3-9d90-77cc19592c5b",
   "metadata": {},
   "source": [
    "RECALL\n",
    "----"
   ]
  },
  {
   "cell_type": "code",
   "execution_count": 13,
   "id": "f866baf2-3f9a-4c41-b901-9dbaac05237b",
   "metadata": {},
   "outputs": [
    {
     "name": "stdout",
     "output_type": "stream",
     "text": [
      "[0.96153846 0.92735043 0.92307692 0.95299145 0.95726496 0.93589744\n",
      " 0.96566524 0.94849785 0.97008547 0.95726496]\n",
      "The std score of cross validation using RandomForest Classifier algorithm is 1.53%\n",
      "The mean score of cross validation using RandomForest Classifier algorithm is 95.00%\n"
     ]
    }
   ],
   "source": [
    "kf = StratifiedKFold(n_splits=10, shuffle=True, random_state=42)\n",
    "rf_recall = cross_val_score(rf, X_train_resampled, y_train_resampled, cv=kf, scoring='recall')\n",
    "print(rf_recall)\n",
    "rf_avg_recall = np.mean(rf_recall)\n",
    "rf_std_recall = np.std(rf_recall)\n",
    "print(f\"The std score of cross validation using RandomForest Classifier algorithm is {rf_std_recall * 100:.2f}%\")\n",
    "print(f\"The mean score of cross validation using RandomForest Classifier algorithm is {rf_avg_recall * 100:.2f}%\")"
   ]
  },
  {
   "cell_type": "markdown",
   "id": "a68d63bd-4828-494e-94d8-4c0647629744",
   "metadata": {},
   "source": [
    "F1_SCORE\n",
    "----"
   ]
  },
  {
   "cell_type": "code",
   "execution_count": 14,
   "id": "e991da5f-e9c0-4ec3-967a-e5f8274eba2e",
   "metadata": {},
   "outputs": [
    {
     "name": "stdout",
     "output_type": "stream",
     "text": [
      "[0.97613883 0.94759825 0.94323144 0.95708155 0.96344086 0.95217391\n",
      " 0.96774194 0.95878525 0.96186441 0.96969697]\n",
      "The std score of cross validation using RandomForest Classifier algorithm is 0.97%\n",
      "The mean score of cross validation using RandomForest Classifier algorithm is 95.98%\n"
     ]
    }
   ],
   "source": [
    "kf = StratifiedKFold(n_splits=10, shuffle=True, random_state=42)\n",
    "rf_f1 = cross_val_score(rf, X_train_resampled, y_train_resampled, cv=kf, scoring='f1')\n",
    "print(rf_f1)\n",
    "rf_avg_f1 = np.mean(rf_f1)\n",
    "rf_std_f1 = np.std(rf_f1)\n",
    "print(f\"The std score of cross validation using RandomForest Classifier algorithm is {rf_std_f1 * 100:.2f}%\")\n",
    "print(f\"The mean score of cross validation using RandomForest Classifier algorithm is {rf_avg_f1 * 100:.2f}%\")"
   ]
  },
  {
   "cell_type": "markdown",
   "id": "952b85b8-e99b-4d70-b496-a90cdc287483",
   "metadata": {},
   "source": [
    "CHECKING IF IT IS OVERFITTING OR NOT\n",
    "---------------"
   ]
  },
  {
   "cell_type": "code",
   "execution_count": 15,
   "id": "8173e624-b668-43e4-8a9b-9f00786e17d4",
   "metadata": {},
   "outputs": [
    {
     "name": "stdout",
     "output_type": "stream",
     "text": [
      "Model generalizes well: Cross_validation accuracy is higher or close to test accuracy\n"
     ]
    }
   ],
   "source": [
    "if rf_avg_accuracy > accuracy:\n",
    "    print(\"Model generalizes well: Cross_validation accuracy is higher or close to test accuracy\")\n",
    "else:\n",
    "    print(\"Model might be overfitting: Cross validation accuracy is lower than test accuracy\")"
   ]
  },
  {
   "cell_type": "code",
   "execution_count": 16,
   "id": "baf52008-a2a6-4951-8ba0-461441a75cdd",
   "metadata": {},
   "outputs": [
    {
     "name": "stdout",
     "output_type": "stream",
     "text": [
      "Model generalizes well: Cross_validation accuracy is higher or close to test precision\n"
     ]
    }
   ],
   "source": [
    "if rf_avg_accuracy > precision:\n",
    "    print(\"Model generalizes well: Cross_validation accuracy is higher or close to test precision\")\n",
    "else:\n",
    "    print(\"Model might be overfitting: Cross validation accuracy is lower than test precision\")"
   ]
  },
  {
   "cell_type": "code",
   "execution_count": 17,
   "id": "2b6af28d-7486-439d-b380-4d11c865818f",
   "metadata": {},
   "outputs": [
    {
     "name": "stdout",
     "output_type": "stream",
     "text": [
      "Model generalizes well: Cross_validation accuracy is higher or close to test recall\n"
     ]
    }
   ],
   "source": [
    "if rf_avg_accuracy > recall:\n",
    "    print(\"Model generalizes well: Cross_validation accuracy is higher or close to test recall\")\n",
    "else:\n",
    "    print(\"Model might be overfitting: Cross validation accuracy is lower than test recall\")"
   ]
  },
  {
   "cell_type": "code",
   "execution_count": 18,
   "id": "2c0f82e9-d009-44c3-83f7-e6bdf9364979",
   "metadata": {},
   "outputs": [
    {
     "name": "stdout",
     "output_type": "stream",
     "text": [
      "Model generalizes well: Cross_validation accuracy is higher or close to test f1_score\n"
     ]
    }
   ],
   "source": [
    "if rf_avg_f1 > f1:\n",
    "    print(\"Model generalizes well: Cross_validation accuracy is higher or close to test f1_score\")\n",
    "else:\n",
    "    print(\"Model might be overfitting: Cross validation accuracy is lower than test f1_score\")"
   ]
  },
  {
   "cell_type": "markdown",
   "id": "d660923c-c149-43df-a41d-89bbe7146228",
   "metadata": {},
   "source": [
    "Total KFold Validation\n",
    "------------"
   ]
  },
  {
   "cell_type": "code",
   "execution_count": 19,
   "id": "97b3783a-ad81-4c35-a5a8-ad5c1773c0d5",
   "metadata": {},
   "outputs": [
    {
     "data": {
      "text/html": [
       "<div>\n",
       "<style scoped>\n",
       "    .dataframe tbody tr th:only-of-type {\n",
       "        vertical-align: middle;\n",
       "    }\n",
       "\n",
       "    .dataframe tbody tr th {\n",
       "        vertical-align: top;\n",
       "    }\n",
       "\n",
       "    .dataframe thead th {\n",
       "        text-align: right;\n",
       "    }\n",
       "</style>\n",
       "<table border=\"1\" class=\"dataframe\">\n",
       "  <thead>\n",
       "    <tr style=\"text-align: right;\">\n",
       "      <th></th>\n",
       "      <th>ALGORITHMS</th>\n",
       "      <th>ACCURACY</th>\n",
       "      <th>PRECISION</th>\n",
       "      <th>RECALL</th>\n",
       "      <th>F1_SCORE</th>\n",
       "    </tr>\n",
       "  </thead>\n",
       "  <tbody>\n",
       "    <tr>\n",
       "      <th>0</th>\n",
       "      <td>RandomForest Classifier</td>\n",
       "      <td>96.022621</td>\n",
       "      <td>96.99519</td>\n",
       "      <td>94.996332</td>\n",
       "      <td>95.977534</td>\n",
       "    </tr>\n",
       "  </tbody>\n",
       "</table>\n",
       "</div>"
      ],
      "text/plain": [
       "                ALGORITHMS   ACCURACY  PRECISION     RECALL   F1_SCORE\n",
       "0  RandomForest Classifier  96.022621   96.99519  94.996332  95.977534"
      ]
     },
     "execution_count": 19,
     "metadata": {},
     "output_type": "execute_result"
    }
   ],
   "source": [
    "final_kfold = pd.DataFrame({\"ALGORITHMS\":[\"RandomForest Classifier\"], \n",
    "                           \"ACCURACY\":[rf_avg_accuracy * 100],\n",
    "                         \"PRECISION\":[rf_avg_precision * 100],\n",
    "                          \"RECALL\":[rf_avg_recall * 100],\n",
    "                          \"F1_SCORE\":[rf_avg_f1 * 100],  \n",
    "                           \n",
    "                        })\n",
    "\n",
    "final_kfold"
   ]
  },
  {
   "cell_type": "markdown",
   "id": "315ea987-c075-4838-b256-24ace38f3ace",
   "metadata": {},
   "source": [
    "FEATURE IMPORTANCE\n",
    "------------"
   ]
  },
  {
   "cell_type": "code",
   "execution_count": 20,
   "id": "716fb370-6b99-44a4-ab14-a4ece490e455",
   "metadata": {},
   "outputs": [
    {
     "data": {
      "image/png": "[encoded data removed]",
      "text/plain": [
       "<Figure size 1000x600 with 1 Axes>"
      ]
     },
     "metadata": {},
     "output_type": "display_data"
    }
   ],
   "source": [
    "# Fit the best Random Forest model on the entire training data\n",
    "\n",
    "rf.fit(X_train_resampled, y_train_resampled)\n",
    "\n",
    "# Get feature importances\n",
    "best_features = rf.feature_importances_\n",
    "\n",
    "# Create a DataFrame to display feature names and their importances\n",
    "feature_df = pd.DataFrame({'Feature': X_test.columns, 'Importance': best_features})\n",
    "\n",
    "# Sort features by importance in descending order\n",
    "feature_importance_rf = feature_df.sort_values(by='Importance', ascending=False)\n",
    "\n",
    "# Plot feature importance\n",
    "plt.figure(figsize=(10, 6))\n",
    "sns.barplot(x='Importance', y='Feature', data=feature_importance_rf, palette='coolwarm', hue='Feature', legend=False)\n",
    "plt.title('Feature Importance of Random Forest Classifier', size=18, color='black', fontweight= 'bold')   \n",
    "plt.show()"
   ]
  },
  {
   "cell_type": "code",
   "execution_count": 21,
   "id": "7c154fbc-527c-44ae-808c-8bb6d4c61137",
   "metadata": {},
   "outputs": [
    {
     "data": {
      "text/html": [
       "<div>\n",
       "<style scoped>\n",
       "    .dataframe tbody tr th:only-of-type {\n",
       "        vertical-align: middle;\n",
       "    }\n",
       "\n",
       "    .dataframe tbody tr th {\n",
       "        vertical-align: top;\n",
       "    }\n",
       "\n",
       "    .dataframe thead th {\n",
       "        text-align: right;\n",
       "    }\n",
       "</style>\n",
       "<table border=\"1\" class=\"dataframe\">\n",
       "  <thead>\n",
       "    <tr style=\"text-align: right;\">\n",
       "      <th></th>\n",
       "      <th>Feature</th>\n",
       "      <th>Importance</th>\n",
       "    </tr>\n",
       "  </thead>\n",
       "  <tbody>\n",
       "    <tr>\n",
       "      <th>16</th>\n",
       "      <td>customer service calls</td>\n",
       "      <td>0.174499</td>\n",
       "    </tr>\n",
       "    <tr>\n",
       "      <th>4</th>\n",
       "      <td>total day minutes</td>\n",
       "      <td>0.124693</td>\n",
       "    </tr>\n",
       "    <tr>\n",
       "      <th>6</th>\n",
       "      <td>total day charge</td>\n",
       "      <td>0.116875</td>\n",
       "    </tr>\n",
       "    <tr>\n",
       "      <th>1</th>\n",
       "      <td>international plan</td>\n",
       "      <td>0.107993</td>\n",
       "    </tr>\n",
       "    <tr>\n",
       "      <th>14</th>\n",
       "      <td>total intl calls</td>\n",
       "      <td>0.070586</td>\n",
       "    </tr>\n",
       "    <tr>\n",
       "      <th>9</th>\n",
       "      <td>total eve charge</td>\n",
       "      <td>0.052027</td>\n",
       "    </tr>\n",
       "    <tr>\n",
       "      <th>7</th>\n",
       "      <td>total eve minutes</td>\n",
       "      <td>0.048303</td>\n",
       "    </tr>\n",
       "    <tr>\n",
       "      <th>13</th>\n",
       "      <td>total intl minutes</td>\n",
       "      <td>0.038820</td>\n",
       "    </tr>\n",
       "    <tr>\n",
       "      <th>15</th>\n",
       "      <td>total intl charge</td>\n",
       "      <td>0.038423</td>\n",
       "    </tr>\n",
       "    <tr>\n",
       "      <th>12</th>\n",
       "      <td>total night charge</td>\n",
       "      <td>0.036577</td>\n",
       "    </tr>\n",
       "    <tr>\n",
       "      <th>10</th>\n",
       "      <td>total night minutes</td>\n",
       "      <td>0.034395</td>\n",
       "    </tr>\n",
       "    <tr>\n",
       "      <th>5</th>\n",
       "      <td>total day calls</td>\n",
       "      <td>0.030318</td>\n",
       "    </tr>\n",
       "    <tr>\n",
       "      <th>0</th>\n",
       "      <td>account length</td>\n",
       "      <td>0.028813</td>\n",
       "    </tr>\n",
       "    <tr>\n",
       "      <th>3</th>\n",
       "      <td>number vmail messages</td>\n",
       "      <td>0.026967</td>\n",
       "    </tr>\n",
       "    <tr>\n",
       "      <th>11</th>\n",
       "      <td>total night calls</td>\n",
       "      <td>0.026833</td>\n",
       "    </tr>\n",
       "    <tr>\n",
       "      <th>8</th>\n",
       "      <td>total eve calls</td>\n",
       "      <td>0.026782</td>\n",
       "    </tr>\n",
       "    <tr>\n",
       "      <th>2</th>\n",
       "      <td>voice mail plan</td>\n",
       "      <td>0.017096</td>\n",
       "    </tr>\n",
       "  </tbody>\n",
       "</table>\n",
       "</div>"
      ],
      "text/plain": [
       "                   Feature  Importance\n",
       "16  customer service calls    0.174499\n",
       "4        total day minutes    0.124693\n",
       "6         total day charge    0.116875\n",
       "1       international plan    0.107993\n",
       "14        total intl calls    0.070586\n",
       "9         total eve charge    0.052027\n",
       "7        total eve minutes    0.048303\n",
       "13      total intl minutes    0.038820\n",
       "15       total intl charge    0.038423\n",
       "12      total night charge    0.036577\n",
       "10     total night minutes    0.034395\n",
       "5          total day calls    0.030318\n",
       "0           account length    0.028813\n",
       "3    number vmail messages    0.026967\n",
       "11       total night calls    0.026833\n",
       "8          total eve calls    0.026782\n",
       "2          voice mail plan    0.017096"
      ]
     },
     "execution_count": 21,
     "metadata": {},
     "output_type": "execute_result"
    }
   ],
   "source": [
    "feature_importance_rf"
   ]
  },
  {
   "cell_type": "markdown",
   "id": "71fa83ae-e5fd-4451-ac43-7d751b1fae48",
   "metadata": {},
   "source": [
    "PERMUTATION FEATURE IMPORTANCE\n",
    "--------------"
   ]
  },
  {
   "cell_type": "code",
   "execution_count": 22,
   "id": "d68c5e96-3f55-4bf6-bb36-c9c63d61b20f",
   "metadata": {},
   "outputs": [
    {
     "data": {
      "image/png": "[encoded data removed]",
      "text/plain": [
       "<Figure size 1000x600 with 1 Axes>"
      ]
     },
     "metadata": {},
     "output_type": "display_data"
    }
   ],
   "source": [
    "rf.fit(X_train_resampled, y_train_resampled)\n",
    "\n",
    "#Calculate permutation feature importance\n",
    "result = permutation_importance(rf, X_test, y_test, n_repeats=10, random_state=42) \n",
    "\n",
    "# Get permutation feature importances\n",
    "permutation_importances = result.importances_mean\n",
    "\n",
    "# Create a DataFrame to display feature names and their importances\n",
    "permutation_df = pd.DataFrame({'Feature': X_test.columns, 'Permutation_Importance': permutation_importances})\n",
    "\n",
    "# Sort Permuation features by importance in descending order\n",
    "permutation_importance_rf = permutation_df.sort_values(by='Permutation_Importance', ascending=False)\n",
    "\n",
    "# Plot feature importance\n",
    "plt.figure(figsize=(10, 6))\n",
    "sns.barplot(x='Permutation_Importance', y='Feature', data=permutation_importance_rf, palette='coolwarm', hue='Feature', legend=False)\n",
    "plt.title('Permutation Feature Importance of Random Forest Classifier', size=18, color='black', fontweight= 'bold')  \n",
    "plt.show()"
   ]
  },
  {
   "cell_type": "code",
   "execution_count": 23,
   "id": "d00a1509-20eb-431f-b5cc-9bc0bf772e77",
   "metadata": {},
   "outputs": [
    {
     "data": {
      "text/html": [
       "<div>\n",
       "<style scoped>\n",
       "    .dataframe tbody tr th:only-of-type {\n",
       "        vertical-align: middle;\n",
       "    }\n",
       "\n",
       "    .dataframe tbody tr th {\n",
       "        vertical-align: top;\n",
       "    }\n",
       "\n",
       "    .dataframe thead th {\n",
       "        text-align: right;\n",
       "    }\n",
       "</style>\n",
       "<table border=\"1\" class=\"dataframe\">\n",
       "  <thead>\n",
       "    <tr style=\"text-align: right;\">\n",
       "      <th></th>\n",
       "      <th>Feature</th>\n",
       "      <th>Permutation_Importance</th>\n",
       "    </tr>\n",
       "  </thead>\n",
       "  <tbody>\n",
       "    <tr>\n",
       "      <th>1</th>\n",
       "      <td>international plan</td>\n",
       "      <td>0.051167</td>\n",
       "    </tr>\n",
       "    <tr>\n",
       "      <th>16</th>\n",
       "      <td>customer service calls</td>\n",
       "      <td>0.047667</td>\n",
       "    </tr>\n",
       "    <tr>\n",
       "      <th>6</th>\n",
       "      <td>total day charge</td>\n",
       "      <td>0.039833</td>\n",
       "    </tr>\n",
       "    <tr>\n",
       "      <th>4</th>\n",
       "      <td>total day minutes</td>\n",
       "      <td>0.033500</td>\n",
       "    </tr>\n",
       "    <tr>\n",
       "      <th>14</th>\n",
       "      <td>total intl calls</td>\n",
       "      <td>0.023000</td>\n",
       "    </tr>\n",
       "    <tr>\n",
       "      <th>9</th>\n",
       "      <td>total eve charge</td>\n",
       "      <td>0.018500</td>\n",
       "    </tr>\n",
       "    <tr>\n",
       "      <th>7</th>\n",
       "      <td>total eve minutes</td>\n",
       "      <td>0.015000</td>\n",
       "    </tr>\n",
       "    <tr>\n",
       "      <th>15</th>\n",
       "      <td>total intl charge</td>\n",
       "      <td>0.010333</td>\n",
       "    </tr>\n",
       "    <tr>\n",
       "      <th>3</th>\n",
       "      <td>number vmail messages</td>\n",
       "      <td>0.009833</td>\n",
       "    </tr>\n",
       "    <tr>\n",
       "      <th>13</th>\n",
       "      <td>total intl minutes</td>\n",
       "      <td>0.009000</td>\n",
       "    </tr>\n",
       "    <tr>\n",
       "      <th>2</th>\n",
       "      <td>voice mail plan</td>\n",
       "      <td>0.008333</td>\n",
       "    </tr>\n",
       "    <tr>\n",
       "      <th>11</th>\n",
       "      <td>total night calls</td>\n",
       "      <td>0.003167</td>\n",
       "    </tr>\n",
       "    <tr>\n",
       "      <th>0</th>\n",
       "      <td>account length</td>\n",
       "      <td>0.002333</td>\n",
       "    </tr>\n",
       "    <tr>\n",
       "      <th>10</th>\n",
       "      <td>total night minutes</td>\n",
       "      <td>0.002167</td>\n",
       "    </tr>\n",
       "    <tr>\n",
       "      <th>8</th>\n",
       "      <td>total eve calls</td>\n",
       "      <td>0.002000</td>\n",
       "    </tr>\n",
       "    <tr>\n",
       "      <th>12</th>\n",
       "      <td>total night charge</td>\n",
       "      <td>0.001833</td>\n",
       "    </tr>\n",
       "    <tr>\n",
       "      <th>5</th>\n",
       "      <td>total day calls</td>\n",
       "      <td>-0.000333</td>\n",
       "    </tr>\n",
       "  </tbody>\n",
       "</table>\n",
       "</div>"
      ],
      "text/plain": [
       "                   Feature  Permutation_Importance\n",
       "1       international plan                0.051167\n",
       "16  customer service calls                0.047667\n",
       "6         total day charge                0.039833\n",
       "4        total day minutes                0.033500\n",
       "14        total intl calls                0.023000\n",
       "9         total eve charge                0.018500\n",
       "7        total eve minutes                0.015000\n",
       "15       total intl charge                0.010333\n",
       "3    number vmail messages                0.009833\n",
       "13      total intl minutes                0.009000\n",
       "2          voice mail plan                0.008333\n",
       "11       total night calls                0.003167\n",
       "0           account length                0.002333\n",
       "10     total night minutes                0.002167\n",
       "8          total eve calls                0.002000\n",
       "12      total night charge                0.001833\n",
       "5          total day calls               -0.000333"
      ]
     },
     "execution_count": 23,
     "metadata": {},
     "output_type": "execute_result"
    }
   ],
   "source": [
    "permutation_importance_rf"
   ]
  },
  {
   "cell_type": "markdown",
   "id": "52155f95-40e1-4b5c-994b-ce4cea55f0c7",
   "metadata": {},
   "source": [
    "RECRUSIVE FEATURE ELIMINATION\n",
    "--------------"
   ]
  },
  {
   "cell_type": "code",
   "execution_count": 24,
   "id": "ce634d57-3f40-457e-b6fd-7c706eda88ff",
   "metadata": {},
   "outputs": [
    {
     "name": "stdout",
     "output_type": "stream",
     "text": [
      "Selected Features:                    Feature  Importance\n",
      "1       international plan    0.107993\n",
      "4        total day minutes    0.124693\n",
      "6         total day charge    0.116875\n",
      "9         total eve charge    0.052027\n",
      "14        total intl calls    0.070586\n",
      "16  customer service calls    0.174499\n"
     ]
    }
   ],
   "source": [
    "rf.fit(X_train_resampled, y_train_resampled)\n",
    "#Selected Features\n",
    "importances = rf.feature_importances_\n",
    "feature_importance = pd.DataFrame({'Feature': X_test.columns, 'Importance': importances})\n",
    "selected_features = feature_importance[feature_importance['Importance'] > 0.05]\n",
    "print(\"Selected Features:\", selected_features)"
   ]
  },
  {
   "cell_type": "code",
   "execution_count": 25,
   "id": "d9bd1df1-6313-4da5-a972-b256d509eb46",
   "metadata": {},
   "outputs": [
    {
     "name": "stdout",
     "output_type": "stream",
     "text": [
      "Selected Features: Index(['total day minutes', 'total day charge', 'total eve minutes',\n",
      "       'total intl calls', 'customer service calls'],\n",
      "      dtype='object')\n"
     ]
    }
   ],
   "source": [
    "#Apply RFE\n",
    "selector = RFE(rf, n_features_to_select=5)\n",
    "selector = selector.fit(X_train_resampled, y_train_resampled)\n",
    "#Selected Features\n",
    "selected_features = X_test.columns[selector.support_]\n",
    "print(\"Selected Features:\", selected_features)"
   ]
  }
 ],
 "metadata": {
  "kernelspec": {
   "display_name": "Python 3 (ipykernel)",
   "language": "python",
   "name": "python3"
  },
  "language_info": {
   "codemirror_mode": {
    "name": "ipython",
    "version": 3
   },
   "file_extension": ".py",
   "mimetype": "text/x-python",
   "name": "python",
   "nbconvert_exporter": "python",
   "pygments_lexer": "ipython3",
   "version": "3.12.4"
  }
 },
 "nbformat": 4,
 "nbformat_minor": 5
}
