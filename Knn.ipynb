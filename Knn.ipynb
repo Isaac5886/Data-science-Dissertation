{
 "cells": [
  {
   "cell_type": "markdown",
   "id": "012b6456-f0c1-410c-91e3-541f984331ac",
   "metadata": {},
   "source": [
    "DATA LOADING AND INSPECTION\n",
    "-------------"
   ]
  },
  {
   "cell_type": "code",
   "execution_count": 1,
   "id": "4c97f28b-ea72-4461-88c2-c1e710bfb7ab",
   "metadata": {},
   "outputs": [],
   "source": [
    "#Importing libraries\n",
    "\n",
    "#Packages for numeric\n",
    "import pandas as pd\n",
    "import numpy as np\n",
    "\n",
    "#Packages for Visualization\n",
    "import matplotlib.pyplot as plt\n",
    "import seaborn as sns\n",
    "import matplotlib.pyplot as plt \n",
    "import plotly.express as px\n",
    "\n",
    "# Modeling\n",
    "from sklearn.model_selection import train_test_split,cross_val_score,StratifiedKFold, KFold\n",
    "from imblearn.over_sampling import SMOTE,SMOTENC\n",
    "from sklearn.metrics import f1_score,recall_score,precision_score,confusion_matrix,roc_curve,roc_auc_score,classification_report, accuracy_score,log_loss# performance metrics\n",
    "from scipy import stats\n",
    "from sklearn import metrics\n",
    "from sklearn.preprocessing import MinMaxScaler, OneHotEncoder, LabelEncoder, StandardScaler\n",
    "\n",
    "\n",
    "#Classifier module\n",
    "from sklearn.neighbors import KNeighborsClassifier\n",
    "\n",
    "\n",
    "# Filtering future warnings\n",
    "import warnings\n",
    "warnings.filterwarnings('ignore')"
   ]
  },
  {
   "cell_type": "code",
   "execution_count": 2,
   "id": "8021077b-91bd-4a66-8792-06151deb03ba",
   "metadata": {},
   "outputs": [],
   "source": [
    "# Load the data.\n",
    "telecom = pd.read_csv('tele-churn.csv')"
   ]
  },
  {
   "cell_type": "markdown",
   "id": "2acfffb2-2c6a-44c9-8735-25d2646a70b7",
   "metadata": {},
   "source": [
    "Data Preprocessing\n",
    "------------\n",
    "Encoding\n",
    "--------"
   ]
  },
  {
   "cell_type": "code",
   "execution_count": 3,
   "id": "9ebd4cf6-c69b-4dfc-a17f-fec280c625a5",
   "metadata": {},
   "outputs": [],
   "source": [
    "# Removing the phone number and state column\n",
    "df1 = telecom.drop(['phone number', 'state', 'area code'], axis=1)\n",
    "\n",
    "# change categorical data into numerical data\n",
    "df1['international plan'] = df1['international plan'].map({'no': 0, 'yes': 1})\n",
    "df1['voice mail plan'] = df1['voice mail plan'].map({'no': 0, 'yes': 1})\n",
    "df1['churn'] = df1['churn'].map({False : 0, True : 1})"
   ]
  },
  {
   "cell_type": "markdown",
   "id": "267bcfe0-1f27-4056-acc8-9ca70487e348",
   "metadata": {},
   "source": [
    "FEATURES SCALING / STANDARDIZATION\n",
    "---------------"
   ]
  },
  {
   "cell_type": "code",
   "execution_count": 4,
   "id": "7c6bd735-2b7b-4d4f-b0bc-d86f1ae45184",
   "metadata": {},
   "outputs": [],
   "source": [
    "# Scaling the data\n",
    "from sklearn.preprocessing import MinMaxScaler\n",
    "scaler = MinMaxScaler()\n",
    "\n",
    "# Define function for scaling a column\n",
    "def scaling(column):\n",
    "    return scaler.fit_transform(df1[[column]])\n",
    "\n",
    "# Iterate through numerical columns and scale them\n",
    "for column in df1.select_dtypes(include=[np.number]).columns:\n",
    "    df1[[column]] = scaling(column)"
   ]
  },
  {
   "cell_type": "code",
   "execution_count": 5,
   "id": "34993625-b37c-47f7-b337-c48a4744df35",
   "metadata": {},
   "outputs": [
    {
     "name": "stdout",
     "output_type": "stream",
     "text": [
      "Test set size: (600, 17)\n",
      "Train set size: (2733,)\n",
      "Test set size: (600,)\n"
     ]
    }
   ],
   "source": [
    "# Creating a Test and Train Dataset\n",
    "y = df1['churn']\n",
    "X = df1.drop(['churn'], axis=1)\n",
    "\n",
    "from sklearn.model_selection import train_test_split\n",
    "X_train, X_test, y_train, y_test = train_test_split(X, y, test_size=0.18, random_state=42)\n",
    "\n",
    "# Check the shapes of the split dataprint(\"Train set size:\", X_train.shape)\n",
    "print(\"Test set size:\", X_test.shape)\n",
    "print(\"Train set size:\", y_train.shape)\n",
    "print(\"Test set size:\", y_test.shape)"
   ]
  },
  {
   "cell_type": "markdown",
   "id": "f01f3dbb-3ab9-4e7a-ace1-988e9a6b833d",
   "metadata": {},
   "source": [
    "SMOTE\n",
    "---------"
   ]
  },
  {
   "cell_type": "code",
   "execution_count": 6,
   "id": "6b4f0ff5-1e00-4166-b8ec-485a96cb2e3a",
   "metadata": {},
   "outputs": [
    {
     "name": "stdout",
     "output_type": "stream",
     "text": [
      "Shape of X_train_resampled: (4676, 17)\n",
      "\n",
      "Value counts of y_train_resampled:\n",
      " churn\n",
      "0.0    2338\n",
      "1.0    2338\n",
      "Name: count, dtype: int64\n"
     ]
    }
   ],
   "source": [
    "from imblearn.over_sampling import SMOTE\n",
    "smote = SMOTE(random_state=42)\n",
    "# Resample the training data\n",
    "\n",
    "smote = SMOTE(random_state=42)\n",
    "X_train_resampled, y_train_resampled = smote.fit_resample(X_train, y_train)\n",
    "\n",
    "# Check the shape of the resampled data\n",
    "print(\"Shape of X_train_resampled:\", X_train_resampled.shape)\n",
    "print(\"\\nValue counts of y_train_resampled:\\n\", y_train_resampled.value_counts())"
   ]
  },
  {
   "cell_type": "markdown",
   "id": "15ae8c03-a7b4-43a5-ab44-c9a07a87f44a",
   "metadata": {},
   "source": [
    "DATA MODELING¶\n",
    "------------\n",
    "DECISION TREE CLASSIFIER\n",
    "-------------"
   ]
  },
  {
   "cell_type": "code",
   "execution_count": 7,
   "id": "6d56f898-e215-43db-ace7-fcb2c4b49e76",
   "metadata": {},
   "outputs": [
    {
     "name": "stdout",
     "output_type": "stream",
     "text": [
      "KNeighbors Classifier Accuracy: 0.8033\n",
      "KNeighbors Classifier Precision: 0.4085\n",
      "KNeighbors Classifier recall: 0.7614\n",
      "KNeighbors Classifier f1_score: 0.5317\n",
      "KNeighbors Classifier auc_roc: 0.7860\n",
      "              precision    recall  f1-score   support\n",
      "\n",
      "         0.0       0.95      0.81      0.88       512\n",
      "         1.0       0.41      0.76      0.53        88\n",
      "\n",
      "    accuracy                           0.80       600\n",
      "   macro avg       0.68      0.79      0.70       600\n",
      "weighted avg       0.87      0.80      0.83       600\n",
      "\n",
      "Confusion Matrix:\n",
      " [[415  97]\n",
      " [ 21  67]]\n",
      "ROC AUC Score: 0.8526611328125\n",
      "KNeighbors Classifier\n",
      "Training Accuracy : 0.8880351262349067\n",
      "Training Resampled Accuracy : 0.9341317365269461\n",
      "Testing Accuracy : 0.8033333333333333\n"
     ]
    }
   ],
   "source": [
    "#Initialize the Gradient Boosting model\n",
    "knn =  KNeighborsClassifier ()\n",
    "\n",
    "#Train the model\n",
    "knn.fit(X_train_resampled, y_train_resampled)\n",
    "\n",
    "#Make predictions\n",
    "y_pred_knn = knn.predict(X_test)\n",
    "\n",
    "#Evaluate the model\n",
    "accuracy= accuracy_score(y_test, y_pred_knn)\n",
    "precision = precision_score(y_test, y_pred_knn)\n",
    "recall = recall_score(y_test, y_pred_knn)\n",
    "f1 = f1_score(y_test, y_pred_knn)\n",
    "auc_roc = roc_auc_score(y_test, y_pred_knn)\n",
    "print(f\"KNeighbors Classifier Accuracy: {accuracy :.4f}\")\n",
    "print(f\"KNeighbors Classifier Precision: {precision :.4f}\")\n",
    "print(f\"KNeighbors Classifier recall: {recall :.4f}\")\n",
    "print(f\"KNeighbors Classifier f1_score: {f1 :.4f}\")\n",
    "print(f\"KNeighbors Classifier auc_roc: {auc_roc :.4f}\")\n",
    "print(classification_report(y_test, y_pred_knn))\n",
    "print (\"Confusion Matrix:\\n\", confusion_matrix(y_test, y_pred_knn))\n",
    "print(\"ROC AUC Score:\", roc_auc_score(y_test, knn.predict_proba(X_test)[:, 1]))\n",
    "\n",
    "print (\"KNeighbors Classifier\")\n",
    "print(\"Training Accuracy :\", knn.score(X_train, y_train))\n",
    "print(\"Training Resampled Accuracy :\", knn.score(X_train_resampled, y_train_resampled))\n",
    "print(\"Testing Accuracy :\", knn.score(X_test, y_test))"
   ]
  },
  {
   "cell_type": "markdown",
   "id": "c993667d-3d5a-497c-a1ee-cb616cc645f1",
   "metadata": {},
   "source": [
    "CONFUSION MATRIX \n",
    "----------------------"
   ]
  },
  {
   "cell_type": "code",
   "execution_count": 8,
   "id": "f90c8738-a158-4074-a405-f7bfca232aa8",
   "metadata": {},
   "outputs": [
    {
     "name": "stdout",
     "output_type": "stream",
     "text": [
      "True positives: 67\n",
      "False positives: 97\n",
      "True negatives: 415\n",
      "False negatives: 21\n",
      "\n"
     ]
    }
   ],
   "source": [
    "y_pred_knn = knn.predict(X_test)\n",
    "tn, fp, fn, tp = metrics.confusion_matrix(y_test, y_pred_knn).ravel()\n",
    "\n",
    "print(f\"True positives: {tp}\")\n",
    "print(f\"False positives: {fp}\")\n",
    "print(f\"True negatives: {tn}\")\n",
    "print(f\"False negatives: {fn}\\n\")"
   ]
  },
  {
   "cell_type": "code",
   "execution_count": 9,
   "id": "f5184a24-9ed2-464d-a579-714629d1788d",
   "metadata": {},
   "outputs": [
    {
     "data": {
      "image/png": "[encoded data removed]",
      "text/plain": [
       "<Figure size 600x600 with 2 Axes>"
      ]
     },
     "metadata": {},
     "output_type": "display_data"
    }
   ],
   "source": [
    "#Build confusion Matrix\n",
    "cm = confusion_matrix(y_test, y_pred_knn)\n",
    "\n",
    "#Visualize the Matrix\n",
    "plt.figure(figsize=(6,6))\n",
    "sns.heatmap(cm, annot=True, cmap='viridis', fmt='d',\n",
    "            xticklabels=['Non Churn', 'Churn'],\n",
    "            yticklabels=['Non Churn', 'Churn'])\n",
    "\n",
    "plt.xlabel('Predicted')\n",
    "plt.ylabel('Actual')\n",
    "plt.title('Confusion Matrix of K-Nearest Neighbors Classifier', size=18, color='black', fontweight= 'bold')\n",
    "plt.show()"
   ]
  },
  {
   "cell_type": "markdown",
   "id": "d39102b7-a0f9-406f-92ba-8787192887d2",
   "metadata": {},
   "source": [
    "EVALUATION OF THE MACHINE LEARNING ALGORITHMS\n",
    "------------------"
   ]
  },
  {
   "cell_type": "code",
   "execution_count": 10,
   "id": "505f8fc7-f63e-4092-a154-8a1ec03f0d99",
   "metadata": {},
   "outputs": [
    {
     "data": {
      "text/html": [
       "<div>\n",
       "<style scoped>\n",
       "    .dataframe tbody tr th:only-of-type {\n",
       "        vertical-align: middle;\n",
       "    }\n",
       "\n",
       "    .dataframe tbody tr th {\n",
       "        vertical-align: top;\n",
       "    }\n",
       "\n",
       "    .dataframe thead th {\n",
       "        text-align: right;\n",
       "    }\n",
       "</style>\n",
       "<table border=\"1\" class=\"dataframe\">\n",
       "  <thead>\n",
       "    <tr style=\"text-align: right;\">\n",
       "      <th></th>\n",
       "      <th>ALGORITHMS</th>\n",
       "      <th>ACCURACY</th>\n",
       "      <th>PRECISION</th>\n",
       "      <th>RECALL</th>\n",
       "      <th>F1_SCORE</th>\n",
       "      <th>ROC_AUC</th>\n",
       "    </tr>\n",
       "  </thead>\n",
       "  <tbody>\n",
       "    <tr>\n",
       "      <th>0</th>\n",
       "      <td>-Nearest Neighbors Classifier</td>\n",
       "      <td>80.333333</td>\n",
       "      <td>40.853659</td>\n",
       "      <td>76.136364</td>\n",
       "      <td>53.174603</td>\n",
       "      <td>78.595526</td>\n",
       "    </tr>\n",
       "  </tbody>\n",
       "</table>\n",
       "</div>"
      ],
      "text/plain": [
       "                      ALGORITHMS   ACCURACY  PRECISION     RECALL   F1_SCORE  \\\n",
       "0  -Nearest Neighbors Classifier  80.333333  40.853659  76.136364  53.174603   \n",
       "\n",
       "     ROC_AUC  \n",
       "0  78.595526  "
      ]
     },
     "execution_count": 10,
     "metadata": {},
     "output_type": "execute_result"
    }
   ],
   "source": [
    "final_data = pd.DataFrame({\"ALGORITHMS\":[\"-Nearest Neighbors Classifier\"], \n",
    "                           \"ACCURACY\":[accuracy_score(y_test, y_pred_knn)*100],\n",
    "                         \"PRECISION\":[precision_score(y_test, y_pred_knn)*100],\n",
    "                          \"RECALL\":[recall_score(y_test, y_pred_knn)*100],\n",
    "                          \"F1_SCORE\":[f1_score(y_test, y_pred_knn)*100], \n",
    "                            \"ROC_AUC\":[roc_auc_score(y_test, y_pred_knn)*100], \n",
    "                           \n",
    "                        })\n",
    "\n",
    "final_data"
   ]
  },
  {
   "cell_type": "markdown",
   "id": "af611567-6f2e-44f4-893a-944006c75a95",
   "metadata": {},
   "source": [
    "K_FOLD CROSS VALIDATION\n",
    "------------"
   ]
  },
  {
   "cell_type": "markdown",
   "id": "3b779231-b98d-4cd1-80b7-5d7629120117",
   "metadata": {},
   "source": [
    "ACCURACY\n",
    "--------"
   ]
  },
  {
   "cell_type": "code",
   "execution_count": 11,
   "id": "54eec1b4-b989-4e79-8b54-f07ba7eff1bf",
   "metadata": {},
   "outputs": [
    {
     "name": "stdout",
     "output_type": "stream",
     "text": [
      "[0.92521368 0.88675214 0.90598291 0.89316239 0.89316239 0.90384615\n",
      " 0.9143469  0.90149893 0.91006424 0.91220557]\n",
      "The std score of cross validation using K-Nearest Neighbors Classifier algorithm is 1.10%\n",
      "The mean score of cross validation using K-Nearest Neighbors Classifier algorithm is 90.46%\n"
     ]
    }
   ],
   "source": [
    "kf = StratifiedKFold(n_splits=10, shuffle=True, random_state=42)\n",
    "knn_accuracies = cross_val_score(knn, X_train_resampled, y_train_resampled, cv=kf, scoring='accuracy')\n",
    "print(knn_accuracies)\n",
    "knn_avg_accuracy = np.mean(knn_accuracies)\n",
    "knn_std_accuracy = np.std(knn_accuracies)\n",
    "print(f\"The std score of cross validation using K-Nearest Neighbors Classifier algorithm is {knn_std_accuracy * 100:.2f}%\")\n",
    "print(f\"The mean score of cross validation using K-Nearest Neighbors Classifier algorithm is {knn_avg_accuracy * 100:.2f}%\")"
   ]
  },
  {
   "cell_type": "markdown",
   "id": "7af7770a-65c4-4034-8f4e-9c869a4d46f6",
   "metadata": {},
   "source": [
    "PRECISON\n",
    "----"
   ]
  },
  {
   "cell_type": "code",
   "execution_count": 12,
   "id": "36932ee8-48e2-4aba-b913-0a382519cc66",
   "metadata": {},
   "outputs": [
    {
     "name": "stdout",
     "output_type": "stream",
     "text": [
      "[0.878327   0.81978799 0.84926471 0.83333333 0.83093525 0.84870849\n",
      " 0.85608856 0.84       0.85036496 0.85608856]\n",
      "The std score of cross validation using K-Nearest Neighbors Classifier algorithm is 1.55%\n",
      "The mean score of cross validation using K-Nearest Neighbors Classifier algorithm is 84.63%\n"
     ]
    }
   ],
   "source": [
    "kf = StratifiedKFold(n_splits=10, shuffle=True, random_state=42)\n",
    "\n",
    "knn_precision = cross_val_score(knn, X_train_resampled, y_train_resampled, cv=kf, scoring='precision')\n",
    "print(knn_precision)\n",
    "knn_avg_precision = np.mean(knn_precision)\n",
    "knn_std_precision = np.std(knn_precision)\n",
    "print(f\"The std score of cross validation using K-Nearest Neighbors Classifier algorithm is {knn_std_precision * 100:.2f}%\")\n",
    "print(f\"The mean score of cross validation using K-Nearest Neighbors Classifier algorithm is {knn_avg_precision * 100:.2f}%\")"
   ]
  },
  {
   "cell_type": "markdown",
   "id": "adeff7ac-6bcf-4153-b2ac-3a39da680f05",
   "metadata": {},
   "source": [
    "RECALL\n",
    "---"
   ]
  },
  {
   "cell_type": "code",
   "execution_count": 13,
   "id": "6d839345-a702-4c5c-8bc8-e40415bf1b10",
   "metadata": {},
   "outputs": [
    {
     "name": "stdout",
     "output_type": "stream",
     "text": [
      "[0.98717949 0.99145299 0.98717949 0.98290598 0.98717949 0.98290598\n",
      " 0.99570815 0.99141631 0.9957265  0.99145299]\n",
      "The std score of cross validation using K-Nearest Neighbors Classifier algorithm is 0.44%\n",
      "The mean score of cross validation using K-Nearest Neighbors Classifier algorithm is 98.93%\n"
     ]
    }
   ],
   "source": [
    "kf = StratifiedKFold(n_splits=10, shuffle=True, random_state=42)\n",
    "\n",
    "knn_recall = cross_val_score(knn, X_train_resampled, y_train_resampled, cv=kf, scoring='recall')\n",
    "print(knn_recall)\n",
    "knn_avg_recall = np.mean(knn_recall)\n",
    "knn_std_recall = np.std(knn_recall)\n",
    "print(f\"The std score of cross validation using K-Nearest Neighbors Classifier algorithm is {knn_std_recall * 100:.2f}%\")\n",
    "print(f\"The mean score of cross validation using K-Nearest Neighbors Classifier algorithm is {knn_avg_recall * 100:.2f}%\")"
   ]
  },
  {
   "cell_type": "markdown",
   "id": "fa0240c4-c800-45a2-aa44-db9b8a790bab",
   "metadata": {},
   "source": [
    "F1_SCORE\n",
    "------"
   ]
  },
  {
   "cell_type": "code",
   "execution_count": 14,
   "id": "055bc367-343b-4073-986e-53db9ebac714",
   "metadata": {},
   "outputs": [
    {
     "name": "stdout",
     "output_type": "stream",
     "text": [
      "[0.98717949 0.99145299 0.98717949 0.98290598 0.98717949 0.98290598\n",
      " 0.99570815 0.99141631 0.9957265  0.99145299]\n",
      "The std score of cross validation using K-Nearest Neighbors Classifier algorithm is 0.44%\n",
      "The mean score of cross validation using K-Nearest Neighbors Classifier algorithm is 98.93%\n"
     ]
    }
   ],
   "source": [
    "kf = StratifiedKFold(n_splits=10, shuffle=True, random_state=42)\n",
    "\n",
    "knn_f1 = cross_val_score(knn, X_train_resampled, y_train_resampled, cv=kf, scoring='recall')\n",
    "print(knn_f1)\n",
    "knn_avg_f1 = np.mean(knn_f1)\n",
    "knn_std_f1 = np.std(knn_f1)\n",
    "print(f\"The std score of cross validation using K-Nearest Neighbors Classifier algorithm is {knn_std_f1 * 100:.2f}%\")\n",
    "print(f\"The mean score of cross validation using K-Nearest Neighbors Classifier algorithm is {knn_avg_f1 * 100:.2f}%\")"
   ]
  },
  {
   "cell_type": "markdown",
   "id": "f8914ae4-b9d3-40eb-b308-db31497f0713",
   "metadata": {},
   "source": [
    "CHECKING IF IT IS OVERFITTING OR NOT\n",
    "-----------"
   ]
  },
  {
   "cell_type": "code",
   "execution_count": 15,
   "id": "f8dfc4dc-c169-4eea-a335-8cf91c705bd7",
   "metadata": {},
   "outputs": [
    {
     "name": "stdout",
     "output_type": "stream",
     "text": [
      "Model generalizes well: Cross_validation accuracy is higher or close to test accuracy\n"
     ]
    }
   ],
   "source": [
    "#DecisionTreeClassifier\n",
    "\n",
    "if knn_avg_accuracy > accuracy:\n",
    "    print(\"Model generalizes well: Cross_validation accuracy is higher or close to test accuracy\")\n",
    "else:\n",
    "    print(\"Model might be overfitting: Cross validation accuracy is lower than test accuracy\")"
   ]
  },
  {
   "cell_type": "code",
   "execution_count": 16,
   "id": "a1491ab1-f026-4417-9b60-388e6968b6ab",
   "metadata": {},
   "outputs": [
    {
     "name": "stdout",
     "output_type": "stream",
     "text": [
      "Model generalizes well: Cross_validation accuracy is higher or close to test precision\n"
     ]
    }
   ],
   "source": [
    "#DecisionTreeClassifier\n",
    "\n",
    "if knn_avg_precision > precision:\n",
    "    print(\"Model generalizes well: Cross_validation accuracy is higher or close to test precision\")\n",
    "else:\n",
    "    print(\"Model might be overfitting: Cross validation accuracy is lower than test precision\")"
   ]
  },
  {
   "cell_type": "code",
   "execution_count": 17,
   "id": "cf848783-c3df-464f-8d62-1cece3093a91",
   "metadata": {},
   "outputs": [
    {
     "name": "stdout",
     "output_type": "stream",
     "text": [
      "Model generalizes well: Cross_validation accuracy is higher or close to test recall\n"
     ]
    }
   ],
   "source": [
    "#DecisionTreeClassifier\n",
    "\n",
    "if knn_avg_recall > recall:\n",
    "    print(\"Model generalizes well: Cross_validation accuracy is higher or close to test recall\")\n",
    "else:\n",
    "    print(\"Model might be overfitting: Cross validation accuracy is lower than test recall\")"
   ]
  },
  {
   "cell_type": "code",
   "execution_count": 18,
   "id": "77dd1aad-f6e1-49f6-bc2a-5b7a969e2813",
   "metadata": {},
   "outputs": [
    {
     "name": "stdout",
     "output_type": "stream",
     "text": [
      "Model generalizes well: Cross_validation accuracy is higher or close to test f1_score\n"
     ]
    }
   ],
   "source": [
    "#DecisionTreeClassifier\n",
    "\n",
    "if knn_avg_f1 > f1:\n",
    "    print(\"Model generalizes well: Cross_validation accuracy is higher or close to test f1_score\")\n",
    "else:\n",
    "    print(\"Model might be overfitting: Cross validation accuracy is lower than test f1_score\")"
   ]
  },
  {
   "cell_type": "markdown",
   "id": "c492c0e7-1670-4a1e-a00e-3dd3279e92a6",
   "metadata": {},
   "source": [
    "TOTAL AVERAGE KFOLD\n",
    "--------------"
   ]
  },
  {
   "cell_type": "code",
   "execution_count": 19,
   "id": "43550a54-4631-4899-8cdb-206ba25521c9",
   "metadata": {},
   "outputs": [
    {
     "data": {
      "text/html": [
       "<div>\n",
       "<style scoped>\n",
       "    .dataframe tbody tr th:only-of-type {\n",
       "        vertical-align: middle;\n",
       "    }\n",
       "\n",
       "    .dataframe tbody tr th {\n",
       "        vertical-align: top;\n",
       "    }\n",
       "\n",
       "    .dataframe thead th {\n",
       "        text-align: right;\n",
       "    }\n",
       "</style>\n",
       "<table border=\"1\" class=\"dataframe\">\n",
       "  <thead>\n",
       "    <tr style=\"text-align: right;\">\n",
       "      <th></th>\n",
       "      <th>ALGORITHMS</th>\n",
       "      <th>ACCURACY</th>\n",
       "      <th>PRECISION</th>\n",
       "      <th>RECALL</th>\n",
       "      <th>F1_SCORE</th>\n",
       "    </tr>\n",
       "  </thead>\n",
       "  <tbody>\n",
       "    <tr>\n",
       "      <th>0</th>\n",
       "      <td>K-Nearest Neighbors Classifier</td>\n",
       "      <td>90.462353</td>\n",
       "      <td>84.628988</td>\n",
       "      <td>98.931074</td>\n",
       "      <td>98.931074</td>\n",
       "    </tr>\n",
       "  </tbody>\n",
       "</table>\n",
       "</div>"
      ],
      "text/plain": [
       "                       ALGORITHMS   ACCURACY  PRECISION     RECALL   F1_SCORE\n",
       "0  K-Nearest Neighbors Classifier  90.462353  84.628988  98.931074  98.931074"
      ]
     },
     "execution_count": 19,
     "metadata": {},
     "output_type": "execute_result"
    }
   ],
   "source": [
    "final_kfold = pd.DataFrame({\"ALGORITHMS\":[\"K-Nearest Neighbors Classifier\"], \n",
    "                           \"ACCURACY\":[knn_avg_accuracy * 100],\n",
    "                         \"PRECISION\":[knn_avg_precision * 100],\n",
    "                          \"RECALL\":[knn_avg_recall * 100],\n",
    "                          \"F1_SCORE\":[knn_avg_f1 * 100],  \n",
    "                           \n",
    "                        })\n",
    "\n",
    "final_kfold"
   ]
  }
 ],
 "metadata": {
  "kernelspec": {
   "display_name": "Python 3 (ipykernel)",
   "language": "python",
   "name": "python3"
  },
  "language_info": {
   "codemirror_mode": {
    "name": "ipython",
    "version": 3
   },
   "file_extension": ".py",
   "mimetype": "text/x-python",
   "name": "python",
   "nbconvert_exporter": "python",
   "pygments_lexer": "ipython3",
   "version": "3.12.4"
  }
 },
 "nbformat": 4,
 "nbformat_minor": 5
}
