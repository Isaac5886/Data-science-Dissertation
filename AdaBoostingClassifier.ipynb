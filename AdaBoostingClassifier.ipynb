{
 "cells": [
  {
   "cell_type": "markdown",
   "id": "f70e140b-1f07-4417-b516-35dd797192ee",
   "metadata": {},
   "source": [
    "DATA LOADING AND INSPECTION\n",
    "--------------"
   ]
  },
  {
   "cell_type": "code",
   "execution_count": 1,
   "id": "c1379f4a-420b-4bdf-970f-4995adadb630",
   "metadata": {},
   "outputs": [],
   "source": [
    "#Importing libraries\n",
    "\n",
    "#Packages for numeric\n",
    "import pandas as pd\n",
    "import numpy as np\n",
    "\n",
    "#Packages for Visualization\n",
    "import matplotlib.pyplot as plt\n",
    "import seaborn as sns\n",
    "import matplotlib.pyplot as plt \n",
    "import plotly.express as px\n",
    "\n",
    "# Modeling\n",
    "from sklearn.model_selection import train_test_split,cross_val_score,StratifiedKFold, KFold\n",
    "from imblearn.over_sampling import SMOTE,SMOTENC\n",
    "from sklearn.metrics import f1_score,recall_score,precision_score,confusion_matrix,roc_curve,roc_auc_score,classification_report, accuracy_score,log_loss# performance metrics\n",
    "from scipy import stats\n",
    "from sklearn import metrics\n",
    "from sklearn.preprocessing import MinMaxScaler, OneHotEncoder, LabelEncoder, StandardScaler\n",
    "\n",
    "#Classifier module\n",
    "from sklearn.ensemble import AdaBoostClassifier\n",
    "\n",
    "# Filtering future warnings\n",
    "import warnings\n",
    "warnings.filterwarnings('ignore')"
   ]
  },
  {
   "cell_type": "code",
   "execution_count": 2,
   "id": "272a089d-cf0c-4282-ac40-00b956ce2f2c",
   "metadata": {},
   "outputs": [],
   "source": [
    "# Load the data.\n",
    "telecom = pd.read_csv('tele-churn.csv')\n"
   ]
  },
  {
   "cell_type": "markdown",
   "id": "5dfc641a-ce0b-4d24-9186-0ae3a4dc357e",
   "metadata": {},
   "source": [
    "Data Preprocessing\n",
    "----\n",
    "Encoding\n",
    "----"
   ]
  },
  {
   "cell_type": "code",
   "execution_count": 3,
   "id": "88cc04b0-9732-4046-bcb4-f3b45193ecf3",
   "metadata": {},
   "outputs": [],
   "source": [
    "#Removing the phone number and state column\n",
    "df1 = telecom.drop(['phone number', 'state', 'area code'], axis=1)\n",
    "\n",
    "# change categorical data into numerical data\n",
    "df1['international plan'] = df1['international plan'].map({'no': 0, 'yes': 1})\n",
    "df1['voice mail plan'] = df1['voice mail plan'].map({'no': 0, 'yes': 1})\n",
    "df1['churn'] = df1['churn'].map({False : 0, True : 1})"
   ]
  },
  {
   "cell_type": "markdown",
   "id": "e4409560-65a9-48b8-88ee-4c079665f0f0",
   "metadata": {},
   "source": [
    "FEATURES SCALING / STANDARDIZATION\n",
    "----"
   ]
  },
  {
   "cell_type": "code",
   "execution_count": 4,
   "id": "c4edd83a-0102-4e59-b3d1-f788fa3bf8cf",
   "metadata": {},
   "outputs": [],
   "source": [
    "# Scaling the data\n",
    "from sklearn.preprocessing import MinMaxScaler\n",
    "scaler = MinMaxScaler()\n",
    "\n",
    "# Define function for scaling a column\n",
    "def scaling(column):\n",
    "    return scaler.fit_transform(df1[[column]])\n",
    "\n",
    "# Iterate through numerical columns and scale them\n",
    "for column in df1.select_dtypes(include=[np.number]).columns:\n",
    "    df1[[column]] = scaling(column)"
   ]
  },
  {
   "cell_type": "code",
   "execution_count": 5,
   "id": "cfc8ae8d-f8e1-41b8-a8e6-a5b255978685",
   "metadata": {},
   "outputs": [
    {
     "name": "stdout",
     "output_type": "stream",
     "text": [
      "Test set size: (600, 17)\n",
      "Train set size: (2733,)\n",
      "Test set size: (600,)\n"
     ]
    }
   ],
   "source": [
    "# Creating a Test and Train Dataset\n",
    "y = df1['churn']\n",
    "X = df1.drop(['churn'], axis=1)\n",
    "\n",
    "from sklearn.model_selection import train_test_split\n",
    "X_train, X_test, y_train, y_test = train_test_split(X, y, test_size=0.18, random_state=42)\n",
    "\n",
    "# Check the shapes of the split dataprint(\"Train set size:\", X_train.shape)\n",
    "print(\"Test set size:\", X_test.shape)\n",
    "print(\"Train set size:\", y_train.shape)\n",
    "print(\"Test set size:\", y_test.shape)"
   ]
  },
  {
   "cell_type": "markdown",
   "id": "82e3ffa5-faeb-4999-878b-8254fcb3e170",
   "metadata": {},
   "source": [
    "SMOTE\n",
    "---"
   ]
  },
  {
   "cell_type": "code",
   "execution_count": 6,
   "id": "64247e1d-c1cd-4bbd-b84b-91b9caa2911c",
   "metadata": {},
   "outputs": [
    {
     "name": "stdout",
     "output_type": "stream",
     "text": [
      "Shape of X_train_resampled: (4676, 17)\n",
      "\n",
      "Value counts of y_train_resampled:\n",
      " churn\n",
      "0.0    2338\n",
      "1.0    2338\n",
      "Name: count, dtype: int64\n"
     ]
    }
   ],
   "source": [
    "from imblearn.over_sampling import SMOTE\n",
    "smote = SMOTE(random_state=42)\n",
    "# Resample the training data\n",
    "\n",
    "smote = SMOTE(random_state=42)\n",
    "X_train_resampled, y_train_resampled = smote.fit_resample(X_train, y_train)\n",
    "\n",
    "# Check the shape of the resampled data\n",
    "print(\"Shape of X_train_resampled:\", X_train_resampled.shape)\n",
    "print(\"\\nValue counts of y_train_resampled:\\n\", y_train_resampled.value_counts())"
   ]
  },
  {
   "cell_type": "markdown",
   "id": "5f92b4cb-2ab3-4320-8eb9-fe4d29ca4a84",
   "metadata": {},
   "source": [
    "DATA MODELING\n",
    "----\n",
    "ADABOOSTING CLASSIFIER\n",
    "----"
   ]
  },
  {
   "cell_type": "code",
   "execution_count": 7,
   "id": "106b6f74-4ab7-4cda-9c17-b3f68e5d414f",
   "metadata": {},
   "outputs": [
    {
     "name": "stdout",
     "output_type": "stream",
     "text": [
      "AdaBoost Classifier Accuracy: 0.86667\n",
      "AdaBoost Classifier Precision: 0.5345\n",
      "AdaBoost Classifier recall: 0.7045\n",
      "AdaBoost Classifier f1_score: 0.6078\n",
      "AdaBoost Classifier auc_roc: 0.7995\n",
      "              precision    recall  f1-score   support\n",
      "\n",
      "         0.0       0.95      0.89      0.92       512\n",
      "         1.0       0.53      0.70      0.61        88\n",
      "\n",
      "    accuracy                           0.87       600\n",
      "   macro avg       0.74      0.80      0.76       600\n",
      "weighted avg       0.89      0.87      0.87       600\n",
      "\n",
      "Confusion Matrix:\n",
      " [[458  54]\n",
      " [ 26  62]]\n",
      "ROC AUC Score: 0.8845436789772727\n",
      "Training Accuracy : 0.8715697036223929\n",
      "Training Resampled Accuracy : 0.8887938408896493\n",
      "Testing Accuracy : 0.8666666666666667\n"
     ]
    }
   ],
   "source": [
    "#Initialize the Ada Boosting model\n",
    "ada =  AdaBoostClassifier(random_state=42)\n",
    "\n",
    "#Train the model\n",
    "ada.fit(X_train_resampled, y_train_resampled)\n",
    "\n",
    "#Make predictions\n",
    "y_pred_ada = ada.predict(X_test)\n",
    "\n",
    "#Evaluate the model\n",
    "accuracy= accuracy_score(y_test, y_pred_ada)\n",
    "precision = precision_score(y_test, y_pred_ada)\n",
    "recall = recall_score(y_test, y_pred_ada)\n",
    "f1 = f1_score(y_test, y_pred_ada)\n",
    "auc_roc = roc_auc_score(y_test, y_pred_ada)\n",
    "print(f\"AdaBoost Classifier Accuracy: {accuracy :.5f}\")\n",
    "print(f\"AdaBoost Classifier Precision: {precision :.4f}\")\n",
    "print(f\"AdaBoost Classifier recall: {recall :.4f}\")\n",
    "print(f\"AdaBoost Classifier f1_score: {f1 :.4f}\")\n",
    "print(f\"AdaBoost Classifier auc_roc: {auc_roc :.4f}\")\n",
    "print(classification_report(y_test, y_pred_ada))\n",
    "print (\"Confusion Matrix:\\n\", confusion_matrix(y_test, y_pred_ada))\n",
    "print(\"ROC AUC Score:\", roc_auc_score(y_test, ada.predict_proba(X_test)[:, 1]))\n",
    "\n",
    "\n",
    "print(\"Training Accuracy :\", ada.score(X_train, y_train))\n",
    "print(\"Training Resampled Accuracy :\", ada.score(X_train_resampled, y_train_resampled))\n",
    "print(\"Testing Accuracy :\", ada.score(X_test, y_test))"
   ]
  },
  {
   "cell_type": "markdown",
   "id": "74ba1456-cfd6-482f-a090-93990759a7c9",
   "metadata": {},
   "source": [
    "CONFUSION MATRIX\n",
    "-----"
   ]
  },
  {
   "cell_type": "code",
   "execution_count": 8,
   "id": "a48f94aa-1fdb-4dce-9359-b12bd4b36da7",
   "metadata": {},
   "outputs": [
    {
     "name": "stdout",
     "output_type": "stream",
     "text": [
      "True positives: 62\n",
      "False positives: 54\n",
      "True negatives: 458\n",
      "False negatives: 26\n",
      "\n"
     ]
    }
   ],
   "source": [
    "y_pred_ada = ada.predict(X_test)\n",
    "tn, fp, fn, tp = metrics.confusion_matrix(y_test, y_pred_ada).ravel()\n",
    "\n",
    "print(f\"True positives: {tp}\")\n",
    "print(f\"False positives: {fp}\")\n",
    "print(f\"True negatives: {tn}\")\n",
    "print(f\"False negatives: {fn}\\n\")"
   ]
  },
  {
   "cell_type": "code",
   "execution_count": 9,
   "id": "a0ddd7d4-d69d-46d8-a6c3-1d3d07c19a92",
   "metadata": {},
   "outputs": [
    {
     "data": {
      "image/png": "[encoded data removed]",
      "text/plain": [
       "<Figure size 600x600 with 2 Axes>"
      ]
     },
     "metadata": {},
     "output_type": "display_data"
    }
   ],
   "source": [
    "#Build confusion Matrix\n",
    "cm = confusion_matrix(y_test, y_pred_ada)\n",
    "\n",
    "#Visualize the Matrix\n",
    "plt.figure(figsize=(6,6))\n",
    "sns.heatmap(cm, annot=True, cmap='viridis', fmt='d',\n",
    "            xticklabels=['Non Churn', 'Churn'],\n",
    "          yticklabels=['Non Churn', 'Churn'])\n",
    "\n",
    "plt.xlabel('Predicted')\n",
    "plt.ylabel('Actual')\n",
    "plt.title('Confusion Matrix of AdaBoosting Classifier', size=18, color='black', fontweight= 'bold')\n",
    "plt.show()"
   ]
  },
  {
   "cell_type": "markdown",
   "id": "d1aa160f-f809-4f3a-9fb3-bf8e98dc69f1",
   "metadata": {},
   "source": [
    "EVALUATION OF THE MACHINE LEARNING ALGORITHMS\n",
    "-----"
   ]
  },
  {
   "cell_type": "code",
   "execution_count": 10,
   "id": "a5ebaf1d-0349-48d7-8242-fdf98e4285ba",
   "metadata": {},
   "outputs": [
    {
     "data": {
      "text/html": [
       "<div>\n",
       "<style scoped>\n",
       "    .dataframe tbody tr th:only-of-type {\n",
       "        vertical-align: middle;\n",
       "    }\n",
       "\n",
       "    .dataframe tbody tr th {\n",
       "        vertical-align: top;\n",
       "    }\n",
       "\n",
       "    .dataframe thead th {\n",
       "        text-align: right;\n",
       "    }\n",
       "</style>\n",
       "<table border=\"1\" class=\"dataframe\">\n",
       "  <thead>\n",
       "    <tr style=\"text-align: right;\">\n",
       "      <th></th>\n",
       "      <th>ALGORITHMS</th>\n",
       "      <th>ACCURACY</th>\n",
       "      <th>PRECISION</th>\n",
       "      <th>RECALL</th>\n",
       "      <th>F1_SCORE</th>\n",
       "      <th>ROC_AUC</th>\n",
       "    </tr>\n",
       "  </thead>\n",
       "  <tbody>\n",
       "    <tr>\n",
       "      <th>0</th>\n",
       "      <td>AdaBoosting Classifier</td>\n",
       "      <td>86.666667</td>\n",
       "      <td>53.448276</td>\n",
       "      <td>70.454545</td>\n",
       "      <td>60.784314</td>\n",
       "      <td>79.953835</td>\n",
       "    </tr>\n",
       "  </tbody>\n",
       "</table>\n",
       "</div>"
      ],
      "text/plain": [
       "               ALGORITHMS   ACCURACY  PRECISION     RECALL   F1_SCORE  \\\n",
       "0  AdaBoosting Classifier  86.666667  53.448276  70.454545  60.784314   \n",
       "\n",
       "     ROC_AUC  \n",
       "0  79.953835  "
      ]
     },
     "execution_count": 10,
     "metadata": {},
     "output_type": "execute_result"
    }
   ],
   "source": [
    "final_data = pd.DataFrame({\"ALGORITHMS\":[\"AdaBoosting Classifier\"], \n",
    "                           \"ACCURACY\":[accuracy_score(y_test, y_pred_ada)*100],\n",
    "                         \"PRECISION\":[precision_score(y_test, y_pred_ada)*100],\n",
    "                          \"RECALL\":[recall_score(y_test, y_pred_ada)*100],\n",
    "                          \"F1_SCORE\":[f1_score(y_test, y_pred_ada)*100], \n",
    "                            \"ROC_AUC\":[roc_auc_score(y_test, y_pred_ada)*100], \n",
    "                           \n",
    "                        })\n",
    "\n",
    "final_data"
   ]
  },
  {
   "cell_type": "markdown",
   "id": "4513d810-31eb-4ddc-a2ae-3ef3d1e365ed",
   "metadata": {},
   "source": [
    "K_FOLD CROSS VALIDATION\n",
    "-----"
   ]
  },
  {
   "cell_type": "markdown",
   "id": "e70fbe54-1c08-47ce-8c42-386747ced269",
   "metadata": {},
   "source": [
    "ACCURACY\n",
    "---------"
   ]
  },
  {
   "cell_type": "code",
   "execution_count": 11,
   "id": "8cd99a80-ec40-4bf2-82aa-e0e6457be61b",
   "metadata": {},
   "outputs": [
    {
     "name": "stdout",
     "output_type": "stream",
     "text": [
      "[0.89529915 0.87179487 0.8525641  0.8482906  0.88888889 0.87179487\n",
      " 0.875803   0.88650964 0.87794433 0.89079229]\n",
      "The std score of cross validation using AdaBoosting Classifier algorithm is 1.49%\n",
      "The mean score of cross validation using AdaBoosting Classifier algorithm is 87.60%\n"
     ]
    }
   ],
   "source": [
    "kf = StratifiedKFold(n_splits=10, shuffle=True, random_state=42)\n",
    "ada_accuracies = cross_val_score(ada, X_train_resampled, y_train_resampled, cv=kf, scoring='accuracy')\n",
    "print(ada_accuracies)\n",
    "ada_avg_accuracy = np.mean(ada_accuracies)\n",
    "ada_std_accuracy = np.std(ada_accuracies)\n",
    "print(f\"The std score of cross validation using AdaBoosting Classifier algorithm is {ada_std_accuracy * 100:.2f}%\")\n",
    "print(f\"The mean score of cross validation using AdaBoosting Classifier algorithm is {ada_avg_accuracy * 100:.2f}%\")"
   ]
  },
  {
   "cell_type": "markdown",
   "id": "46ebbaef-d308-462a-aed2-e96710217971",
   "metadata": {},
   "source": [
    "PRECISION\n",
    "-------"
   ]
  },
  {
   "cell_type": "code",
   "execution_count": 12,
   "id": "a8f0c5f2-590f-424b-8c51-44df11874eb1",
   "metadata": {},
   "outputs": [
    {
     "name": "stdout",
     "output_type": "stream",
     "text": [
      "[0.90393013 0.88839286 0.86343612 0.86547085 0.88888889 0.88839286\n",
      " 0.88209607 0.90178571 0.89333333 0.9030837 ]\n",
      "The std score of cross validation using AdaBoosting Classifier algorithm is 1.36%\n",
      "The mean score of cross validation using AdaBoosting Classifier algorithm is 88.79%\n"
     ]
    }
   ],
   "source": [
    "kf = StratifiedKFold(n_splits=10, shuffle=True, random_state=42)\n",
    "ada_precision = cross_val_score(ada, X_train_resampled, y_train_resampled, cv=kf, scoring='precision')\n",
    "print(ada_precision)\n",
    "ada_avg_precision = np.mean(ada_precision)\n",
    "ada_std_precision = np.std(ada_precision)\n",
    "print(f\"The std score of cross validation using AdaBoosting Classifier algorithm is {ada_std_precision * 100:.2f}%\")\n",
    "print(f\"The mean score of cross validation using AdaBoosting Classifier algorithm is {ada_avg_precision * 100:.2f}%\")"
   ]
  },
  {
   "cell_type": "markdown",
   "id": "bdc6dc77-e701-4cdf-aa9f-7ff347c793f4",
   "metadata": {},
   "source": [
    "RECALL\n",
    "----------"
   ]
  },
  {
   "cell_type": "code",
   "execution_count": 13,
   "id": "98f26b19-d5ee-4b19-9c41-b71c4b9f2d41",
   "metadata": {},
   "outputs": [
    {
     "name": "stdout",
     "output_type": "stream",
     "text": [
      "[0.88461538 0.85042735 0.83760684 0.82478632 0.88888889 0.85042735\n",
      " 0.86695279 0.86695279 0.85897436 0.87606838]\n",
      "The std score of cross validation using AdaBoosting Classifier algorithm is 1.93%\n",
      "The mean score of cross validation using AdaBoosting Classifier algorithm is 86.06%\n"
     ]
    }
   ],
   "source": [
    "kf = StratifiedKFold(n_splits=10, shuffle=True, random_state=42)\n",
    "ada_recall = cross_val_score(ada, X_train_resampled, y_train_resampled, cv=kf, scoring='recall')\n",
    "print(ada_recall)\n",
    "ada_avg_recall = np.mean(ada_recall)\n",
    "ada_std_recall = np.std(ada_recall)\n",
    "print(f\"The std score of cross validation using AdaBoosting Classifier algorithm is {ada_std_recall * 100:.2f}%\")\n",
    "print(f\"The mean score of cross validation using AdaBoosting Classifier algorithm is {ada_avg_recall * 100:.2f}%\")"
   ]
  },
  {
   "cell_type": "markdown",
   "id": "b2bcc216-c9af-465e-b3fd-7494312ff8e4",
   "metadata": {},
   "source": [
    "F1_SCORE\n",
    "---------"
   ]
  },
  {
   "cell_type": "code",
   "execution_count": 14,
   "id": "56ab3345-be7b-4451-a1a9-b97299bbda54",
   "metadata": {},
   "outputs": [
    {
     "name": "stdout",
     "output_type": "stream",
     "text": [
      "[0.89416847 0.86899563 0.85032538 0.84463895 0.88888889 0.86899563\n",
      " 0.87445887 0.88402626 0.87581699 0.88937093]\n",
      "The std score of cross validation using AdaBoosting Classifier algorithm is 1.56%\n",
      "The mean score of cross validation using AdaBoosting Classifier algorithm is 87.40%\n"
     ]
    }
   ],
   "source": [
    "kf = StratifiedKFold(n_splits=10, shuffle=True, random_state=42)\n",
    "ada_f1 = cross_val_score(ada, X_train_resampled, y_train_resampled, cv=kf, scoring='f1')\n",
    "print(ada_f1)\n",
    "ada_avg_f1 = np.mean(ada_f1)\n",
    "ada_std_f1 = np.std(ada_f1)\n",
    "print(f\"The std score of cross validation using AdaBoosting Classifier algorithm is {ada_std_f1 * 100:.2f}%\")\n",
    "print(f\"The mean score of cross validation using AdaBoosting Classifier algorithm is {ada_avg_f1 * 100:.2f}%\")"
   ]
  },
  {
   "cell_type": "markdown",
   "id": "8a034512-4b6b-4b89-ae26-7d3288b7b747",
   "metadata": {},
   "source": [
    "CHECKING IF IT IS OVERFITTING OR NOT\n",
    "--------------------"
   ]
  },
  {
   "cell_type": "code",
   "execution_count": 15,
   "id": "67ee9768-4891-49d7-90f0-2fe0d0f91303",
   "metadata": {},
   "outputs": [
    {
     "name": "stdout",
     "output_type": "stream",
     "text": [
      "Model generalizes well: Cross_validation accuracy is higher or close to accuracy\n"
     ]
    }
   ],
   "source": [
    "#AdaBoosting Classifier\n",
    "if ada_avg_accuracy > accuracy:\n",
    "    print(\"Model generalizes well: Cross_validation accuracy is higher or close to accuracy\")\n",
    "else:\n",
    "    print(\"Model might be overfitting: Cross validation accuracy is lower than accuracy\")"
   ]
  },
  {
   "cell_type": "code",
   "execution_count": 16,
   "id": "ad3d9fa0-bce9-4a16-91eb-b602c52962c5",
   "metadata": {},
   "outputs": [
    {
     "name": "stdout",
     "output_type": "stream",
     "text": [
      "Model generalizes well: Cross_validation accuracy is higher or close to precision\n"
     ]
    }
   ],
   "source": [
    "#AdaBoosting Classifier\n",
    "\n",
    "if ada_avg_precision > precision:\n",
    "    print(\"Model generalizes well: Cross_validation accuracy is higher or close to precision\")\n",
    "else:\n",
    "    print(\"Model might be overfitting: Cross validation accuracy is lower than precision\")"
   ]
  },
  {
   "cell_type": "code",
   "execution_count": 17,
   "id": "a451dea7-be16-41a2-99bf-5d166d22c137",
   "metadata": {},
   "outputs": [
    {
     "name": "stdout",
     "output_type": "stream",
     "text": [
      "Model generalizes well: Cross_validation accuracy is higher or close to recall\n"
     ]
    }
   ],
   "source": [
    "#AdaBoosting Classifier\n",
    "\n",
    "if ada_avg_recall > recall:\n",
    "    print(\"Model generalizes well: Cross_validation accuracy is higher or close to recall\")\n",
    "else:\n",
    "    print(\"Model might be overfitting: Cross validation accuracy is lower than recall\")"
   ]
  },
  {
   "cell_type": "code",
   "execution_count": 18,
   "id": "f92366fa-db56-499b-b6ce-2545fa1dcb91",
   "metadata": {},
   "outputs": [
    {
     "name": "stdout",
     "output_type": "stream",
     "text": [
      "Model generalizes well: Cross_validation accuracy is higher or close to f1\n"
     ]
    }
   ],
   "source": [
    "#AdaBoosting Classifier\n",
    "if ada_avg_f1 > f1:\n",
    "    print(\"Model generalizes well: Cross_validation accuracy is higher or close to f1\")\n",
    "else:\n",
    "    print(\"Model might be overfitting: Cross validation accuracy is lower than f1\")"
   ]
  },
  {
   "cell_type": "markdown",
   "id": "927a52b5-97ce-40e7-b81e-c1a9582aed34",
   "metadata": {},
   "source": [
    "TOTAL KFOLD VALIDATION\n",
    "------"
   ]
  },
  {
   "cell_type": "code",
   "execution_count": 19,
   "id": "b3acef4a-a7da-4ef1-a6eb-18bebfe3dbb4",
   "metadata": {},
   "outputs": [
    {
     "data": {
      "text/html": [
       "<div>\n",
       "<style scoped>\n",
       "    .dataframe tbody tr th:only-of-type {\n",
       "        vertical-align: middle;\n",
       "    }\n",
       "\n",
       "    .dataframe tbody tr th {\n",
       "        vertical-align: top;\n",
       "    }\n",
       "\n",
       "    .dataframe thead th {\n",
       "        text-align: right;\n",
       "    }\n",
       "</style>\n",
       "<table border=\"1\" class=\"dataframe\">\n",
       "  <thead>\n",
       "    <tr style=\"text-align: right;\">\n",
       "      <th></th>\n",
       "      <th>ALGORITHMS</th>\n",
       "      <th>ACCURACY</th>\n",
       "      <th>PRECISION</th>\n",
       "      <th>RECALL</th>\n",
       "      <th>F1_SCORE</th>\n",
       "    </tr>\n",
       "  </thead>\n",
       "  <tbody>\n",
       "    <tr>\n",
       "      <th>0</th>\n",
       "      <td>AdaBoosting Classifier</td>\n",
       "      <td>87.596817</td>\n",
       "      <td>88.788105</td>\n",
       "      <td>86.057005</td>\n",
       "      <td>87.39686</td>\n",
       "    </tr>\n",
       "  </tbody>\n",
       "</table>\n",
       "</div>"
      ],
      "text/plain": [
       "               ALGORITHMS   ACCURACY  PRECISION     RECALL  F1_SCORE\n",
       "0  AdaBoosting Classifier  87.596817  88.788105  86.057005  87.39686"
      ]
     },
     "execution_count": 19,
     "metadata": {},
     "output_type": "execute_result"
    }
   ],
   "source": [
    "final_kfold = pd.DataFrame({\"ALGORITHMS\":[\"AdaBoosting Classifier\"], \n",
    "                           \"ACCURACY\":[ada_avg_accuracy * 100],\n",
    "                         \"PRECISION\":[ada_avg_precision * 100],\n",
    "                          \"RECALL\":[ada_avg_recall * 100],\n",
    "                          \"F1_SCORE\":[ada_avg_f1 * 100],  \n",
    "                           \n",
    "                        })\n",
    "final_kfold"
   ]
  }
 ],
 "metadata": {
  "kernelspec": {
   "display_name": "Python 3 (ipykernel)",
   "language": "python",
   "name": "python3"
  },
  "language_info": {
   "codemirror_mode": {
    "name": "ipython",
    "version": 3
   },
   "file_extension": ".py",
   "mimetype": "text/x-python",
   "name": "python",
   "nbconvert_exporter": "python",
   "pygments_lexer": "ipython3",
   "version": "3.12.4"
  }
 },
 "nbformat": 4,
 "nbformat_minor": 5
}
