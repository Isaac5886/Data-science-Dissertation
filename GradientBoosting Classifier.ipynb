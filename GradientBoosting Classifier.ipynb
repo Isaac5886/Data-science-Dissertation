{
 "cells": [
  {
   "cell_type": "markdown",
   "id": "1b6ff51b-7d7b-4adc-a304-bbc811467d55",
   "metadata": {},
   "source": [
    "DATA LOADING AND INSPECTION\n",
    "-----------------"
   ]
  },
  {
   "cell_type": "code",
   "execution_count": 1,
   "id": "e2c5097a-3840-4c42-a0e0-b6d185e8265c",
   "metadata": {},
   "outputs": [],
   "source": [
    "#Importing libraries\n",
    "\n",
    "#Packages for numeric\n",
    "import pandas as pd\n",
    "import numpy as np\n",
    "\n",
    "#Packages for Visualization\n",
    "import matplotlib.pyplot as plt\n",
    "import seaborn as sns\n",
    "import matplotlib.pyplot as plt \n",
    "import plotly.express as px\n",
    "\n",
    "# Modeling\n",
    "from sklearn.model_selection import train_test_split,cross_val_score,StratifiedKFold, KFold\n",
    "from imblearn.over_sampling import SMOTE,SMOTENC\n",
    "from sklearn.metrics import f1_score,recall_score,precision_score,confusion_matrix,roc_curve,roc_auc_score,classification_report, accuracy_score,log_loss# performance metrics\n",
    "from scipy import stats\n",
    "from sklearn import metrics\n",
    "from sklearn.preprocessing import MinMaxScaler, OneHotEncoder, LabelEncoder, StandardScaler\n",
    "from sklearn.feature_selection import RFE\n",
    "from sklearn.inspection import permutation_importance\n",
    "\n",
    "#Classifier module\n",
    "from sklearn.ensemble import GradientBoostingClassifier\n",
    "\n",
    "# Filtering future warnings\n",
    "import warnings\n",
    "warnings.filterwarnings('ignore')"
   ]
  },
  {
   "cell_type": "code",
   "execution_count": 2,
   "id": "2410a2a2-1bcc-41b2-b2a3-917f11fd71b1",
   "metadata": {},
   "outputs": [],
   "source": [
    "# Load the data.\n",
    "telecom = pd.read_csv('tele-churn.csv')"
   ]
  },
  {
   "cell_type": "markdown",
   "id": "7b03a306-472b-4e98-be4a-68997fde9286",
   "metadata": {},
   "source": [
    "Data Preprocessing\n",
    "---------\n",
    "Encoding\n",
    "----"
   ]
  },
  {
   "cell_type": "code",
   "execution_count": 3,
   "id": "9b145cf2-137a-4384-b5cd-5b11727eff08",
   "metadata": {},
   "outputs": [],
   "source": [
    "# Removing the phone number and state column\n",
    "df1 = telecom.drop(['phone number', 'state', 'area code'], axis=1)\n",
    "\n",
    "# change categorical data into numerical data\n",
    "df1['international plan'] = df1['international plan'].map({'no': 0, 'yes': 1})\n",
    "df1['voice mail plan'] = df1['voice mail plan'].map({'no': 0, 'yes': 1})\n",
    "df1['churn'] = df1['churn'].map({False : 0, True : 1})"
   ]
  },
  {
   "cell_type": "markdown",
   "id": "dd32d104-7101-4c56-8b5c-9c7b46763843",
   "metadata": {},
   "source": [
    "FEATURES SCALING / STANDARDIZATION\n",
    "------------"
   ]
  },
  {
   "cell_type": "code",
   "execution_count": 4,
   "id": "dcd76fa5-e3bb-4bb4-ab39-7a0c64d67cd2",
   "metadata": {},
   "outputs": [],
   "source": [
    "# Scaling the data\n",
    "from sklearn.preprocessing import MinMaxScaler\n",
    "scaler = MinMaxScaler()\n",
    "\n",
    "# Define function for scaling a column\n",
    "def scaling(column):\n",
    "    return scaler.fit_transform(df1[[column]])\n",
    "\n",
    "# Iterate through numerical columns and scale them\n",
    "for column in df1.select_dtypes(include=[np.number]).columns:\n",
    "    df1[[column]] = scaling(column)"
   ]
  },
  {
   "cell_type": "code",
   "execution_count": 5,
   "id": "f54db0cd-faf4-430d-81fd-a9500a33042d",
   "metadata": {},
   "outputs": [
    {
     "name": "stdout",
     "output_type": "stream",
     "text": [
      "Test set size: (600, 17)\n",
      "Train set size: (2733,)\n",
      "Test set size: (600,)\n"
     ]
    }
   ],
   "source": [
    "# Creating a Test and Train Dataset\n",
    "y = df1['churn']\n",
    "X = df1.drop(['churn'], axis=1)\n",
    "\n",
    "from sklearn.model_selection import train_test_split\n",
    "X_train, X_test, y_train, y_test = train_test_split(X, y, test_size=0.18, random_state=42)\n",
    "\n",
    "# Check the shapes of the split dataprint(\"Train set size:\", X_train.shape)\n",
    "print(\"Test set size:\", X_test.shape)\n",
    "print(\"Train set size:\", y_train.shape)\n",
    "print(\"Test set size:\", y_test.shape)"
   ]
  },
  {
   "cell_type": "markdown",
   "id": "7c094789-f9e4-40f5-89e7-3fb1ec0ea9eb",
   "metadata": {},
   "source": [
    "SMOTE\n",
    "-----"
   ]
  },
  {
   "cell_type": "code",
   "execution_count": 6,
   "id": "0a52264c-8c91-4d92-b390-5781d76fab9c",
   "metadata": {},
   "outputs": [
    {
     "name": "stdout",
     "output_type": "stream",
     "text": [
      "Shape of X_train_resampled: (4676, 17)\n",
      "\n",
      "Value counts of y_train_resampled:\n",
      " churn\n",
      "0.0    2338\n",
      "1.0    2338\n",
      "Name: count, dtype: int64\n"
     ]
    }
   ],
   "source": [
    "from imblearn.over_sampling import SMOTE\n",
    "smote = SMOTE(random_state=42)\n",
    "# Resample the training data\n",
    "\n",
    "smote = SMOTE(random_state=42)\n",
    "X_train_resampled, y_train_resampled = smote.fit_resample(X_train, y_train)\n",
    "\n",
    "# Check the shape of the resampled data\n",
    "print(\"Shape of X_train_resampled:\", X_train_resampled.shape)\n",
    "print(\"\\nValue counts of y_train_resampled:\\n\", y_train_resampled.value_counts())"
   ]
  },
  {
   "cell_type": "markdown",
   "id": "3d78002c-5b5e-4fdd-be51-69fb33fc5233",
   "metadata": {},
   "source": [
    "DATA MODELING\n",
    "--------\n",
    "GRADIENTBOOSTING CLASSIFIER\n",
    "----------"
   ]
  },
  {
   "cell_type": "code",
   "execution_count": 7,
   "id": "d28ea697-8973-44fa-852e-261e0939503a",
   "metadata": {},
   "outputs": [
    {
     "name": "stdout",
     "output_type": "stream",
     "text": [
      "Gradient Boosting Classifier Accuracy: 0.9483\n",
      "Gradient Boosting Classifier Precision: 0.8132\n",
      "Gradient Boosting Classifier recall: 0.8409\n",
      "Gradient Boosting Classifier f1_score: 0.8268\n",
      "Gradient Boosting Classifier auc_roc: 0.9039\n",
      "              precision    recall  f1-score   support\n",
      "\n",
      "         0.0       0.97      0.97      0.97       512\n",
      "         1.0       0.81      0.84      0.83        88\n",
      "\n",
      "    accuracy                           0.95       600\n",
      "   macro avg       0.89      0.90      0.90       600\n",
      "weighted avg       0.95      0.95      0.95       600\n",
      "\n",
      "Confusion Matrix:\n",
      " [[495  17]\n",
      " [ 14  74]]\n",
      "ROC AUC Score: 0.922607421875\n",
      "Gradient Boosting Classifier\n",
      "Training Accuracy : 0.9582875960482986\n",
      "Training Resampled Accuracy : 0.9591531223267751\n",
      "Testing Accuracy : 0.9483333333333334\n"
     ]
    }
   ],
   "source": [
    "#Initialize the Gradient Boosting model\n",
    "gbc = GradientBoostingClassifier(random_state=42)\n",
    "\n",
    "#Train the model\n",
    "gbc.fit(X_train_resampled, y_train_resampled)\n",
    "\n",
    "#Make predictions\n",
    "y_pred_gbc = gbc.predict(X_test)\n",
    "\n",
    "#Evaluate the model\n",
    "accuracy= accuracy_score(y_test, y_pred_gbc)\n",
    "precision = precision_score(y_test, y_pred_gbc)\n",
    "recall = recall_score(y_test, y_pred_gbc)\n",
    "f1 = f1_score(y_test, y_pred_gbc)\n",
    "auc_roc = roc_auc_score(y_test, y_pred_gbc)\n",
    "print(f\"Gradient Boosting Classifier Accuracy: {accuracy :.4f}\")\n",
    "print(f\"Gradient Boosting Classifier Precision: {precision :.4f}\")\n",
    "print(f\"Gradient Boosting Classifier recall: {recall :.4f}\")\n",
    "print(f\"Gradient Boosting Classifier f1_score: {f1 :.4f}\")\n",
    "print(f\"Gradient Boosting Classifier auc_roc: {auc_roc :.4f}\")\n",
    "print(classification_report(y_test, y_pred_gbc))\n",
    "print (\"Confusion Matrix:\\n\", confusion_matrix(y_test, y_pred_gbc))\n",
    "print(\"ROC AUC Score:\", roc_auc_score(y_test, gbc.predict_proba(X_test)[:, 1]))\n",
    "\n",
    "print (\"Gradient Boosting Classifier\")\n",
    "print(\"Training Accuracy :\", gbc.score(X_train, y_train))\n",
    "print(\"Training Resampled Accuracy :\", gbc.score(X_train_resampled, y_train_resampled))\n",
    "print(\"Testing Accuracy :\", gbc.score(X_test, y_test))"
   ]
  },
  {
   "cell_type": "markdown",
   "id": "b968e654-4c6f-4379-a3c5-4a8278b5589f",
   "metadata": {},
   "source": [
    "CONFUSION MATRIX FOR GRADIENT BOOSTING CLASSIFIER\n",
    "-----------------"
   ]
  },
  {
   "cell_type": "code",
   "execution_count": 8,
   "id": "b07ee307-a64d-43d9-8bc9-4ba16a2d7413",
   "metadata": {},
   "outputs": [
    {
     "name": "stdout",
     "output_type": "stream",
     "text": [
      "True positives: 74\n",
      "False positives: 17\n",
      "True negatives: 495\n",
      "False negatives: 14\n",
      "\n"
     ]
    }
   ],
   "source": [
    "y_pred_gbc = gbc.predict(X_test)\n",
    "tn, fp, fn, tp = metrics.confusion_matrix(y_test, y_pred_gbc).ravel()\n",
    "\n",
    "print(f\"True positives: {tp}\")\n",
    "print(f\"False positives: {fp}\")\n",
    "print(f\"True negatives: {tn}\")\n",
    "print(f\"False negatives: {fn}\\n\")"
   ]
  },
  {
   "cell_type": "code",
   "execution_count": 9,
   "id": "3272ccf7-f1eb-4d73-9d67-9aa8196961ce",
   "metadata": {},
   "outputs": [
    {
     "data": {
      "image/png": "[encoded data removed]",
      "text/plain": [
       "<Figure size 600x600 with 2 Axes>"
      ]
     },
     "metadata": {},
     "output_type": "display_data"
    }
   ],
   "source": [
    "#Build confusion Matrix\n",
    "cm = confusion_matrix(y_test, y_pred_gbc)\n",
    "\n",
    "#Visualize the Matrix\n",
    "plt.figure(figsize=(6,6))\n",
    "sns.heatmap(cm, annot=True, cmap='viridis', fmt='d',\n",
    "            xticklabels=['Non Churn', 'Churn'],\n",
    "            yticklabels=['Non Churn', 'Churn'])\n",
    "\n",
    "plt.xlabel('Predicted')\n",
    "plt.ylabel('Actual')\n",
    "plt.title('Confusion Matrix of Gradient Boosting Classifier', size=18, color='black', fontweight= 'bold')\n",
    "plt.show()"
   ]
  },
  {
   "cell_type": "markdown",
   "id": "78988a40-5a4b-4f79-92f8-431286facd4c",
   "metadata": {},
   "source": [
    "EVALUATION OF THE MACHINE LEARNING ALGORITHMS\n",
    "-------------------"
   ]
  },
  {
   "cell_type": "code",
   "execution_count": 10,
   "id": "ef71aa33-c650-4cf7-a6fe-37a7852d0f7f",
   "metadata": {},
   "outputs": [
    {
     "data": {
      "text/html": [
       "<div>\n",
       "<style scoped>\n",
       "    .dataframe tbody tr th:only-of-type {\n",
       "        vertical-align: middle;\n",
       "    }\n",
       "\n",
       "    .dataframe tbody tr th {\n",
       "        vertical-align: top;\n",
       "    }\n",
       "\n",
       "    .dataframe thead th {\n",
       "        text-align: right;\n",
       "    }\n",
       "</style>\n",
       "<table border=\"1\" class=\"dataframe\">\n",
       "  <thead>\n",
       "    <tr style=\"text-align: right;\">\n",
       "      <th></th>\n",
       "      <th>ALGORITHMS</th>\n",
       "      <th>ACCURACY</th>\n",
       "      <th>PRECISION</th>\n",
       "      <th>RECALL</th>\n",
       "      <th>F1_SCORE</th>\n",
       "      <th>ROC_AUC</th>\n",
       "    </tr>\n",
       "  </thead>\n",
       "  <tbody>\n",
       "    <tr>\n",
       "      <th>0</th>\n",
       "      <td>GradientBoosting Classifier</td>\n",
       "      <td>94.833333</td>\n",
       "      <td>81.318681</td>\n",
       "      <td>84.090909</td>\n",
       "      <td>82.681564</td>\n",
       "      <td>90.385298</td>\n",
       "    </tr>\n",
       "  </tbody>\n",
       "</table>\n",
       "</div>"
      ],
      "text/plain": [
       "                    ALGORITHMS   ACCURACY  PRECISION     RECALL   F1_SCORE  \\\n",
       "0  GradientBoosting Classifier  94.833333  81.318681  84.090909  82.681564   \n",
       "\n",
       "     ROC_AUC  \n",
       "0  90.385298  "
      ]
     },
     "execution_count": 10,
     "metadata": {},
     "output_type": "execute_result"
    }
   ],
   "source": [
    "final_data = pd.DataFrame({\"ALGORITHMS\":[\"GradientBoosting Classifier\"], \n",
    "                           \"ACCURACY\":[accuracy_score(y_test, y_pred_gbc)*100],\n",
    "                         \"PRECISION\":[precision_score(y_test, y_pred_gbc)*100],\n",
    "                          \"RECALL\":[recall_score(y_test, y_pred_gbc)*100],\n",
    "                          \"F1_SCORE\":[f1_score(y_test, y_pred_gbc)*100], \n",
    "                            \"ROC_AUC\":[roc_auc_score(y_test, y_pred_gbc)*100], \n",
    "                           \n",
    "                        })\n",
    "\n",
    "final_data"
   ]
  },
  {
   "cell_type": "markdown",
   "id": "fa4f210f-714d-4624-aafd-1785ae9f6295",
   "metadata": {},
   "source": [
    "K_FOLD CROSS VALIDATION\n",
    "----------------"
   ]
  },
  {
   "cell_type": "markdown",
   "id": "a2f396da-3c8e-4369-92ac-bc9069e69908",
   "metadata": {},
   "source": [
    "ACCURACY\n",
    "-------"
   ]
  },
  {
   "cell_type": "code",
   "execution_count": 11,
   "id": "bc32d39c-2198-48e8-88b5-3713f5748f1d",
   "metadata": {},
   "outputs": [
    {
     "name": "stdout",
     "output_type": "stream",
     "text": [
      "[0.96367521 0.93589744 0.93589744 0.94017094 0.9465812  0.94017094\n",
      " 0.94646681 0.93576017 0.94218415 0.94860814]\n",
      "The std score of cross validation using GradientBoosting Classifier algorithm is 0.81%\n",
      "The mean score of cross validation using GradientBoosting Classifier algorithm is 94.35%\n"
     ]
    }
   ],
   "source": [
    "kf = StratifiedKFold(n_splits=10, shuffle=True, random_state=42)\n",
    "gbc_accuracies = cross_val_score(gbc, X_train_resampled, y_train_resampled, cv=kf, scoring='accuracy')\n",
    "print(gbc_accuracies)\n",
    "gbc_avg_accuracy = np.mean(gbc_accuracies)\n",
    "gbc_std_accuracy = np.std(gbc_accuracies)\n",
    "print(f\"The std score of cross validation using GradientBoosting Classifier algorithm is {gbc_std_accuracy * 100:.2f}%\")\n",
    "print(f\"The mean score of cross validation using GradientBoosting Classifier algorithm is {gbc_avg_accuracy * 100:.2f}%\")"
   ]
  },
  {
   "cell_type": "markdown",
   "id": "352745fa-c1fa-48ff-ab5c-1ab7fcf9f81c",
   "metadata": {},
   "source": [
    "PRECISION\n",
    "---------"
   ]
  },
  {
   "cell_type": "code",
   "execution_count": 12,
   "id": "2c697deb-743b-4a1a-90df-38026856c258",
   "metadata": {},
   "outputs": [
    {
     "name": "stdout",
     "output_type": "stream",
     "text": [
      "[0.97797357 0.95132743 0.95132743 0.95982143 0.95633188 0.96396396\n",
      " 0.96846847 0.93939394 0.96832579 0.97727273]\n",
      "The std score of cross validation using GradientBoosting Classifier algorithm is 1.16%\n",
      "The mean score of cross validation using GradientBoosting Classifier algorithm is 96.14%\n"
     ]
    }
   ],
   "source": [
    "kf = StratifiedKFold(n_splits=10, shuffle=True, random_state=42)\n",
    "gbc_precision = cross_val_score(gbc, X_train_resampled, y_train_resampled, cv=kf, scoring='precision')\n",
    "print(gbc_precision)\n",
    "gbc_avg_precision = np.mean(gbc_precision)\n",
    "gbc_std_precision = np.std(gbc_precision)\n",
    "print(f\"The std score of cross validation using GradientBoosting Classifier algorithm is {gbc_std_precision * 100:.2f}%\")\n",
    "print(f\"The mean score of cross validation using GradientBoosting Classifier algorithm is {gbc_avg_precision * 100:.2f}%\")"
   ]
  },
  {
   "cell_type": "markdown",
   "id": "20e77a1f-3806-48f0-8bc3-8abb01f3f8f5",
   "metadata": {},
   "source": [
    "RECALL\n",
    "---------"
   ]
  },
  {
   "cell_type": "code",
   "execution_count": 13,
   "id": "11c9488a-7304-4802-8255-1dcaf0c758c3",
   "metadata": {},
   "outputs": [
    {
     "name": "stdout",
     "output_type": "stream",
     "text": [
      "[0.94871795 0.91880342 0.91880342 0.91880342 0.93589744 0.91452991\n",
      " 0.92274678 0.93133047 0.91452991 0.91880342]\n",
      "The std score of cross validation using GradientBoosting Classifier algorithm is 1.05%\n",
      "The mean score of cross validation using GradientBoosting Classifier algorithm is 92.43%\n"
     ]
    }
   ],
   "source": [
    "kf = StratifiedKFold(n_splits=10, shuffle=True, random_state=42)\n",
    "gbc_recall = cross_val_score(gbc, X_train_resampled, y_train_resampled, cv=kf, scoring='recall')\n",
    "print(gbc_recall)\n",
    "gbc_avg_recall = np.mean(gbc_recall)\n",
    "gbc_std_recall = np.std(gbc_recall)\n",
    "print(f\"The std score of cross validation using GradientBoosting Classifier algorithm is {gbc_std_recall * 100:.2f}%\")\n",
    "print(f\"The mean score of cross validation using GradientBoosting Classifier algorithm is {gbc_avg_recall * 100:.2f}%\")"
   ]
  },
  {
   "cell_type": "markdown",
   "id": "6faa3537-163c-4656-8bb8-91163cd7057b",
   "metadata": {},
   "source": [
    "F1_SCORE\n",
    "------"
   ]
  },
  {
   "cell_type": "code",
   "execution_count": 14,
   "id": "55003c16-5b16-4b64-b7cc-dd8964e6f558",
   "metadata": {},
   "outputs": [
    {
     "name": "stdout",
     "output_type": "stream",
     "text": [
      "[0.96312364 0.93478261 0.93478261 0.93886463 0.94600432 0.93859649\n",
      " 0.94505495 0.93534483 0.94065934 0.94713656]\n",
      "The std score of cross validation using GradientBoosting Classifier algorithm is 0.82%\n",
      "The mean score of cross validation using GradientBoosting Classifier algorithm is 94.24%\n"
     ]
    }
   ],
   "source": [
    "kf = StratifiedKFold(n_splits=10, shuffle=True, random_state=42)\n",
    "gbc_f1 = cross_val_score(gbc, X_train_resampled, y_train_resampled, cv=kf, scoring='f1')\n",
    "print(gbc_f1)\n",
    "gbc_avg_f1 = np.mean(gbc_f1)\n",
    "gbc_std_f1= np.std(gbc_f1)\n",
    "print(f\"The std score of cross validation using GradientBoosting Classifier algorithm is {gbc_std_f1 * 100:.2f}%\")\n",
    "print(f\"The mean score of cross validation using GradientBoosting Classifier algorithm is {gbc_avg_f1 * 100:.2f}%\")"
   ]
  },
  {
   "cell_type": "markdown",
   "id": "44117097-aa42-4a73-82a9-1628e086f921",
   "metadata": {},
   "source": [
    "CHECKING IF IT IS OVERFITTING OR NOT\n",
    "-------------"
   ]
  },
  {
   "cell_type": "code",
   "execution_count": 15,
   "id": "63d6edfa-76dc-4faf-81f9-85c343e670c2",
   "metadata": {},
   "outputs": [
    {
     "name": "stdout",
     "output_type": "stream",
     "text": [
      "Model might be overfitting: Cross validation accuracy is lower than test accuracy\n"
     ]
    }
   ],
   "source": [
    "if gbc_avg_accuracy > accuracy:\n",
    "    print(\"Model generalizes well: Cross_validation accuracy is higher or close to test accuracy\")\n",
    "else:\n",
    "    print(\"Model might be overfitting: Cross validation accuracy is lower than test accuracy\")"
   ]
  },
  {
   "cell_type": "code",
   "execution_count": 16,
   "id": "f70b1628-e2de-4291-88ec-3fc302a42c45",
   "metadata": {},
   "outputs": [
    {
     "name": "stdout",
     "output_type": "stream",
     "text": [
      "Model generalizes well: Cross_validation accuracy is higher or close to test precision\n"
     ]
    }
   ],
   "source": [
    "if gbc_avg_precision > precision:\n",
    "    print(\"Model generalizes well: Cross_validation accuracy is higher or close to test precision\")\n",
    "else:\n",
    "    print(\"Model might be overfitting: Cross validation accuracy is lower than test precision\")"
   ]
  },
  {
   "cell_type": "code",
   "execution_count": 17,
   "id": "94a35a08-781d-4ad0-a6a8-155d5581668b",
   "metadata": {},
   "outputs": [
    {
     "name": "stdout",
     "output_type": "stream",
     "text": [
      "Model generalizes well: Cross_validation accuracy is higher or close to test recall\n"
     ]
    }
   ],
   "source": [
    "if gbc_avg_recall > recall:\n",
    "    print(\"Model generalizes well: Cross_validation accuracy is higher or close to test recall\")\n",
    "else:\n",
    "    print(\"Model might be overfitting: Cross validation accuracy is lower than test recall\")"
   ]
  },
  {
   "cell_type": "code",
   "execution_count": 18,
   "id": "db12b26a-8b39-4dc5-a18d-da8a258fb752",
   "metadata": {},
   "outputs": [
    {
     "name": "stdout",
     "output_type": "stream",
     "text": [
      "Model generalizes well: Cross_validation accuracy is higher or close to test f1_score\n"
     ]
    }
   ],
   "source": [
    "if gbc_avg_f1 > f1:\n",
    "    print(\"Model generalizes well: Cross_validation accuracy is higher or close to test f1_score\")\n",
    "else:\n",
    "    print(\"Model might be overfitting: Cross validation accuracy is lower than test f1_score\")"
   ]
  },
  {
   "cell_type": "markdown",
   "id": "9f4c6119-5a7c-43ef-8450-5cd3d22cd72b",
   "metadata": {},
   "source": [
    "Total KFold Validation\n",
    "-------------------------"
   ]
  },
  {
   "cell_type": "code",
   "execution_count": 19,
   "id": "e0122564-1aef-452c-bf99-3a3a5e4e32d8",
   "metadata": {},
   "outputs": [
    {
     "data": {
      "text/html": [
       "<div>\n",
       "<style scoped>\n",
       "    .dataframe tbody tr th:only-of-type {\n",
       "        vertical-align: middle;\n",
       "    }\n",
       "\n",
       "    .dataframe tbody tr th {\n",
       "        vertical-align: top;\n",
       "    }\n",
       "\n",
       "    .dataframe thead th {\n",
       "        text-align: right;\n",
       "    }\n",
       "</style>\n",
       "<table border=\"1\" class=\"dataframe\">\n",
       "  <thead>\n",
       "    <tr style=\"text-align: right;\">\n",
       "      <th></th>\n",
       "      <th>ALGORITHMS</th>\n",
       "      <th>ACCURACY</th>\n",
       "      <th>PRECISION</th>\n",
       "      <th>RECALL</th>\n",
       "      <th>F1_SCORE</th>\n",
       "    </tr>\n",
       "  </thead>\n",
       "  <tbody>\n",
       "    <tr>\n",
       "      <th>0</th>\n",
       "      <td>GradientBoosting Classifier</td>\n",
       "      <td>94.354124</td>\n",
       "      <td>96.142066</td>\n",
       "      <td>92.429661</td>\n",
       "      <td>94.2435</td>\n",
       "    </tr>\n",
       "  </tbody>\n",
       "</table>\n",
       "</div>"
      ],
      "text/plain": [
       "                    ALGORITHMS   ACCURACY  PRECISION     RECALL  F1_SCORE\n",
       "0  GradientBoosting Classifier  94.354124  96.142066  92.429661   94.2435"
      ]
     },
     "execution_count": 19,
     "metadata": {},
     "output_type": "execute_result"
    }
   ],
   "source": [
    "final_kfold = pd.DataFrame({\"ALGORITHMS\":[\"GradientBoosting Classifier\"], \n",
    "                           \"ACCURACY\":[gbc_avg_accuracy * 100],\n",
    "                         \"PRECISION\":[gbc_avg_precision * 100],\n",
    "                          \"RECALL\":[gbc_avg_recall * 100],\n",
    "                          \"F1_SCORE\":[gbc_avg_f1 * 100],  \n",
    "                           \n",
    "                        })\n",
    "\n",
    "final_kfold"
   ]
  },
  {
   "cell_type": "markdown",
   "id": "78bf13e8-ab88-4568-a284-39779173006e",
   "metadata": {},
   "source": [
    "FEATURE IMPORTANCE\n",
    "-------------"
   ]
  },
  {
   "cell_type": "code",
   "execution_count": 20,
   "id": "6657959f-654f-4b49-91d6-7bb52efac94c",
   "metadata": {},
   "outputs": [
    {
     "data": {
      "image/png": "[encoded data removed]",
      "text/plain": [
       "<Figure size 1000x600 with 1 Axes>"
      ]
     },
     "metadata": {},
     "output_type": "display_data"
    }
   ],
   "source": [
    "# Fit the best Random Forest model on the entire training data\n",
    "\n",
    "gbc.fit(X_train_resampled, y_train_resampled)\n",
    "\n",
    "# Get feature importances\n",
    "best_features = gbc.feature_importances_\n",
    "\n",
    "# Create a DataFrame to display feature names and their importances\n",
    "feature_df = pd.DataFrame({'Feature': X_test.columns, 'Importance': best_features})\n",
    "\n",
    "# Sort features by importance in descending order\n",
    "feature_importance_gbc = feature_df.sort_values(by='Importance', ascending=False)\n",
    "\n",
    "# Plot feature importance\n",
    "plt.figure(figsize=(10, 6))\n",
    "sns.barplot(x='Importance', y='Feature', data=feature_importance_gbc, palette='coolwarm', hue='Feature', legend=False)\n",
    "plt.title('Feature Importance of Gradient Boosting Classifier', size=18, color='black', fontweight= 'bold')   \n",
    "plt.show()"
   ]
  },
  {
   "cell_type": "code",
   "execution_count": 21,
   "id": "fdb5dca8-a0a7-4356-a345-d567f882538f",
   "metadata": {},
   "outputs": [
    {
     "data": {
      "text/html": [
       "<div>\n",
       "<style scoped>\n",
       "    .dataframe tbody tr th:only-of-type {\n",
       "        vertical-align: middle;\n",
       "    }\n",
       "\n",
       "    .dataframe tbody tr th {\n",
       "        vertical-align: top;\n",
       "    }\n",
       "\n",
       "    .dataframe thead th {\n",
       "        text-align: right;\n",
       "    }\n",
       "</style>\n",
       "<table border=\"1\" class=\"dataframe\">\n",
       "  <thead>\n",
       "    <tr style=\"text-align: right;\">\n",
       "      <th></th>\n",
       "      <th>Feature</th>\n",
       "      <th>Importance</th>\n",
       "    </tr>\n",
       "  </thead>\n",
       "  <tbody>\n",
       "    <tr>\n",
       "      <th>16</th>\n",
       "      <td>customer service calls</td>\n",
       "      <td>0.289192</td>\n",
       "    </tr>\n",
       "    <tr>\n",
       "      <th>1</th>\n",
       "      <td>international plan</td>\n",
       "      <td>0.230718</td>\n",
       "    </tr>\n",
       "    <tr>\n",
       "      <th>14</th>\n",
       "      <td>total intl calls</td>\n",
       "      <td>0.113389</td>\n",
       "    </tr>\n",
       "    <tr>\n",
       "      <th>6</th>\n",
       "      <td>total day charge</td>\n",
       "      <td>0.112980</td>\n",
       "    </tr>\n",
       "    <tr>\n",
       "      <th>4</th>\n",
       "      <td>total day minutes</td>\n",
       "      <td>0.099373</td>\n",
       "    </tr>\n",
       "    <tr>\n",
       "      <th>9</th>\n",
       "      <td>total eve charge</td>\n",
       "      <td>0.044341</td>\n",
       "    </tr>\n",
       "    <tr>\n",
       "      <th>3</th>\n",
       "      <td>number vmail messages</td>\n",
       "      <td>0.033678</td>\n",
       "    </tr>\n",
       "    <tr>\n",
       "      <th>7</th>\n",
       "      <td>total eve minutes</td>\n",
       "      <td>0.015211</td>\n",
       "    </tr>\n",
       "    <tr>\n",
       "      <th>15</th>\n",
       "      <td>total intl charge</td>\n",
       "      <td>0.013432</td>\n",
       "    </tr>\n",
       "    <tr>\n",
       "      <th>2</th>\n",
       "      <td>voice mail plan</td>\n",
       "      <td>0.012999</td>\n",
       "    </tr>\n",
       "    <tr>\n",
       "      <th>13</th>\n",
       "      <td>total intl minutes</td>\n",
       "      <td>0.008705</td>\n",
       "    </tr>\n",
       "    <tr>\n",
       "      <th>12</th>\n",
       "      <td>total night charge</td>\n",
       "      <td>0.008206</td>\n",
       "    </tr>\n",
       "    <tr>\n",
       "      <th>10</th>\n",
       "      <td>total night minutes</td>\n",
       "      <td>0.006850</td>\n",
       "    </tr>\n",
       "    <tr>\n",
       "      <th>5</th>\n",
       "      <td>total day calls</td>\n",
       "      <td>0.003578</td>\n",
       "    </tr>\n",
       "    <tr>\n",
       "      <th>0</th>\n",
       "      <td>account length</td>\n",
       "      <td>0.002745</td>\n",
       "    </tr>\n",
       "    <tr>\n",
       "      <th>11</th>\n",
       "      <td>total night calls</td>\n",
       "      <td>0.002522</td>\n",
       "    </tr>\n",
       "    <tr>\n",
       "      <th>8</th>\n",
       "      <td>total eve calls</td>\n",
       "      <td>0.002084</td>\n",
       "    </tr>\n",
       "  </tbody>\n",
       "</table>\n",
       "</div>"
      ],
      "text/plain": [
       "                   Feature  Importance\n",
       "16  customer service calls    0.289192\n",
       "1       international plan    0.230718\n",
       "14        total intl calls    0.113389\n",
       "6         total day charge    0.112980\n",
       "4        total day minutes    0.099373\n",
       "9         total eve charge    0.044341\n",
       "3    number vmail messages    0.033678\n",
       "7        total eve minutes    0.015211\n",
       "15       total intl charge    0.013432\n",
       "2          voice mail plan    0.012999\n",
       "13      total intl minutes    0.008705\n",
       "12      total night charge    0.008206\n",
       "10     total night minutes    0.006850\n",
       "5          total day calls    0.003578\n",
       "0           account length    0.002745\n",
       "11       total night calls    0.002522\n",
       "8          total eve calls    0.002084"
      ]
     },
     "execution_count": 21,
     "metadata": {},
     "output_type": "execute_result"
    }
   ],
   "source": [
    "feature_importance_gbc"
   ]
  },
  {
   "cell_type": "markdown",
   "id": "ce4ecef9-1756-459d-973d-e7daf1ada72a",
   "metadata": {},
   "source": [
    "PERMUTATION FEATURE IMPORTANCE\n",
    "----------------"
   ]
  },
  {
   "cell_type": "code",
   "execution_count": 22,
   "id": "a6953380-3370-49ed-891b-ea6ebe2d4c6a",
   "metadata": {},
   "outputs": [
    {
     "data": {
      "image/png": "[encoded data removed]",
      "text/plain": [
       "<Figure size 1000x600 with 1 Axes>"
      ]
     },
     "metadata": {},
     "output_type": "display_data"
    }
   ],
   "source": [
    "gbc.fit(X_train_resampled, y_train_resampled)\n",
    "\n",
    "#Calculate permutation feature importance\n",
    "result = permutation_importance(gbc, X_test, y_test, n_repeats=10, random_state=42) \n",
    "\n",
    "# Get permutation feature importances\n",
    "permutation_importances = result.importances_mean\n",
    "\n",
    "# Create a DataFrame to display feature names and their importances\n",
    "permutation_df = pd.DataFrame({'Feature': X_test.columns, 'Permutation_Importance': permutation_importances})\n",
    "\n",
    "# Sort Permuation features by importance in descending order\n",
    "permutation_importance_gbc = permutation_df.sort_values(by='Permutation_Importance', ascending=False)\n",
    "\n",
    "# Plot feature importance\n",
    "plt.figure(figsize=(10, 6))\n",
    "sns.barplot(x='Permutation_Importance', y='Feature', data=permutation_importance_gbc, palette='coolwarm', hue='Feature', legend=False)\n",
    "plt.title('Permutation Feature Importance of Gradient Boosting Classifier', size=18, color='black', fontweight= 'bold')   \n",
    "plt.show()"
   ]
  },
  {
   "cell_type": "code",
   "execution_count": 23,
   "id": "6557b4bf-c95a-4f5b-a38f-cf41399af26b",
   "metadata": {},
   "outputs": [
    {
     "data": {
      "text/html": [
       "<div>\n",
       "<style scoped>\n",
       "    .dataframe tbody tr th:only-of-type {\n",
       "        vertical-align: middle;\n",
       "    }\n",
       "\n",
       "    .dataframe tbody tr th {\n",
       "        vertical-align: top;\n",
       "    }\n",
       "\n",
       "    .dataframe thead th {\n",
       "        text-align: right;\n",
       "    }\n",
       "</style>\n",
       "<table border=\"1\" class=\"dataframe\">\n",
       "  <thead>\n",
       "    <tr style=\"text-align: right;\">\n",
       "      <th></th>\n",
       "      <th>Feature</th>\n",
       "      <th>Permutation_Importance</th>\n",
       "    </tr>\n",
       "  </thead>\n",
       "  <tbody>\n",
       "    <tr>\n",
       "      <th>6</th>\n",
       "      <td>total day charge</td>\n",
       "      <td>5.800000e-02</td>\n",
       "    </tr>\n",
       "    <tr>\n",
       "      <th>16</th>\n",
       "      <td>customer service calls</td>\n",
       "      <td>5.266667e-02</td>\n",
       "    </tr>\n",
       "    <tr>\n",
       "      <th>1</th>\n",
       "      <td>international plan</td>\n",
       "      <td>5.016667e-02</td>\n",
       "    </tr>\n",
       "    <tr>\n",
       "      <th>4</th>\n",
       "      <td>total day minutes</td>\n",
       "      <td>2.350000e-02</td>\n",
       "    </tr>\n",
       "    <tr>\n",
       "      <th>14</th>\n",
       "      <td>total intl calls</td>\n",
       "      <td>2.316667e-02</td>\n",
       "    </tr>\n",
       "    <tr>\n",
       "      <th>9</th>\n",
       "      <td>total eve charge</td>\n",
       "      <td>2.216667e-02</td>\n",
       "    </tr>\n",
       "    <tr>\n",
       "      <th>3</th>\n",
       "      <td>number vmail messages</td>\n",
       "      <td>1.983333e-02</td>\n",
       "    </tr>\n",
       "    <tr>\n",
       "      <th>15</th>\n",
       "      <td>total intl charge</td>\n",
       "      <td>1.816667e-02</td>\n",
       "    </tr>\n",
       "    <tr>\n",
       "      <th>13</th>\n",
       "      <td>total intl minutes</td>\n",
       "      <td>7.833333e-03</td>\n",
       "    </tr>\n",
       "    <tr>\n",
       "      <th>2</th>\n",
       "      <td>voice mail plan</td>\n",
       "      <td>2.333333e-03</td>\n",
       "    </tr>\n",
       "    <tr>\n",
       "      <th>7</th>\n",
       "      <td>total eve minutes</td>\n",
       "      <td>2.166667e-03</td>\n",
       "    </tr>\n",
       "    <tr>\n",
       "      <th>5</th>\n",
       "      <td>total day calls</td>\n",
       "      <td>1.666667e-04</td>\n",
       "    </tr>\n",
       "    <tr>\n",
       "      <th>0</th>\n",
       "      <td>account length</td>\n",
       "      <td>3.330669e-17</td>\n",
       "    </tr>\n",
       "    <tr>\n",
       "      <th>10</th>\n",
       "      <td>total night minutes</td>\n",
       "      <td>-3.333333e-04</td>\n",
       "    </tr>\n",
       "    <tr>\n",
       "      <th>12</th>\n",
       "      <td>total night charge</td>\n",
       "      <td>-5.000000e-04</td>\n",
       "    </tr>\n",
       "    <tr>\n",
       "      <th>11</th>\n",
       "      <td>total night calls</td>\n",
       "      <td>-5.000000e-04</td>\n",
       "    </tr>\n",
       "    <tr>\n",
       "      <th>8</th>\n",
       "      <td>total eve calls</td>\n",
       "      <td>-5.000000e-04</td>\n",
       "    </tr>\n",
       "  </tbody>\n",
       "</table>\n",
       "</div>"
      ],
      "text/plain": [
       "                   Feature  Permutation_Importance\n",
       "6         total day charge            5.800000e-02\n",
       "16  customer service calls            5.266667e-02\n",
       "1       international plan            5.016667e-02\n",
       "4        total day minutes            2.350000e-02\n",
       "14        total intl calls            2.316667e-02\n",
       "9         total eve charge            2.216667e-02\n",
       "3    number vmail messages            1.983333e-02\n",
       "15       total intl charge            1.816667e-02\n",
       "13      total intl minutes            7.833333e-03\n",
       "2          voice mail plan            2.333333e-03\n",
       "7        total eve minutes            2.166667e-03\n",
       "5          total day calls            1.666667e-04\n",
       "0           account length            3.330669e-17\n",
       "10     total night minutes           -3.333333e-04\n",
       "12      total night charge           -5.000000e-04\n",
       "11       total night calls           -5.000000e-04\n",
       "8          total eve calls           -5.000000e-04"
      ]
     },
     "execution_count": 23,
     "metadata": {},
     "output_type": "execute_result"
    }
   ],
   "source": [
    "permutation_importance_gbc"
   ]
  },
  {
   "cell_type": "markdown",
   "id": "a5f3d3f6-4c45-46d0-ac05-8a3ad7aa6845",
   "metadata": {},
   "source": [
    "RECRUSIVE FEATURE ELIMINATION\n",
    "-------------"
   ]
  },
  {
   "cell_type": "code",
   "execution_count": 24,
   "id": "4648c05e-bffd-40eb-aaa8-7a43d9928791",
   "metadata": {},
   "outputs": [
    {
     "name": "stdout",
     "output_type": "stream",
     "text": [
      "Selected Features:                    Feature  Importance\n",
      "1       international plan    0.230718\n",
      "4        total day minutes    0.099373\n",
      "6         total day charge    0.112980\n",
      "14        total intl calls    0.113389\n",
      "16  customer service calls    0.289192\n"
     ]
    }
   ],
   "source": [
    "gbc.fit(X_train_resampled, y_train_resampled)\n",
    "#Selected Features\n",
    "importances = gbc.feature_importances_\n",
    "feature_importance = pd.DataFrame({'Feature': X_test.columns, 'Importance': importances})\n",
    "selected_features = feature_importance[feature_importance['Importance'] > 0.05]\n",
    "print(\"Selected Features:\", selected_features)"
   ]
  },
  {
   "cell_type": "code",
   "execution_count": 25,
   "id": "be0e57ca-c26c-4a0a-8543-6a9910913b8b",
   "metadata": {},
   "outputs": [
    {
     "name": "stdout",
     "output_type": "stream",
     "text": [
      "Selected Features: Index(['international plan', 'total day minutes', 'total day charge',\n",
      "       'total intl calls', 'customer service calls'],\n",
      "      dtype='object')\n"
     ]
    }
   ],
   "source": [
    "#Apply RFE\n",
    "selector = RFE(gbc, n_features_to_select=5)\n",
    "selector = selector.fit(X_train_resampled, y_train_resampled)\n",
    "#Selected Features\n",
    "selected_features = X_test.columns[selector.support_]\n",
    "print(\"Selected Features:\", selected_features)"
   ]
  }
 ],
 "metadata": {
  "kernelspec": {
   "display_name": "Python 3 (ipykernel)",
   "language": "python",
   "name": "python3"
  },
  "language_info": {
   "codemirror_mode": {
    "name": "ipython",
    "version": 3
   },
   "file_extension": ".py",
   "mimetype": "text/x-python",
   "name": "python",
   "nbconvert_exporter": "python",
   "pygments_lexer": "ipython3",
   "version": "3.12.4"
  }
 },
 "nbformat": 4,
 "nbformat_minor": 5
}
