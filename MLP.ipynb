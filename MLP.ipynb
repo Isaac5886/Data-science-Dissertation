{
 "cells": [
  {
   "cell_type": "markdown",
   "id": "18caded7-f2d7-44ae-bc51-333a0db985af",
   "metadata": {},
   "source": [
    "DATA LOADING AND INSPECTION\n",
    "---------------"
   ]
  },
  {
   "cell_type": "code",
   "execution_count": 1,
   "id": "6767f5b4-02ce-4bbd-b753-87c05bba5020",
   "metadata": {},
   "outputs": [],
   "source": [
    "#Importing libraries\n",
    "\n",
    "#Packages for numeric\n",
    "import pandas as pd\n",
    "import numpy as np\n",
    "\n",
    "#Packages for Visualization\n",
    "import matplotlib.pyplot as plt\n",
    "import seaborn as sns\n",
    "import matplotlib.pyplot as plt \n",
    "import plotly.express as px\n",
    "\n",
    "# Modeling\n",
    "from sklearn.model_selection import train_test_split,cross_val_score,GridSearchCV, StratifiedKFold, KFold\n",
    "from imblearn.over_sampling import SMOTE,SMOTENC\n",
    "from sklearn.metrics import f1_score,recall_score,precision_score,confusion_matrix,roc_curve,roc_auc_score,classification_report, accuracy_score,log_loss# performance metrics\n",
    "from scipy import stats\n",
    "from sklearn.preprocessing import MinMaxScaler, OneHotEncoder, LabelEncoder, StandardScaler\n",
    "from sklearn import metrics\n",
    "\n",
    "#Classifier module\n",
    "from sklearn.neural_network import MLPClassifier\n",
    "\n",
    "# Filtering future warnings\n",
    "import warnings\n",
    "warnings.filterwarnings('ignore')\n"
   ]
  },
  {
   "cell_type": "code",
   "execution_count": 2,
   "id": "14aa9901-0b3d-40d5-bbe5-69911ae8331c",
   "metadata": {},
   "outputs": [],
   "source": [
    "# Load the data.\n",
    "telecom = pd.read_csv('tele-churn.csv')"
   ]
  },
  {
   "cell_type": "markdown",
   "id": "d706c3bd-42b3-4bd3-907c-7d52f3443260",
   "metadata": {},
   "source": [
    "Data Preprocessing\n",
    "----------\n",
    "Encoding\n",
    "-----------------"
   ]
  },
  {
   "cell_type": "code",
   "execution_count": 3,
   "id": "52be2a70-d588-4151-9e63-45462a99fbfd",
   "metadata": {},
   "outputs": [],
   "source": [
    "# Removing the phone number and state column\n",
    "df1 = telecom.drop(['phone number', 'state', 'area code'], axis=1)\n",
    "\n",
    "# change categorical data into numerical data\n",
    "df1['international plan'] = df1['international plan'].map({'no': 0, 'yes': 1})\n",
    "df1['voice mail plan'] = df1['voice mail plan'].map({'no': 0, 'yes': 1})\n",
    "df1['churn'] = df1['churn'].map({False : 0, True : 1})"
   ]
  },
  {
   "cell_type": "markdown",
   "id": "e5e33347-c65d-4f31-957b-66b56a34c038",
   "metadata": {},
   "source": [
    "FEATURES SCALING / STANDARDIZATION\n",
    "--------------------"
   ]
  },
  {
   "cell_type": "code",
   "execution_count": 4,
   "id": "a6dcd578-daad-4792-b331-845919b47f38",
   "metadata": {},
   "outputs": [],
   "source": [
    "# Scaling the data\n",
    "from sklearn.preprocessing import MinMaxScaler\n",
    "scaler = MinMaxScaler()\n",
    "\n",
    "# Define function for scaling a column\n",
    "def scaling(column):\n",
    "    return scaler.fit_transform(df1[[column]])\n",
    "\n",
    "# Iterate through numerical columns and scale them\n",
    "for column in df1.select_dtypes(include=[np.number]).columns:\n",
    "    df1[[column]] = scaling(column)"
   ]
  },
  {
   "cell_type": "code",
   "execution_count": 5,
   "id": "30716a4f-90f7-4b04-b9c3-6d0d4f8ec5e2",
   "metadata": {},
   "outputs": [
    {
     "name": "stdout",
     "output_type": "stream",
     "text": [
      "Test set size: (600, 17)\n",
      "Train set size: (2733,)\n",
      "Test set size: (600,)\n"
     ]
    }
   ],
   "source": [
    "# Creating a Test and Train Dataset\n",
    "y = df1['churn']\n",
    "X = df1.drop(['churn'], axis=1)\n",
    "\n",
    "from sklearn.model_selection import train_test_split\n",
    "X_train, X_test, y_train, y_test = train_test_split(X, y, test_size=0.18, random_state=42)\n",
    "\n",
    "# Check the shapes of the split dataprint(\"Train set size:\", X_train.shape)\n",
    "print(\"Test set size:\", X_test.shape)\n",
    "print(\"Train set size:\", y_train.shape)\n",
    "print(\"Test set size:\", y_test.shape)"
   ]
  },
  {
   "cell_type": "markdown",
   "id": "44ccb557-7129-44d9-b654-e6e28865f954",
   "metadata": {},
   "source": [
    "SMOTE\n",
    "------------"
   ]
  },
  {
   "cell_type": "code",
   "execution_count": 6,
   "id": "b694ee5d-3889-42c2-814d-bda35d254dd3",
   "metadata": {},
   "outputs": [
    {
     "name": "stdout",
     "output_type": "stream",
     "text": [
      "Shape of X_train_resampled: (4676, 17)\n",
      "\n",
      "Value counts of y_train_resampled:\n",
      " churn\n",
      "0.0    2338\n",
      "1.0    2338\n",
      "Name: count, dtype: int64\n"
     ]
    }
   ],
   "source": [
    "from imblearn.over_sampling import SMOTE\n",
    "smote = SMOTE(random_state=42)\n",
    "# Resample the training data\n",
    "\n",
    "smote = SMOTE(random_state=42)\n",
    "X_train_resampled, y_train_resampled = smote.fit_resample(X_train, y_train)\n",
    "\n",
    "# Check the shape of the resampled data\n",
    "print(\"Shape of X_train_resampled:\", X_train_resampled.shape)\n",
    "print(\"\\nValue counts of y_train_resampled:\\n\", y_train_resampled.value_counts())"
   ]
  },
  {
   "cell_type": "markdown",
   "id": "28c5b513-cf64-4f1b-b704-79819605df1e",
   "metadata": {},
   "source": [
    " DATA MODELING\n",
    "-------------"
   ]
  },
  {
   "cell_type": "markdown",
   "id": "e837deec-fc6e-49f8-a137-525251c34581",
   "metadata": {},
   "source": [
    "MLP CLASSIFIER (NEURAL NETWORK)\n",
    "------------------"
   ]
  },
  {
   "cell_type": "code",
   "execution_count": 7,
   "id": "288d29e3-ab1a-4e02-add2-b3017cf2aaa1",
   "metadata": {},
   "outputs": [
    {
     "name": "stdout",
     "output_type": "stream",
     "text": [
      "MLP Classifier Accuracy: 0.8850\n",
      "MLP Classifier Precision: 0.5772\n",
      "MLP Classifier recall: 0.8068\n",
      "MLP Classifier f1_score: 0.6730\n",
      "MLP Classifier auc_roc: 0.8526\n",
      "              precision    recall  f1-score   support\n",
      "\n",
      "         0.0       0.96      0.90      0.93       512\n",
      "         1.0       0.58      0.81      0.67        88\n",
      "\n",
      "    accuracy                           0.89       600\n",
      "   macro avg       0.77      0.85      0.80       600\n",
      "weighted avg       0.91      0.89      0.89       600\n",
      "\n",
      "Confusion Matrix:\n",
      " [[460  52]\n",
      " [ 17  71]]\n",
      "ROC AUC Score: 0.9171697443181819\n",
      "Training Accuracy : 0.8840102451518478\n",
      "Training Resampled Accuracy : 0.886655260906758\n",
      "Testing Accuracy : 0.885\n"
     ]
    }
   ],
   "source": [
    "#Initialize the Gradient Boosting model\n",
    "mlp =  MLPClassifier(random_state=42)\n",
    "\n",
    "#Train the model\n",
    "mlp.fit(X_train_resampled, y_train_resampled)\n",
    "\n",
    "#Make predictions\n",
    "y_pred_mlp = mlp.predict(X_test)\n",
    "\n",
    "#Evaluate the model\n",
    "accuracy= accuracy_score(y_test, y_pred_mlp)\n",
    "precision = precision_score(y_test, y_pred_mlp)\n",
    "recall = recall_score(y_test, y_pred_mlp)\n",
    "f1 = f1_score(y_test, y_pred_mlp)\n",
    "auc_roc = roc_auc_score(y_test, y_pred_mlp)\n",
    "print(f\"MLP Classifier Accuracy: {accuracy :.4f}\")\n",
    "print(f\"MLP Classifier Precision: {precision :.4f}\")\n",
    "print(f\"MLP Classifier recall: {recall :.4f}\")\n",
    "print(f\"MLP Classifier f1_score: {f1 :.4f}\")\n",
    "print(f\"MLP Classifier auc_roc: {auc_roc:.4f}\")\n",
    "print(classification_report(y_test, y_pred_mlp))\n",
    "print (\"Confusion Matrix:\\n\", confusion_matrix(y_test, y_pred_mlp))\n",
    "print(\"ROC AUC Score:\", roc_auc_score(y_test, mlp.predict_proba(X_test)[:, 1]))\n",
    "\n",
    "\n",
    "print(\"Training Accuracy :\", mlp.score(X_train, y_train))\n",
    "print(\"Training Resampled Accuracy :\", mlp.score(X_train_resampled, y_train_resampled))\n",
    "print(\"Testing Accuracy :\", mlp.score(X_test, y_test))"
   ]
  },
  {
   "cell_type": "markdown",
   "id": "023ce1b1-ac55-4014-bd71-4e3d50aa7d21",
   "metadata": {},
   "source": [
    "CONFUSION MATRIX \n",
    "---------------------"
   ]
  },
  {
   "cell_type": "code",
   "execution_count": 8,
   "id": "616c8d89-7539-4909-9f2f-7d064c53e858",
   "metadata": {},
   "outputs": [
    {
     "name": "stdout",
     "output_type": "stream",
     "text": [
      "True positives: 71\n",
      "False positives: 52\n",
      "True negatives: 460\n",
      "False negatives: 17\n",
      "\n"
     ]
    }
   ],
   "source": [
    "y_pred_mlp = mlp.predict(X_test)\n",
    "tn, fp, fn, tp = metrics.confusion_matrix(y_test, y_pred_mlp).ravel()\n",
    "\n",
    "print(f\"True positives: {tp}\")\n",
    "print(f\"False positives: {fp}\")\n",
    "print(f\"True negatives: {tn}\")\n",
    "print(f\"False negatives: {fn}\\n\")"
   ]
  },
  {
   "cell_type": "code",
   "execution_count": 9,
   "id": "43d620e4-d086-4003-bbe3-2360b3b8c318",
   "metadata": {},
   "outputs": [
    {
     "data": {
      "image/png": "[encoded data removed]",
      "text/plain": [
       "<Figure size 600x600 with 2 Axes>"
      ]
     },
     "metadata": {},
     "output_type": "display_data"
    }
   ],
   "source": [
    "#Build confusion Matrix\n",
    "cm = confusion_matrix(y_test, y_pred_mlp)\n",
    "\n",
    "#Visualize the Matrix\n",
    "plt.figure(figsize=(6,6))\n",
    "sns.heatmap(cm, annot=True, cmap='viridis', fmt='d',\n",
    "            xticklabels=['Non Churn', 'Churn'],\n",
    "            yticklabels=['Non Churn', 'Churn'])\n",
    "\n",
    "plt.xlabel('Predicted')\n",
    "plt.ylabel('Actual')\n",
    "plt.title('Confusion Matrix of Multi Layer Perceptron', size=18, color='black', fontweight= 'bold')\n",
    "plt.show()"
   ]
  },
  {
   "cell_type": "markdown",
   "id": "2db35249-9c1c-42e8-a9f9-7cb414349099",
   "metadata": {},
   "source": [
    " EVALUATION OF THE MACHINE LEARNING ALGORITHMS\n",
    "---------------------"
   ]
  },
  {
   "cell_type": "code",
   "execution_count": 10,
   "id": "43dd999c-f789-4872-909f-5f8e5a18a6eb",
   "metadata": {},
   "outputs": [
    {
     "data": {
      "text/html": [
       "<div>\n",
       "<style scoped>\n",
       "    .dataframe tbody tr th:only-of-type {\n",
       "        vertical-align: middle;\n",
       "    }\n",
       "\n",
       "    .dataframe tbody tr th {\n",
       "        vertical-align: top;\n",
       "    }\n",
       "\n",
       "    .dataframe thead th {\n",
       "        text-align: right;\n",
       "    }\n",
       "</style>\n",
       "<table border=\"1\" class=\"dataframe\">\n",
       "  <thead>\n",
       "    <tr style=\"text-align: right;\">\n",
       "      <th></th>\n",
       "      <th>ALGORITHMS</th>\n",
       "      <th>ACCURACY</th>\n",
       "      <th>PRECISION</th>\n",
       "      <th>RECALL</th>\n",
       "      <th>F1_SCORE</th>\n",
       "      <th>ROC_AUC</th>\n",
       "    </tr>\n",
       "  </thead>\n",
       "  <tbody>\n",
       "    <tr>\n",
       "      <th>0</th>\n",
       "      <td>Multi Layer Perceptron</td>\n",
       "      <td>88.5</td>\n",
       "      <td>57.723577</td>\n",
       "      <td>80.681818</td>\n",
       "      <td>67.298578</td>\n",
       "      <td>85.262784</td>\n",
       "    </tr>\n",
       "  </tbody>\n",
       "</table>\n",
       "</div>"
      ],
      "text/plain": [
       "               ALGORITHMS  ACCURACY  PRECISION     RECALL   F1_SCORE  \\\n",
       "0  Multi Layer Perceptron      88.5  57.723577  80.681818  67.298578   \n",
       "\n",
       "     ROC_AUC  \n",
       "0  85.262784  "
      ]
     },
     "execution_count": 10,
     "metadata": {},
     "output_type": "execute_result"
    }
   ],
   "source": [
    "final_data = pd.DataFrame({\"ALGORITHMS\":[\"Multi Layer Perceptron\"], \n",
    "                           \"ACCURACY\":[accuracy_score(y_test, y_pred_mlp)*100],\n",
    "                         \"PRECISION\":[precision_score(y_test, y_pred_mlp)*100],\n",
    "                          \"RECALL\":[recall_score(y_test, y_pred_mlp)*100],\n",
    "                          \"F1_SCORE\":[f1_score(y_test, y_pred_mlp)*100], \n",
    "                            \"ROC_AUC\":[roc_auc_score(y_test, y_pred_mlp)*100],      \n",
    "                        })\n",
    "\n",
    "final_data"
   ]
  },
  {
   "cell_type": "markdown",
   "id": "e7e8aaf3-3686-4bc3-9744-de51a184ad86",
   "metadata": {},
   "source": [
    " K_FOLD CROSS VALIDATION\n",
    "------------------"
   ]
  },
  {
   "cell_type": "markdown",
   "id": "dd412cd2-5542-413a-b6b0-fd050e7365a8",
   "metadata": {},
   "source": [
    "MLP Classifier model performance with 10 Fold Cross Validation\n",
    "--------------"
   ]
  },
  {
   "cell_type": "markdown",
   "id": "4bd2bfba-e7fb-4838-8302-baaed503055e",
   "metadata": {},
   "source": [
    "ACCURACY\n",
    "----"
   ]
  },
  {
   "cell_type": "code",
   "execution_count": 11,
   "id": "b3ab45c6-1683-4899-b1df-c82f50fef104",
   "metadata": {},
   "outputs": [
    {
     "name": "stdout",
     "output_type": "stream",
     "text": [
      "[0.91025641 0.87393162 0.87179487 0.84401709 0.89529915 0.85683761\n",
      " 0.88650964 0.88650964 0.88222698 0.87152034]\n",
      "The std score of cross validation using MLP algorithm is 1.79%\n",
      "The mean score of cross validation using MLP algorithm is 87.79%\n"
     ]
    }
   ],
   "source": [
    "kf = StratifiedKFold(n_splits=10, shuffle=True, random_state=42)\n",
    "mlp_accuracies = cross_val_score(mlp, X_train_resampled, y_train_resampled, cv=kf, scoring='accuracy')\n",
    "print(mlp_accuracies)\n",
    "mlp_avg_accuracy = np.mean(mlp_accuracies)\n",
    "mlp_std_accuracy = np.std(mlp_accuracies)\n",
    "print(f\"The std score of cross validation using MLP algorithm is {mlp_std_accuracy * 100:.2f}%\")\n",
    "print(f\"The mean score of cross validation using MLP algorithm is {mlp_avg_accuracy * 100:.2f}%\")"
   ]
  },
  {
   "cell_type": "markdown",
   "id": "080f4bf5-1ede-4f75-b2e5-1de9bdaa34e3",
   "metadata": {},
   "source": [
    "PRECISION\n",
    "-----"
   ]
  },
  {
   "cell_type": "code",
   "execution_count": 12,
   "id": "d941d2c1-d267-4a68-9887-b1335f4847d9",
   "metadata": {},
   "outputs": [
    {
     "name": "stdout",
     "output_type": "stream",
     "text": [
      "[0.9173913  0.87553648 0.88157895 0.84255319 0.89361702 0.8583691\n",
      " 0.88135593 0.88135593 0.87447699 0.85365854]\n",
      "The std score of cross validation using MLP algorithm is 2.01%\n",
      "The mean score of cross validation using MLP algorithm is 87.60%\n"
     ]
    }
   ],
   "source": [
    "kf = StratifiedKFold(n_splits=10, shuffle=True, random_state=42)\n",
    "mlp_precision = cross_val_score(mlp, X_train_resampled, y_train_resampled, cv=kf, scoring='precision')\n",
    "print(mlp_precision)\n",
    "mlp_avg_precision = np.mean(mlp_precision)\n",
    "mlp_std_precision = np.std(mlp_precision)\n",
    "print(f\"The std score of cross validation using MLP algorithm is {mlp_std_precision * 100:.2f}%\")\n",
    "print(f\"The mean score of cross validation using MLP algorithm is {mlp_avg_precision * 100:.2f}%\")"
   ]
  },
  {
   "cell_type": "markdown",
   "id": "d71ada2c-9625-4709-8d3a-defd951f3435",
   "metadata": {},
   "source": [
    "RECALL\n",
    "----"
   ]
  },
  {
   "cell_type": "code",
   "execution_count": 13,
   "id": "56b04a2a-95f6-48b3-9231-89906bddf5d7",
   "metadata": {},
   "outputs": [
    {
     "name": "stdout",
     "output_type": "stream",
     "text": [
      "[0.9017094  0.87179487 0.85897436 0.84615385 0.8974359  0.85470085\n",
      " 0.89270386 0.89270386 0.89316239 0.8974359 ]\n",
      "The std score of cross validation using MLP algorithm is 1.97%\n",
      "The mean score of cross validation using MLP algorithm is 88.07%\n"
     ]
    }
   ],
   "source": [
    "kf = StratifiedKFold(n_splits=10, shuffle=True, random_state=42)\n",
    "mlp_recall = cross_val_score(mlp, X_train_resampled, y_train_resampled, cv=kf, scoring='recall')\n",
    "print(mlp_recall)\n",
    "mlp_avg_recall = np.mean(mlp_recall)\n",
    "mlp_std_recall = np.std(mlp_recall)\n",
    "print(f\"The std score of cross validation using MLP algorithm is {mlp_std_recall * 100:.2f}%\")\n",
    "print(f\"The mean score of cross validation using MLP algorithm is {mlp_avg_recall * 100:.2f}%\")"
   ]
  },
  {
   "cell_type": "markdown",
   "id": "58ebfd04-d5f3-4c6c-bb77-fabef9fb92e0",
   "metadata": {},
   "source": [
    "F1_SCORE\n",
    "----"
   ]
  },
  {
   "cell_type": "code",
   "execution_count": 14,
   "id": "cd3bae31-90a9-4c7f-9739-b8b5630af9e2",
   "metadata": {},
   "outputs": [
    {
     "name": "stdout",
     "output_type": "stream",
     "text": [
      "[0.90948276 0.87366167 0.87012987 0.84434968 0.89552239 0.85653105\n",
      " 0.8869936  0.8869936  0.88372093 0.875     ]\n",
      "The std score of cross validation using MLP algorithm is 1.78%\n",
      "The mean score of cross validation using MLP algorithm is 87.82%\n"
     ]
    }
   ],
   "source": [
    "kf = StratifiedKFold(n_splits=10, shuffle=True, random_state=42)\n",
    "mlp_f1 = cross_val_score(mlp, X_train_resampled, y_train_resampled, cv=kf, scoring='f1')\n",
    "print(mlp_f1)\n",
    "mlp_avg_f1= np.mean(mlp_f1)\n",
    "mlp_std_f1 = np.std(mlp_f1)\n",
    "print(f\"The std score of cross validation using MLP algorithm is {mlp_std_f1 * 100:.2f}%\")\n",
    "print(f\"The mean score of cross validation using MLP algorithm is {mlp_avg_f1 * 100:.2f}%\")"
   ]
  },
  {
   "cell_type": "markdown",
   "id": "5bb31567-b200-4c02-bead-52070eff7755",
   "metadata": {},
   "source": [
    "CHECKING IF IT IS OVERFITTING OR NOT\n",
    "-------"
   ]
  },
  {
   "cell_type": "code",
   "execution_count": 15,
   "id": "de4c9aa2-fc97-40e9-bb97-d58cf4c98d99",
   "metadata": {},
   "outputs": [
    {
     "name": "stdout",
     "output_type": "stream",
     "text": [
      "Model might be overfitting: Cross validation accuracy is lower than test accuracy\n"
     ]
    }
   ],
   "source": [
    "if mlp_avg_accuracy > accuracy:\n",
    "    print(\"Model generalizes well: Cross_validation accuracy is higher or close to test accuracy\")\n",
    "else:\n",
    "    print(\"Model might be overfitting: Cross validation accuracy is lower than test accuracy\")"
   ]
  },
  {
   "cell_type": "code",
   "execution_count": 16,
   "id": "b64afbcb-0982-4a4f-b164-3f9427feb287",
   "metadata": {},
   "outputs": [
    {
     "name": "stdout",
     "output_type": "stream",
     "text": [
      "Model generalizes well: Cross_validation accuracy is higher or close to test precision\n"
     ]
    }
   ],
   "source": [
    "if mlp_avg_precision > precision:\n",
    "    print(\"Model generalizes well: Cross_validation accuracy is higher or close to test precision\")\n",
    "else:\n",
    "    print(\"Model might be overfitting: Cross validation accuracy is lower than test precision\")"
   ]
  },
  {
   "cell_type": "code",
   "execution_count": 17,
   "id": "6538f330-2ea3-4ecb-bbff-2ed9a38f1afe",
   "metadata": {},
   "outputs": [
    {
     "name": "stdout",
     "output_type": "stream",
     "text": [
      "Model generalizes well: Cross_validation accuracy is higher or close to test recall\n"
     ]
    }
   ],
   "source": [
    "if mlp_avg_recall > recall:\n",
    "    print(\"Model generalizes well: Cross_validation accuracy is higher or close to test recall\")\n",
    "else:\n",
    "    print(\"Model might be overfitting: Cross validation accuracy is lower than test recall\")"
   ]
  },
  {
   "cell_type": "code",
   "execution_count": 18,
   "id": "47ef62af-de9c-43f9-a631-296afaec9793",
   "metadata": {},
   "outputs": [
    {
     "name": "stdout",
     "output_type": "stream",
     "text": [
      "Model generalizes well: Cross_validation accuracy is higher or close to test f1_score\n"
     ]
    }
   ],
   "source": [
    "if mlp_avg_f1 > f1:\n",
    "    print(\"Model generalizes well: Cross_validation accuracy is higher or close to test f1_score\")\n",
    "else:\n",
    "    print(\"Model might be overfitting: Cross validation accuracy is lower than test f1_score\")"
   ]
  },
  {
   "cell_type": "markdown",
   "id": "db0e5477-d781-4cb6-b596-b307d61c874e",
   "metadata": {},
   "source": [
    "Total KFold Validation\n",
    "--------------"
   ]
  },
  {
   "cell_type": "code",
   "execution_count": 19,
   "id": "2f4035e5-d9d2-42f8-a9fd-ecac36c2b883",
   "metadata": {},
   "outputs": [
    {
     "data": {
      "text/html": [
       "<div>\n",
       "<style scoped>\n",
       "    .dataframe tbody tr th:only-of-type {\n",
       "        vertical-align: middle;\n",
       "    }\n",
       "\n",
       "    .dataframe tbody tr th {\n",
       "        vertical-align: top;\n",
       "    }\n",
       "\n",
       "    .dataframe thead th {\n",
       "        text-align: right;\n",
       "    }\n",
       "</style>\n",
       "<table border=\"1\" class=\"dataframe\">\n",
       "  <thead>\n",
       "    <tr style=\"text-align: right;\">\n",
       "      <th></th>\n",
       "      <th>ALGORITHMS</th>\n",
       "      <th>ACCURACY</th>\n",
       "      <th>PRECISION</th>\n",
       "      <th>RECALL</th>\n",
       "      <th>F1_SCORE</th>\n",
       "    </tr>\n",
       "  </thead>\n",
       "  <tbody>\n",
       "    <tr>\n",
       "      <th>0</th>\n",
       "      <td>Multi Layer Perceptron</td>\n",
       "      <td>87.789033</td>\n",
       "      <td>87.598934</td>\n",
       "      <td>88.067752</td>\n",
       "      <td>87.823856</td>\n",
       "    </tr>\n",
       "  </tbody>\n",
       "</table>\n",
       "</div>"
      ],
      "text/plain": [
       "               ALGORITHMS   ACCURACY  PRECISION     RECALL   F1_SCORE\n",
       "0  Multi Layer Perceptron  87.789033  87.598934  88.067752  87.823856"
      ]
     },
     "execution_count": 19,
     "metadata": {},
     "output_type": "execute_result"
    }
   ],
   "source": [
    "final_kfold = pd.DataFrame({\"ALGORITHMS\":[\"Multi Layer Perceptron\"], \n",
    "                           \"ACCURACY\":[mlp_avg_accuracy * 100],\n",
    "                         \"PRECISION\":[mlp_avg_precision * 100],\n",
    "                          \"RECALL\":[mlp_avg_recall * 100],\n",
    "                          \"F1_SCORE\":[mlp_avg_f1 * 100],  \n",
    "                           \n",
    "                        })\n",
    "final_kfold"
   ]
  }
 ],
 "metadata": {
  "kernelspec": {
   "display_name": "Python 3 (ipykernel)",
   "language": "python",
   "name": "python3"
  },
  "language_info": {
   "codemirror_mode": {
    "name": "ipython",
    "version": 3
   },
   "file_extension": ".py",
   "mimetype": "text/x-python",
   "name": "python",
   "nbconvert_exporter": "python",
   "pygments_lexer": "ipython3",
   "version": "3.12.4"
  }
 },
 "nbformat": 4,
 "nbformat_minor": 5
}
