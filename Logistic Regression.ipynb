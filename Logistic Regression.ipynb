{
 "cells": [
  {
   "cell_type": "markdown",
   "id": "521a04d1-0678-4724-8b4e-d599f2324e3d",
   "metadata": {},
   "source": [
    "DATA LOADING AND INSPECTION\n",
    "--------"
   ]
  },
  {
   "cell_type": "code",
   "execution_count": 1,
   "id": "2194fa0a-8dd8-4446-8a2c-e73906d32add",
   "metadata": {},
   "outputs": [],
   "source": [
    "#Importing libraries\n",
    "\n",
    "#Packages for numeric\n",
    "import pandas as pd\n",
    "import numpy as np\n",
    "\n",
    "#Packages for Visualization\n",
    "import matplotlib.pyplot as plt\n",
    "import seaborn as sns\n",
    "import matplotlib.pyplot as plt \n",
    "import plotly.express as px\n",
    "\n",
    "# Modeling\n",
    "from sklearn.model_selection import train_test_split,cross_val_score,StratifiedKFold, KFold\n",
    "from imblearn.over_sampling import SMOTE,SMOTENC\n",
    "from sklearn.metrics import f1_score,recall_score,precision_score,confusion_matrix,roc_curve,roc_auc_score,classification_report, accuracy_score,log_loss# performance metrics\n",
    "from scipy import stats\n",
    "from sklearn import metrics\n",
    "#from sklearn.preprocessing import MinMaxScaler, OneHotEncoder, LabelEncoder, StandardScaler\n",
    "\n",
    "\n",
    "#Classifier module\n",
    "from sklearn.linear_model import LogisticRegression\n",
    "\n",
    "\n",
    "# Filtering future warnings\n",
    "import warnings\n",
    "warnings.filterwarnings('ignore')"
   ]
  },
  {
   "cell_type": "code",
   "execution_count": 2,
   "id": "ffa33428-92f8-4bd2-86be-12e80d432c18",
   "metadata": {},
   "outputs": [],
   "source": [
    "# Load the data.\n",
    "telecom = pd.read_csv('tele-churn.csv')"
   ]
  },
  {
   "cell_type": "markdown",
   "id": "f6a72dbb-dcdc-4819-a7e8-93e235fc74ec",
   "metadata": {},
   "source": [
    "Data Preprocessing\n",
    "------------\n",
    "Encoding\n",
    "----------"
   ]
  },
  {
   "cell_type": "code",
   "execution_count": 3,
   "id": "164994d1-04f2-4d32-8378-319c3f7f6a56",
   "metadata": {},
   "outputs": [],
   "source": [
    "# Removing the phone number and state column\n",
    "df1 = telecom.drop(['phone number', 'state', 'area code'], axis=1)\n",
    "\n",
    "# change categorical data into numerical data\n",
    "df1['international plan'] = df1['international plan'].map({'no': 0, 'yes': 1})\n",
    "df1['voice mail plan'] = df1['voice mail plan'].map({'no': 0, 'yes': 1})\n",
    "df1['churn'] = df1['churn'].map({False : 0, True : 1})"
   ]
  },
  {
   "cell_type": "markdown",
   "id": "6abdfae5-43ba-4947-8fe3-ad91271aae6a",
   "metadata": {},
   "source": [
    "FEATURES SCALING / STANDARDIZATION\n",
    "--------"
   ]
  },
  {
   "cell_type": "code",
   "execution_count": 4,
   "id": "a3a39316-dd31-40bc-94ef-ac29fb34c8d9",
   "metadata": {},
   "outputs": [],
   "source": [
    "# Scaling the data\n",
    "from sklearn.preprocessing import MinMaxScaler\n",
    "scaler = MinMaxScaler()\n",
    "\n",
    "# Define function for scaling a column\n",
    "def scaling(column):\n",
    "    return scaler.fit_transform(df1[[column]])\n",
    "\n",
    "# Iterate through numerical columns and scale them\n",
    "for column in df1.select_dtypes(include=[np.number]).columns:\n",
    "    df1[[column]] = scaling(column)"
   ]
  },
  {
   "cell_type": "code",
   "execution_count": 5,
   "id": "c0c391fd-8655-41d7-9c4d-7b518d467caf",
   "metadata": {},
   "outputs": [
    {
     "name": "stdout",
     "output_type": "stream",
     "text": [
      "Test set size: (600, 17)\n",
      "Train set size: (2733,)\n",
      "Test set size: (600,)\n"
     ]
    }
   ],
   "source": [
    "# Creating a Test and Train Dataset\n",
    "y = df1['churn']\n",
    "X = df1.drop(['churn'], axis=1)\n",
    "\n",
    "from sklearn.model_selection import train_test_split\n",
    "X_train, X_test, y_train, y_test = train_test_split(X, y, test_size=0.18, random_state=42)\n",
    "\n",
    "# Check the shapes of the split dataprint(\"Train set size:\", X_train.shape)\n",
    "print(\"Test set size:\", X_test.shape)\n",
    "print(\"Train set size:\", y_train.shape)\n",
    "print(\"Test set size:\", y_test.shape)"
   ]
  },
  {
   "cell_type": "markdown",
   "id": "49c8fb3a-a5a3-471e-8c26-b27ef1397162",
   "metadata": {},
   "source": [
    "SMOTE\n",
    "--------"
   ]
  },
  {
   "cell_type": "code",
   "execution_count": 6,
   "id": "ae738e2b-7b2a-4a0c-a61b-ae7bfc2f4c74",
   "metadata": {},
   "outputs": [
    {
     "name": "stdout",
     "output_type": "stream",
     "text": [
      "Shape of X_train_resampled: (4676, 17)\n",
      "\n",
      "Value counts of y_train_resampled:\n",
      " churn\n",
      "0.0    2338\n",
      "1.0    2338\n",
      "Name: count, dtype: int64\n"
     ]
    }
   ],
   "source": [
    "from imblearn.over_sampling import SMOTE\n",
    "smote = SMOTE(random_state=42)\n",
    "# Resample the training data\n",
    "\n",
    "smote = SMOTE(random_state=42)\n",
    "X_train_resampled, y_train_resampled = smote.fit_resample(X_train, y_train)\n",
    "\n",
    "# Check the shape of the resampled data\n",
    "print(\"Shape of X_train_resampled:\", X_train_resampled.shape)\n",
    "print(\"\\nValue counts of y_train_resampled:\\n\", y_train_resampled.value_counts())"
   ]
  },
  {
   "cell_type": "markdown",
   "id": "da934ea8-065f-4409-9981-5e17c38f3ae3",
   "metadata": {},
   "source": [
    "DATA MODELING\n",
    "------------\n",
    "LOGISTIC REGRESSION\n",
    "-----------"
   ]
  },
  {
   "cell_type": "code",
   "execution_count": 7,
   "id": "fcad833a-1fa6-40bc-8528-394ddab79ee1",
   "metadata": {},
   "outputs": [
    {
     "name": "stdout",
     "output_type": "stream",
     "text": [
      "Logistic Regression Accuracy: 0.7767\n",
      "Logistic Regression Precision: 0.3693\n",
      "Logistic Regression recall: 0.7386\n",
      "Logistic Regression f1_score: 0.4924\n",
      "Logistic Regression auc_roc: 0.7609\n",
      "              precision    recall  f1-score   support\n",
      "\n",
      "         0.0       0.95      0.78      0.86       512\n",
      "         1.0       0.37      0.74      0.49        88\n",
      "\n",
      "    accuracy                           0.78       600\n",
      "   macro avg       0.66      0.76      0.67       600\n",
      "weighted avg       0.86      0.78      0.80       600\n",
      "\n",
      "Confusion Matrix:\n",
      " [[401 111]\n",
      " [ 23  65]]\n",
      "ROC AUC Score: 0.83251953125\n",
      "Training Accuracy : 0.7749725576289791\n",
      "Training Resampled Accuracy : 0.7748075278015398\n",
      "Testing Accuracy : 0.7766666666666666\n"
     ]
    }
   ],
   "source": [
    "#Initialize the Logistic Regression model\n",
    "lr = LogisticRegression()\n",
    "\n",
    "#Train the model\n",
    "lr.fit(X_train_resampled, y_train_resampled)\n",
    "\n",
    "#Make predictions\n",
    "y_pred_lr = lr.predict(X_test)\n",
    "\n",
    "\n",
    "#Evaluate the model\n",
    "accuracy= accuracy_score(y_test, y_pred_lr)\n",
    "precision = precision_score(y_test, y_pred_lr)\n",
    "recall = recall_score(y_test, y_pred_lr)\n",
    "f1 = f1_score(y_test, y_pred_lr)\n",
    "auc_roc = roc_auc_score(y_test, y_pred_lr)\n",
    "print(f\"Logistic Regression Accuracy: {accuracy :.4f}\")\n",
    "print(f\"Logistic Regression Precision: {precision :.4f}\")\n",
    "print(f\"Logistic Regression recall: {recall :.4f}\")\n",
    "print(f\"Logistic Regression f1_score: {f1 :.4f}\")\n",
    "print(f\"Logistic Regression auc_roc: {auc_roc :.4f}\")\n",
    "print(classification_report(y_test, y_pred_lr))\n",
    "print (\"Confusion Matrix:\\n\", confusion_matrix(y_test, y_pred_lr))\n",
    "print(\"ROC AUC Score:\", roc_auc_score(y_test, lr.predict_proba(X_test)[:, 1]))\n",
    "\n",
    "\n",
    "print(\"Training Accuracy :\", lr.score(X_train, y_train))\n",
    "print(\"Training Resampled Accuracy :\", lr.score(X_train_resampled, y_train_resampled))\n",
    "print(\"Testing Accuracy :\", lr.score(X_test, y_test))"
   ]
  },
  {
   "cell_type": "markdown",
   "id": "094982ad-7fc3-4e89-b9ef-79d7d2a14c3a",
   "metadata": {},
   "source": [
    " CONFUSION MATRIX FOR LOGISTIC REGRESSION\n",
    "--------------"
   ]
  },
  {
   "cell_type": "code",
   "execution_count": 8,
   "id": "8faac909-8e5c-4419-bd4f-9064ef6992b4",
   "metadata": {},
   "outputs": [
    {
     "name": "stdout",
     "output_type": "stream",
     "text": [
      "True positives: 65\n",
      "False positives: 111\n",
      "True negatives: 401\n",
      "False negatives: 23\n",
      "\n"
     ]
    }
   ],
   "source": [
    "y_pred_lr = lr.predict(X_test)\n",
    "tn, fp, fn, tp = metrics.confusion_matrix(y_test, y_pred_lr).ravel()\n",
    "\n",
    "print(f\"True positives: {tp}\")\n",
    "print(f\"False positives: {fp}\")\n",
    "print(f\"True negatives: {tn}\")\n",
    "print(f\"False negatives: {fn}\\n\")"
   ]
  },
  {
   "cell_type": "code",
   "execution_count": 9,
   "id": "e8f986c7-ad97-4052-95e8-e0eb63ad81c8",
   "metadata": {},
   "outputs": [
    {
     "data": {
      "image/png": "[encoded data removed]",
      "text/plain": [
       "<Figure size 600x600 with 2 Axes>"
      ]
     },
     "metadata": {},
     "output_type": "display_data"
    }
   ],
   "source": [
    "#Build confusion Matrix\n",
    "cm = confusion_matrix(y_test, y_pred_lr)\n",
    "\n",
    "#Visualize the Matrix\n",
    "plt.figure(figsize=(6,6))\n",
    "sns.heatmap(cm, annot=True, cmap='viridis', fmt='d',\n",
    "            xticklabels=['Non Churn', 'Churn'],\n",
    "         yticklabels=['Non Churn', 'Churn'])\n",
    "\n",
    "plt.xlabel('Predicted')\n",
    "plt.ylabel('Actual')\n",
    "plt.title('Confusion Matrix of Logistic Regression', size=18, color='black', fontweight= 'bold')\n",
    "plt.show()\n"
   ]
  },
  {
   "cell_type": "markdown",
   "id": "3a868df0-6956-457c-b100-41379664b7cc",
   "metadata": {},
   "source": [
    "EVALUATION OF THE MACHINE LEARNING ALGORITHMS\n",
    "-----------------------"
   ]
  },
  {
   "cell_type": "code",
   "execution_count": 10,
   "id": "78593092-2603-437d-afad-96cddde10a8a",
   "metadata": {},
   "outputs": [
    {
     "data": {
      "text/html": [
       "<div>\n",
       "<style scoped>\n",
       "    .dataframe tbody tr th:only-of-type {\n",
       "        vertical-align: middle;\n",
       "    }\n",
       "\n",
       "    .dataframe tbody tr th {\n",
       "        vertical-align: top;\n",
       "    }\n",
       "\n",
       "    .dataframe thead th {\n",
       "        text-align: right;\n",
       "    }\n",
       "</style>\n",
       "<table border=\"1\" class=\"dataframe\">\n",
       "  <thead>\n",
       "    <tr style=\"text-align: right;\">\n",
       "      <th></th>\n",
       "      <th>ALGORITHMS</th>\n",
       "      <th>ACCURACY</th>\n",
       "      <th>PRECISION</th>\n",
       "      <th>RECALL</th>\n",
       "      <th>F1_SCORE</th>\n",
       "      <th>ROC_AUC</th>\n",
       "    </tr>\n",
       "  </thead>\n",
       "  <tbody>\n",
       "    <tr>\n",
       "      <th>0</th>\n",
       "      <td>Logistic Regression</td>\n",
       "      <td>77.666667</td>\n",
       "      <td>36.931818</td>\n",
       "      <td>73.863636</td>\n",
       "      <td>49.242424</td>\n",
       "      <td>76.091974</td>\n",
       "    </tr>\n",
       "  </tbody>\n",
       "</table>\n",
       "</div>"
      ],
      "text/plain": [
       "            ALGORITHMS   ACCURACY  PRECISION     RECALL   F1_SCORE    ROC_AUC\n",
       "0  Logistic Regression  77.666667  36.931818  73.863636  49.242424  76.091974"
      ]
     },
     "execution_count": 10,
     "metadata": {},
     "output_type": "execute_result"
    }
   ],
   "source": [
    "final_data = pd.DataFrame({\"ALGORITHMS\":[\"Logistic Regression\"], \n",
    "                           \"ACCURACY\":[accuracy_score(y_test, y_pred_lr)*100],\n",
    "                         \"PRECISION\":[precision_score(y_test, y_pred_lr)*100],\n",
    "                          \"RECALL\":[recall_score(y_test, y_pred_lr)*100],\n",
    "                          \"F1_SCORE\":[f1_score(y_test, y_pred_lr)*100], \n",
    "                            \"ROC_AUC\":[roc_auc_score(y_test, y_pred_lr)*100], \n",
    "                           \n",
    "                        })\n",
    "\n",
    "final_data"
   ]
  },
  {
   "cell_type": "markdown",
   "id": "d8255bc0-7589-4770-824f-5f4d133d7830",
   "metadata": {},
   "source": [
    " K_FOLD CROSS VALIDATION\n",
    "------------"
   ]
  },
  {
   "cell_type": "markdown",
   "id": "e735e5e2-a785-492c-aa9f-4d7b82f6de27",
   "metadata": {},
   "source": [
    "ACCURACY\n",
    "-------"
   ]
  },
  {
   "cell_type": "code",
   "execution_count": 11,
   "id": "62389428-7d32-4e13-b7e1-0f4f0871b6fa",
   "metadata": {},
   "outputs": [
    {
     "name": "stdout",
     "output_type": "stream",
     "text": [
      "[0.79273504 0.76495726 0.75854701 0.74145299 0.78418803 0.75213675\n",
      " 0.78586724 0.75588865 0.80728051 0.7751606 ]\n",
      "The std score of cross validation using Logistic Regression algorithm is 1.96%\n",
      "The mean score of cross validation using Logistic Regression (LR) algorithm is 77.18%\n"
     ]
    }
   ],
   "source": [
    "kf = StratifiedKFold(n_splits=10, shuffle=True, random_state=42)\n",
    "\n",
    "#log_reg = LogisticRegression()\n",
    "lr_accuracies = cross_val_score(lr, X_train_resampled, y_train_resampled, cv=kf, scoring='accuracy')\n",
    "print(lr_accuracies)\n",
    "lr_avg_accuracy = np.mean(lr_accuracies)\n",
    "lr_std_accuracy = np.std(lr_accuracies)\n",
    "print(f\"The std score of cross validation using Logistic Regression algorithm is {lr_std_accuracy * 100:.2f}%\")\n",
    "print(f\"The mean score of cross validation using Logistic Regression (LR) algorithm is {lr_avg_accuracy * 100:.2f}%\")"
   ]
  },
  {
   "cell_type": "markdown",
   "id": "cfbac8b8-ed65-4823-b476-b990c16d7599",
   "metadata": {},
   "source": [
    "PRECISION\n",
    "---"
   ]
  },
  {
   "cell_type": "code",
   "execution_count": 12,
   "id": "6adc8fcf-e067-4501-b0e0-2a10c930b89e",
   "metadata": {},
   "outputs": [
    {
     "name": "stdout",
     "output_type": "stream",
     "text": [
      "[0.79399142 0.7605042  0.76190476 0.73839662 0.78540773 0.74789916\n",
      " 0.79295154 0.75536481 0.81858407 0.78414097]\n",
      "The std score of cross validation using Logistic Regression algorithm is 2.37%\n",
      "The mean score of cross validation using Logistic Regression (LR) algorithm is 77.39%\n"
     ]
    }
   ],
   "source": [
    "kf = StratifiedKFold(n_splits=10, shuffle=True, random_state=42)\n",
    "\n",
    "#log_reg = LogisticRegression()\n",
    "lr_precision = cross_val_score(lr, X_train_resampled, y_train_resampled, cv=kf, scoring='precision')\n",
    "print(lr_precision)\n",
    "lr_avg_precision = np.mean(lr_precision)\n",
    "lr_std_precision = np.std(lr_precision)\n",
    "print(f\"The std score of cross validation using Logistic Regression algorithm is {lr_std_precision * 100:.2f}%\")\n",
    "print(f\"The mean score of cross validation using Logistic Regression (LR) algorithm is {lr_avg_precision * 100:.2f}%\")"
   ]
  },
  {
   "cell_type": "markdown",
   "id": "e0f4cf8f-6fae-4d1b-83e0-da766b261f7c",
   "metadata": {},
   "source": [
    "RECALL\n",
    "-----"
   ]
  },
  {
   "cell_type": "code",
   "execution_count": 13,
   "id": "8e006f4f-ca63-4e34-9f46-83c713eb1835",
   "metadata": {},
   "outputs": [
    {
     "name": "stdout",
     "output_type": "stream",
     "text": [
      "[0.79059829 0.77350427 0.75213675 0.74786325 0.78205128 0.76068376\n",
      " 0.77253219 0.75536481 0.79059829 0.76068376]\n",
      "The std score of cross validation using Logistic Regression algorithm is 1.48%\n",
      "The mean score of cross validation using Logistic Regression (LR) algorithm is 76.86%\n"
     ]
    }
   ],
   "source": [
    "kf = StratifiedKFold(n_splits=10, shuffle=True, random_state=42)\n",
    "lr_recall = cross_val_score(lr, X_train_resampled, y_train_resampled, cv=kf, scoring='recall')\n",
    "print(lr_recall)\n",
    "lr_avg_recall = np.mean(lr_recall)\n",
    "lr_std_recall = np.std(lr_recall)\n",
    "print(f\"The std score of cross validation using Logistic Regression algorithm is {lr_std_recall * 100:.2f}%\")\n",
    "print(f\"The mean score of cross validation using Logistic Regression (LR) algorithm is {lr_avg_recall * 100:.2f}%\")"
   ]
  },
  {
   "cell_type": "markdown",
   "id": "2b5935f5-2b94-42c2-b222-583962cbedfb",
   "metadata": {},
   "source": [
    "F1_SCORE\n",
    "-----------"
   ]
  },
  {
   "cell_type": "code",
   "execution_count": 14,
   "id": "8439cdf9-e4a7-42be-852e-a55aab08f479",
   "metadata": {},
   "outputs": [
    {
     "name": "stdout",
     "output_type": "stream",
     "text": [
      "[0.79059829 0.77350427 0.75213675 0.74786325 0.78205128 0.76068376\n",
      " 0.77253219 0.75536481 0.79059829 0.76068376]\n",
      "The std score of cross validation using Logistic Regression algorithm is 1.48%\n",
      "The mean score of cross validation using Logistic Regression (LR) algorithm is 76.86%\n"
     ]
    }
   ],
   "source": [
    "kf = StratifiedKFold(n_splits=10, shuffle=True, random_state=42)\n",
    "lr_f1 = cross_val_score(lr, X_train_resampled, y_train_resampled, cv=kf, scoring='recall')\n",
    "print(lr_f1)\n",
    "lr_avg_f1 = np.mean(lr_f1)\n",
    "lr_std_f1 = np.std(lr_f1)\n",
    "print(f\"The std score of cross validation using Logistic Regression algorithm is {lr_std_f1 * 100:.2f}%\")\n",
    "print(f\"The mean score of cross validation using Logistic Regression (LR) algorithm is {lr_avg_f1 * 100:.2f}%\")"
   ]
  },
  {
   "cell_type": "markdown",
   "id": "eba3469a-0b85-40a4-aef0-24d21dfec88b",
   "metadata": {},
   "source": [
    "CHECKING IF IT IS OVERFITTING OR NOT\n",
    "------------"
   ]
  },
  {
   "cell_type": "markdown",
   "id": "736b9230-9836-4482-beca-b6bf99e60188",
   "metadata": {},
   "source": [
    "ACCURACY\n",
    "----"
   ]
  },
  {
   "cell_type": "code",
   "execution_count": 15,
   "id": "cafa13bb-f6fd-46c0-862d-e1e659944ed0",
   "metadata": {},
   "outputs": [
    {
     "name": "stdout",
     "output_type": "stream",
     "text": [
      "Model might be overfitting: Cross validation accuracy is lower than accuracy\n"
     ]
    }
   ],
   "source": [
    "if lr_avg_accuracy > accuracy:\n",
    "    print(\"Model generalizes well: Cross_validation accuracy is higher or close to accuracy\")\n",
    "else:\n",
    "    print(\"Model might be overfitting: Cross validation accuracy is lower than accuracy\")"
   ]
  },
  {
   "cell_type": "markdown",
   "id": "d6003bbf-f67c-4032-98ca-4c5c28ca16ea",
   "metadata": {},
   "source": [
    "PRECISION\n",
    "----"
   ]
  },
  {
   "cell_type": "code",
   "execution_count": 16,
   "id": "07038878-880d-4c97-98df-fa99e175e174",
   "metadata": {},
   "outputs": [
    {
     "name": "stdout",
     "output_type": "stream",
     "text": [
      "Model generalizes well: Cross_validation accuracy is higher or close to precison\n"
     ]
    }
   ],
   "source": [
    "if lr_avg_precision > precision:\n",
    "    print(\"Model generalizes well: Cross_validation accuracy is higher or close to precison\")\n",
    "else:\n",
    "    print(\"Model might be overfitting: Cross validation accuracy is lower than precision\")"
   ]
  },
  {
   "cell_type": "markdown",
   "id": "82111297-5ed8-428f-99d3-09f7dc49be05",
   "metadata": {},
   "source": [
    "RECALL\n",
    "--------"
   ]
  },
  {
   "cell_type": "code",
   "execution_count": 17,
   "id": "6c6f52ed-2412-4818-8ca6-50ee1a9be127",
   "metadata": {},
   "outputs": [
    {
     "name": "stdout",
     "output_type": "stream",
     "text": [
      "Model generalizes well: Cross_validation accuracy is higher or close to recall\n"
     ]
    }
   ],
   "source": [
    "if lr_avg_recall > recall:\n",
    "    print(\"Model generalizes well: Cross_validation accuracy is higher or close to recall\")\n",
    "else:\n",
    "    print(\"Model might be overfitting: Cross validation accuracy is lower than recall\")"
   ]
  },
  {
   "cell_type": "markdown",
   "id": "03200b42-948b-49d9-b1b6-c2cb34d98cff",
   "metadata": {},
   "source": [
    "F1_SCORE\n",
    "------"
   ]
  },
  {
   "cell_type": "code",
   "execution_count": 18,
   "id": "9a930e72-157d-4a69-917c-bb9cbff3e423",
   "metadata": {},
   "outputs": [
    {
     "name": "stdout",
     "output_type": "stream",
     "text": [
      "Model generalizes well: Cross_validation accuracy is higher or close to F1_SCORE\n"
     ]
    }
   ],
   "source": [
    "if lr_avg_f1 > f1:\n",
    "    print(\"Model generalizes well: Cross_validation accuracy is higher or close to F1_SCORE\")\n",
    "else:\n",
    "    print(\"Model might be overfitting: Cross validation accuracy is lower than F1_SCORE\")"
   ]
  },
  {
   "cell_type": "markdown",
   "id": "4fd4abd3-a388-4d49-8db5-f760b0bd88ec",
   "metadata": {},
   "source": [
    "TOTAL KFOLD VALIDATION\n",
    "----------"
   ]
  },
  {
   "cell_type": "code",
   "execution_count": 19,
   "id": "40574a64-7775-4cbd-a446-4240ff673ebf",
   "metadata": {},
   "outputs": [
    {
     "data": {
      "text/html": [
       "<div>\n",
       "<style scoped>\n",
       "    .dataframe tbody tr th:only-of-type {\n",
       "        vertical-align: middle;\n",
       "    }\n",
       "\n",
       "    .dataframe tbody tr th {\n",
       "        vertical-align: top;\n",
       "    }\n",
       "\n",
       "    .dataframe thead th {\n",
       "        text-align: right;\n",
       "    }\n",
       "</style>\n",
       "<table border=\"1\" class=\"dataframe\">\n",
       "  <thead>\n",
       "    <tr style=\"text-align: right;\">\n",
       "      <th></th>\n",
       "      <th>ALGORITHMS</th>\n",
       "      <th>ACCURACY</th>\n",
       "      <th>PRECISION</th>\n",
       "      <th>RECALL</th>\n",
       "      <th>F1_SCORE</th>\n",
       "    </tr>\n",
       "  </thead>\n",
       "  <tbody>\n",
       "    <tr>\n",
       "      <th>0</th>\n",
       "      <td>Logistic Regression</td>\n",
       "      <td>77.182141</td>\n",
       "      <td>77.391453</td>\n",
       "      <td>76.860167</td>\n",
       "      <td>76.860167</td>\n",
       "    </tr>\n",
       "  </tbody>\n",
       "</table>\n",
       "</div>"
      ],
      "text/plain": [
       "            ALGORITHMS   ACCURACY  PRECISION     RECALL   F1_SCORE\n",
       "0  Logistic Regression  77.182141  77.391453  76.860167  76.860167"
      ]
     },
     "execution_count": 19,
     "metadata": {},
     "output_type": "execute_result"
    }
   ],
   "source": [
    "final_kfold = pd.DataFrame({\"ALGORITHMS\":[\"Logistic Regression\"], \n",
    "                           \"ACCURACY\":[lr_avg_accuracy * 100],\n",
    "                         \"PRECISION\":[lr_avg_precision * 100],\n",
    "                          \"RECALL\":[lr_avg_recall * 100],\n",
    "                          \"F1_SCORE\":[lr_avg_f1 * 100],  \n",
    "                           \n",
    "                        })\n",
    "\n",
    "final_kfold"
   ]
  }
 ],
 "metadata": {
  "kernelspec": {
   "display_name": "Python 3 (ipykernel)",
   "language": "python",
   "name": "python3"
  },
  "language_info": {
   "codemirror_mode": {
    "name": "ipython",
    "version": 3
   },
   "file_extension": ".py",
   "mimetype": "text/x-python",
   "name": "python",
   "nbconvert_exporter": "python",
   "pygments_lexer": "ipython3",
   "version": "3.12.4"
  }
 },
 "nbformat": 4,
 "nbformat_minor": 5
}
