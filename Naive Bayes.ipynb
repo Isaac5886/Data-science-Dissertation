{
 "cells": [
  {
   "cell_type": "markdown",
   "id": "7c66d843-e8cc-4918-bc2f-17f598b598d7",
   "metadata": {},
   "source": [
    "DATA LOADING AND INSPECTION\n",
    "-----------"
   ]
  },
  {
   "cell_type": "code",
   "execution_count": 1,
   "id": "3cdf9da4-19be-4318-b2af-131b904d57cf",
   "metadata": {},
   "outputs": [],
   "source": [
    "#Importing libraries\n",
    "\n",
    "#Packages for numeric\n",
    "import pandas as pd\n",
    "import numpy as np\n",
    "\n",
    "#Packages for Visualization\n",
    "import matplotlib.pyplot as plt\n",
    "import seaborn as sns\n",
    "import matplotlib.pyplot as plt \n",
    "import plotly.express as px\n",
    "\n",
    "# Modeling\n",
    "from sklearn.model_selection import train_test_split,cross_val_score,StratifiedKFold, KFold\n",
    "from imblearn.over_sampling import SMOTE,SMOTENC\n",
    "from sklearn.metrics import f1_score,recall_score,precision_score,confusion_matrix,roc_curve,roc_auc_score,classification_report, accuracy_score,log_loss# performance metrics\n",
    "from scipy import stats\n",
    "from sklearn import metrics\n",
    "from sklearn.preprocessing import MinMaxScaler, OneHotEncoder, LabelEncoder, StandardScaler\n",
    "\n",
    "\n",
    "#Classifier module\n",
    "from sklearn.naive_bayes import GaussianNB\n",
    "\n",
    "# Filtering future warnings\n",
    "import warnings\n",
    "warnings.filterwarnings('ignore')"
   ]
  },
  {
   "cell_type": "code",
   "execution_count": 2,
   "id": "048c7af5-dc55-4a46-88e1-f963d24de986",
   "metadata": {},
   "outputs": [],
   "source": [
    "# Load the data.\n",
    "telecom = pd.read_csv('tele-churn.csv')"
   ]
  },
  {
   "cell_type": "markdown",
   "id": "443f2976-97de-426e-b3f4-394097b5720b",
   "metadata": {},
   "source": [
    "Data Preprocessing\n",
    "-----------\n",
    "Encoding\n",
    "-------"
   ]
  },
  {
   "cell_type": "code",
   "execution_count": 3,
   "id": "5f0ec3ae-c8fa-4b18-856d-c029f2c47e31",
   "metadata": {},
   "outputs": [],
   "source": [
    "#Removing the phone number and state column\n",
    "df1 = telecom.drop(['phone number', 'state', 'area code'], axis=1)\n",
    "\n",
    "# change categorical data into numerical data\n",
    "df1['international plan'] = df1['international plan'].map({'no': 0, 'yes': 1})\n",
    "df1['voice mail plan'] = df1['voice mail plan'].map({'no': 0, 'yes': 1})\n",
    "df1['churn'] = df1['churn'].map({False : 0, True : 1})"
   ]
  },
  {
   "cell_type": "markdown",
   "id": "d8e77b7a-a050-49ea-b484-0c10a44fd607",
   "metadata": {},
   "source": [
    "FEATURES SCALING / STANDARDIZATION\n",
    "------------"
   ]
  },
  {
   "cell_type": "code",
   "execution_count": 4,
   "id": "d2ef44df-01f2-4a7b-b815-71be5c44ec2c",
   "metadata": {},
   "outputs": [],
   "source": [
    "# Scaling the data\n",
    "from sklearn.preprocessing import MinMaxScaler\n",
    "scaler = MinMaxScaler()\n",
    "\n",
    "# Define function for scaling a column\n",
    "def scaling(column):\n",
    "    return scaler.fit_transform(df1[[column]])\n",
    "\n",
    "# Iterate through numerical columns and scale them\n",
    "for column in df1.select_dtypes(include=[np.number]).columns:\n",
    "    df1[[column]] = scaling(column)"
   ]
  },
  {
   "cell_type": "code",
   "execution_count": 5,
   "id": "fa9ca84d-f8cc-458f-88b5-48b205bc6e79",
   "metadata": {},
   "outputs": [
    {
     "name": "stdout",
     "output_type": "stream",
     "text": [
      "Test set size: (600, 17)\n",
      "Train set size: (2733,)\n",
      "Test set size: (600,)\n"
     ]
    }
   ],
   "source": [
    "# Creating a Test and Train Dataset\n",
    "y = df1['churn']\n",
    "X = df1.drop(['churn'], axis=1)\n",
    "\n",
    "from sklearn.model_selection import train_test_split\n",
    "X_train, X_test, y_train, y_test = train_test_split(X, y, test_size=0.18, random_state=42)\n",
    "\n",
    "# Check the shapes of the split dataprint(\"Train set size:\", X_train.shape)\n",
    "print(\"Test set size:\", X_test.shape)\n",
    "print(\"Train set size:\", y_train.shape)\n",
    "print(\"Test set size:\", y_test.shape)"
   ]
  },
  {
   "cell_type": "markdown",
   "id": "641ec00b-8716-4b7f-9eae-5cbe6e6acd9b",
   "metadata": {},
   "source": [
    "SMOTE\n",
    "--------"
   ]
  },
  {
   "cell_type": "code",
   "execution_count": 6,
   "id": "2ed65311-57ae-4d17-a768-ec4cdfd7f26d",
   "metadata": {},
   "outputs": [
    {
     "name": "stdout",
     "output_type": "stream",
     "text": [
      "Shape of X_train_resampled: (4676, 17)\n",
      "\n",
      "Value counts of y_train_resampled:\n",
      " churn\n",
      "0.0    2338\n",
      "1.0    2338\n",
      "Name: count, dtype: int64\n"
     ]
    }
   ],
   "source": [
    "from imblearn.over_sampling import SMOTE\n",
    "smote = SMOTE(random_state=42)\n",
    "# Resample the training data\n",
    "\n",
    "smote = SMOTE(random_state=42)\n",
    "X_train_resampled, y_train_resampled = smote.fit_resample(X_train, y_train)\n",
    "\n",
    "# Check the shape of the resampled data\n",
    "print(\"Shape of X_train_resampled:\", X_train_resampled.shape)\n",
    "print(\"\\nValue counts of y_train_resampled:\\n\", y_train_resampled.value_counts())"
   ]
  },
  {
   "cell_type": "markdown",
   "id": "8048514f-f9ae-4ab0-a3b4-28ada7a28597",
   "metadata": {},
   "source": [
    "DATA MODELING\n",
    "-----\n",
    "NAIVE BAYES CLASSIFIER\n",
    "-------"
   ]
  },
  {
   "cell_type": "code",
   "execution_count": 7,
   "id": "69f567f9-d494-41b7-8597-18ff2e70e3cd",
   "metadata": {},
   "outputs": [
    {
     "name": "stdout",
     "output_type": "stream",
     "text": [
      " Naive Bayes accuracy: 0.7933\n",
      "Naive Bayes precision: 0.3953\n",
      " Naive Bayes recall: 0.7727\n",
      " Naive Bayes f1_score: 0.5231\n",
      " Naive Bayes auc_roc: 0.7848\n",
      "              precision    recall  f1-score   support\n",
      "\n",
      "         0.0       0.95      0.80      0.87       512\n",
      "         1.0       0.40      0.77      0.52        88\n",
      "\n",
      "    accuracy                           0.79       600\n",
      "   macro avg       0.67      0.78      0.70       600\n",
      "weighted avg       0.87      0.79      0.82       600\n",
      "\n",
      "Confusion Matrix:\n",
      " [[408 104]\n",
      " [ 20  68]]\n",
      "ROC AUC Score: 0.8153852982954546\n",
      "Training Accuracy : 0.7925356750823271\n",
      "Training Resampled Accuracy : 0.8021813515825492\n",
      "Testing Accuracy : 0.7933333333333333\n"
     ]
    }
   ],
   "source": [
    "#Initialize the Gradient Boosting model\n",
    "nb =  GaussianNB()\n",
    "\n",
    "#Train the model\n",
    "nb.fit(X_train_resampled, y_train_resampled)\n",
    "\n",
    "#Make predictions\n",
    "y_pred_nb = nb.predict(X_test)\n",
    "\n",
    "#Evaluate the model\n",
    "accuracy= accuracy_score(y_test, y_pred_nb)\n",
    "precision = precision_score(y_test, y_pred_nb)\n",
    "recall = recall_score(y_test, y_pred_nb)\n",
    "f1 = f1_score(y_test, y_pred_nb)\n",
    "auc_roc = roc_auc_score(y_test, y_pred_nb)\n",
    "print(f\" Naive Bayes accuracy: {accuracy :.4f}\")\n",
    "print(f\"Naive Bayes precision: {precision :.4f}\")\n",
    "print(f\" Naive Bayes recall: {recall :.4f}\")\n",
    "print(f\" Naive Bayes f1_score: {f1 :.4f}\")\n",
    "print(f\" Naive Bayes auc_roc: {auc_roc :.4f}\")\n",
    "print(classification_report(y_test, y_pred_nb))\n",
    "print (\"Confusion Matrix:\\n\", confusion_matrix(y_test, y_pred_nb))\n",
    "print(\"ROC AUC Score:\", roc_auc_score(y_test, nb.predict_proba(X_test)[:, 1]))\n",
    "\n",
    "\n",
    "print(\"Training Accuracy :\", nb.score(X_train, y_train))\n",
    "print(\"Training Resampled Accuracy :\", nb.score(X_train_resampled, y_train_resampled))\n",
    "print(\"Testing Accuracy :\", nb.score(X_test, y_test))"
   ]
  },
  {
   "cell_type": "markdown",
   "id": "5d685dca-b6b5-4765-b6af-aa3991a3348b",
   "metadata": {},
   "source": [
    "CONFUSION MATRIX\n",
    "-----------"
   ]
  },
  {
   "cell_type": "code",
   "execution_count": 8,
   "id": "2af99355-c877-4adf-b197-ca4f75c14ad4",
   "metadata": {},
   "outputs": [
    {
     "name": "stdout",
     "output_type": "stream",
     "text": [
      "True positives: 68\n",
      "False positives: 104\n",
      "True negatives: 408\n",
      "False negatives: 20\n",
      "\n"
     ]
    }
   ],
   "source": [
    "pred_nb = nb.predict(X_test)\n",
    "tn, fp, fn, tp = metrics.confusion_matrix(y_test, y_pred_nb).ravel()\n",
    "\n",
    "print(f\"True positives: {tp}\")\n",
    "print(f\"False positives: {fp}\")\n",
    "print(f\"True negatives: {tn}\")\n",
    "print(f\"False negatives: {fn}\\n\")"
   ]
  },
  {
   "cell_type": "code",
   "execution_count": 9,
   "id": "7805cb69-9a08-42cd-a03f-73ec0a5aa618",
   "metadata": {},
   "outputs": [
    {
     "data": {
      "image/png": "[encoded data removed]",
      "text/plain": [
       "<Figure size 600x600 with 2 Axes>"
      ]
     },
     "metadata": {},
     "output_type": "display_data"
    }
   ],
   "source": [
    "cm = confusion_matrix(y_test, y_pred_nb)\n",
    "\n",
    "#Visualize the Matrix\n",
    "plt.figure(figsize=(6,6))\n",
    "sns.heatmap(cm, annot=True, cmap='viridis', fmt='d',\n",
    "            xticklabels=['Non Churn', 'Churn'],\n",
    "            yticklabels=['Non Churn', 'Churn'])\n",
    "\n",
    "plt.xlabel('Predicted')\n",
    "plt.ylabel('Actual')\n",
    "plt.title('Confusion Matrix of the  Naive Bayes  Classifier', size=18, color='black', fontweight= 'bold')\n",
    "plt.show()"
   ]
  },
  {
   "cell_type": "markdown",
   "id": "62eba417-d9a9-4779-8c87-ccd927ccb865",
   "metadata": {},
   "source": [
    "EVALUATION OF THE MACHINE LEARNING ALGORITHMS\n",
    "-----------"
   ]
  },
  {
   "cell_type": "code",
   "execution_count": 10,
   "id": "c65efb90-3025-4a05-b4eb-a9c231841e5a",
   "metadata": {},
   "outputs": [
    {
     "data": {
      "text/html": [
       "<div>\n",
       "<style scoped>\n",
       "    .dataframe tbody tr th:only-of-type {\n",
       "        vertical-align: middle;\n",
       "    }\n",
       "\n",
       "    .dataframe tbody tr th {\n",
       "        vertical-align: top;\n",
       "    }\n",
       "\n",
       "    .dataframe thead th {\n",
       "        text-align: right;\n",
       "    }\n",
       "</style>\n",
       "<table border=\"1\" class=\"dataframe\">\n",
       "  <thead>\n",
       "    <tr style=\"text-align: right;\">\n",
       "      <th></th>\n",
       "      <th>ALGORITHMS</th>\n",
       "      <th>ACCURACY</th>\n",
       "      <th>PRECISION</th>\n",
       "      <th>RECALL</th>\n",
       "      <th>F1_SCORE</th>\n",
       "      <th>ROC_AUC</th>\n",
       "    </tr>\n",
       "  </thead>\n",
       "  <tbody>\n",
       "    <tr>\n",
       "      <th>0</th>\n",
       "      <td>Naive Bayes Classifier</td>\n",
       "      <td>79.333333</td>\n",
       "      <td>39.534884</td>\n",
       "      <td>77.272727</td>\n",
       "      <td>52.307692</td>\n",
       "      <td>78.480114</td>\n",
       "    </tr>\n",
       "  </tbody>\n",
       "</table>\n",
       "</div>"
      ],
      "text/plain": [
       "               ALGORITHMS   ACCURACY  PRECISION     RECALL   F1_SCORE  \\\n",
       "0  Naive Bayes Classifier  79.333333  39.534884  77.272727  52.307692   \n",
       "\n",
       "     ROC_AUC  \n",
       "0  78.480114  "
      ]
     },
     "execution_count": 10,
     "metadata": {},
     "output_type": "execute_result"
    }
   ],
   "source": [
    "final_data = pd.DataFrame({\"ALGORITHMS\":[\"Naive Bayes Classifier\"], \n",
    "                           \"ACCURACY\":[accuracy_score(y_test, y_pred_nb)*100],\n",
    "                         \"PRECISION\":[precision_score(y_test, y_pred_nb)*100],\n",
    "                          \"RECALL\":[recall_score(y_test, y_pred_nb)*100],\n",
    "                          \"F1_SCORE\":[f1_score(y_test, y_pred_nb)*100], \n",
    "                            \"ROC_AUC\":[roc_auc_score(y_test, y_pred_nb)*100], \n",
    "                           \n",
    "                        })\n",
    "\n",
    "final_data"
   ]
  },
  {
   "cell_type": "markdown",
   "id": "57690509-a784-431b-aa9a-4a1c34ebbe36",
   "metadata": {},
   "source": [
    "K_FOLD CROSS VALIDATION¶\n",
    "------------"
   ]
  },
  {
   "cell_type": "markdown",
   "id": "2b5d8cef-5c6b-4353-a7ff-4384a17f7cf1",
   "metadata": {},
   "source": [
    "ACCURACY\n",
    "-------"
   ]
  },
  {
   "cell_type": "code",
   "execution_count": 11,
   "id": "7b7bc662-de7e-4a3d-bfef-936cbb1d1c04",
   "metadata": {},
   "outputs": [
    {
     "name": "stdout",
     "output_type": "stream",
     "text": [
      "[0.79700855 0.77564103 0.80982906 0.78846154 0.8034188  0.79700855\n",
      " 0.82012848 0.78800857 0.81156317 0.79443255]\n",
      "The std score of cross validation using NaiveBayes algorithm is 1.24%\n",
      "The mean score of cross validation using NaiveBayes algorithm is 79.86%\n"
     ]
    }
   ],
   "source": [
    "kf = StratifiedKFold(n_splits=10, shuffle=True, random_state=42)\n",
    "nb_accuracies = cross_val_score(nb, X_train_resampled, y_train_resampled, cv=kf, scoring='accuracy')\n",
    "print(nb_accuracies)\n",
    "nb_avg_accuracy = np.mean(nb_accuracies)\n",
    "nb_std_accuracy = np.std(nb_accuracies)\n",
    "print(f\"The std score of cross validation using NaiveBayes algorithm is {nb_std_accuracy * 100:.2f}%\")\n",
    "print(f\"The mean score of cross validation using NaiveBayes algorithm is {nb_avg_accuracy * 100:.2f}%\")"
   ]
  },
  {
   "cell_type": "markdown",
   "id": "27139075-73aa-4da1-9612-fcfd89335828",
   "metadata": {},
   "source": [
    "PRECISION\n",
    "----------"
   ]
  },
  {
   "cell_type": "code",
   "execution_count": 12,
   "id": "f4eabe5e-c699-4831-b297-1389cbe629d9",
   "metadata": {},
   "outputs": [
    {
     "name": "stdout",
     "output_type": "stream",
     "text": [
      "[0.8008658  0.7611336  0.80082988 0.77777778 0.78861789 0.79574468\n",
      " 0.81974249 0.7887931  0.82589286 0.7875    ]\n",
      "The std score of cross validation using NaiveBayes algorithm is 1.79%\n",
      "The mean score of cross validation using NaiveBayes algorithm is 79.47%\n"
     ]
    }
   ],
   "source": [
    "kf = StratifiedKFold(n_splits=10, shuffle=True, random_state=42)\n",
    "nb_precision = cross_val_score(nb, X_train_resampled, y_train_resampled, cv=kf, scoring='precision')\n",
    "print(nb_precision)\n",
    "nb_avg_precision = np.mean(nb_precision)\n",
    "nb_std_precision = np.std(nb_precision)\n",
    "print(f\"The std score of cross validation using NaiveBayes algorithm is {nb_std_precision * 100:.2f}%\")\n",
    "print(f\"The mean score of cross validation using NaiveBayes algorithm is {nb_avg_precision * 100:.2f}%\")"
   ]
  },
  {
   "cell_type": "markdown",
   "id": "9832490c-833a-46f3-b0d9-2a59c1753cc6",
   "metadata": {},
   "source": [
    "RECALL\n",
    "----------"
   ]
  },
  {
   "cell_type": "code",
   "execution_count": 13,
   "id": "fd93e718-7bb8-4c53-86e3-9bd14892ed47",
   "metadata": {},
   "outputs": [
    {
     "name": "stdout",
     "output_type": "stream",
     "text": [
      "[0.79059829 0.8034188  0.82478632 0.80769231 0.82905983 0.7991453\n",
      " 0.81974249 0.78540773 0.79059829 0.80769231]\n",
      "The std score of cross validation using NaiveBayes algorithm is 1.43%\n",
      "The mean score of cross validation using NaiveBayes algorithm is 80.58%\n"
     ]
    }
   ],
   "source": [
    "kf = StratifiedKFold(n_splits=10, shuffle=True, random_state=42)\n",
    "nb_recall = cross_val_score(nb, X_train_resampled, y_train_resampled, cv=kf, scoring='recall')\n",
    "print(nb_recall)\n",
    "nb_avg_recall = np.mean(nb_recall)\n",
    "nb_std_recall = np.std(nb_recall)\n",
    "print(f\"The std score of cross validation using NaiveBayes algorithm is {nb_std_recall * 100:.2f}%\")\n",
    "print(f\"The mean score of cross validation using NaiveBayes algorithm is {nb_avg_recall * 100:.2f}%\")"
   ]
  },
  {
   "cell_type": "markdown",
   "id": "615a5153-24cb-470b-a486-c774c4057f34",
   "metadata": {},
   "source": [
    "F1_SCORE\n",
    "----"
   ]
  },
  {
   "cell_type": "code",
   "execution_count": 14,
   "id": "4eb2bb96-0b85-42bf-8e56-4e28f132e6ff",
   "metadata": {},
   "outputs": [
    {
     "name": "stdout",
     "output_type": "stream",
     "text": [
      "[0.79569892 0.78170478 0.81263158 0.79245283 0.80833333 0.79744136\n",
      " 0.81974249 0.78709677 0.80786026 0.79746835]\n",
      "The std score of cross validation using NaiveBayes algorithm is 1.13%\n",
      "The mean score of cross validation using NaiveBayes algorithm is 80.00%\n"
     ]
    }
   ],
   "source": [
    "kf = StratifiedKFold(n_splits=10, shuffle=True, random_state=42)\n",
    "nb_f1 = cross_val_score(nb, X_train_resampled, y_train_resampled, cv=kf, scoring='f1')\n",
    "print(nb_f1)\n",
    "nb_avg_f1 = np.mean(nb_f1)\n",
    "nb_std_f1 = np.std(nb_f1)\n",
    "print(f\"The std score of cross validation using NaiveBayes algorithm is {nb_std_f1 * 100:.2f}%\")\n",
    "print(f\"The mean score of cross validation using NaiveBayes algorithm is {nb_avg_f1 * 100:.2f}%\")"
   ]
  },
  {
   "cell_type": "markdown",
   "id": "68a7955a-bd54-437d-a6d8-d337f5cf4d95",
   "metadata": {},
   "source": [
    "CHECKING IF IT IS OVERFITTING OR NOT\n",
    "--------------"
   ]
  },
  {
   "cell_type": "code",
   "execution_count": 15,
   "id": "c6481539-9bf8-4eef-9946-530a24f69f2b",
   "metadata": {},
   "outputs": [
    {
     "name": "stdout",
     "output_type": "stream",
     "text": [
      "Model generalizes well: Cross_validation accuracy is higher or close to test accuracy\n"
     ]
    }
   ],
   "source": [
    "if nb_avg_accuracy > accuracy:\n",
    "    print(\"Model generalizes well: Cross_validation accuracy is higher or close to test accuracy\")\n",
    "else:\n",
    "    print(\"Model might be overfitting: Cross validation accuracy is lower than test accuracy\")"
   ]
  },
  {
   "cell_type": "code",
   "execution_count": 16,
   "id": "03158283-029b-4619-9170-ef9000a7d12d",
   "metadata": {},
   "outputs": [
    {
     "name": "stdout",
     "output_type": "stream",
     "text": [
      "Model generalizes well: Cross_validation accuracy is higher or close to test precision\n"
     ]
    }
   ],
   "source": [
    "if nb_avg_precision > precision:\n",
    "    print(\"Model generalizes well: Cross_validation accuracy is higher or close to test precision\")\n",
    "else:\n",
    "    print(\"Model might be overfitting: Cross validation accuracy is lower than test precision\")"
   ]
  },
  {
   "cell_type": "code",
   "execution_count": 17,
   "id": "3a4cc3d4-7526-49ac-bb0d-51d43450eae9",
   "metadata": {},
   "outputs": [
    {
     "name": "stdout",
     "output_type": "stream",
     "text": [
      "Model generalizes well: Cross_validation accuracy is higher or close to test recall\n"
     ]
    }
   ],
   "source": [
    "if nb_avg_recall > recall:\n",
    "    print(\"Model generalizes well: Cross_validation accuracy is higher or close to test recall\")\n",
    "else:\n",
    "    print(\"Model might be overfitting: Cross validation accuracy is lower than test recall\")"
   ]
  },
  {
   "cell_type": "code",
   "execution_count": 18,
   "id": "f5d91390-8855-42db-aca3-5e319e841e77",
   "metadata": {},
   "outputs": [
    {
     "name": "stdout",
     "output_type": "stream",
     "text": [
      "Model generalizes well: Cross_validation accuracy is higher or close to test f1_score\n"
     ]
    }
   ],
   "source": [
    "if nb_avg_f1 > f1:\n",
    "    print(\"Model generalizes well: Cross_validation accuracy is higher or close to test f1_score\")\n",
    "else:\n",
    "    print(\"Model might be overfitting: Cross validation accuracy is lower than test f1_score\")"
   ]
  },
  {
   "cell_type": "markdown",
   "id": "a19c35a5-1b76-4ea0-b2a8-618cfd515511",
   "metadata": {},
   "source": [
    "Total KFold Validation\n",
    "-------------"
   ]
  },
  {
   "cell_type": "code",
   "execution_count": 19,
   "id": "a587f7fb-61cd-4de0-ba76-b6f77b8f3676",
   "metadata": {},
   "outputs": [
    {
     "data": {
      "text/html": [
       "<div>\n",
       "<style scoped>\n",
       "    .dataframe tbody tr th:only-of-type {\n",
       "        vertical-align: middle;\n",
       "    }\n",
       "\n",
       "    .dataframe tbody tr th {\n",
       "        vertical-align: top;\n",
       "    }\n",
       "\n",
       "    .dataframe thead th {\n",
       "        text-align: right;\n",
       "    }\n",
       "</style>\n",
       "<table border=\"1\" class=\"dataframe\">\n",
       "  <thead>\n",
       "    <tr style=\"text-align: right;\">\n",
       "      <th></th>\n",
       "      <th>ALGORITHMS</th>\n",
       "      <th>ACCURACY</th>\n",
       "      <th>PRECISION</th>\n",
       "      <th>RECALL</th>\n",
       "      <th>F1_SCORE</th>\n",
       "    </tr>\n",
       "  </thead>\n",
       "  <tbody>\n",
       "    <tr>\n",
       "      <th>0</th>\n",
       "      <td>Naive Bayes Classifier</td>\n",
       "      <td>79.855003</td>\n",
       "      <td>79.468981</td>\n",
       "      <td>80.581417</td>\n",
       "      <td>80.004307</td>\n",
       "    </tr>\n",
       "  </tbody>\n",
       "</table>\n",
       "</div>"
      ],
      "text/plain": [
       "               ALGORITHMS   ACCURACY  PRECISION     RECALL   F1_SCORE\n",
       "0  Naive Bayes Classifier  79.855003  79.468981  80.581417  80.004307"
      ]
     },
     "execution_count": 19,
     "metadata": {},
     "output_type": "execute_result"
    }
   ],
   "source": [
    "final_kfold = pd.DataFrame({\"ALGORITHMS\":[\"Naive Bayes Classifier\"], \n",
    "                           \"ACCURACY\":[nb_avg_accuracy * 100],\n",
    "                         \"PRECISION\":[nb_avg_precision * 100],\n",
    "                          \"RECALL\":[nb_avg_recall * 100],\n",
    "                          \"F1_SCORE\":[nb_avg_f1 * 100],  \n",
    "                           \n",
    "                        })\n",
    "\n",
    "final_kfold"
   ]
  }
 ],
 "metadata": {
  "kernelspec": {
   "display_name": "Python 3 (ipykernel)",
   "language": "python",
   "name": "python3"
  },
  "language_info": {
   "codemirror_mode": {
    "name": "ipython",
    "version": 3
   },
   "file_extension": ".py",
   "mimetype": "text/x-python",
   "name": "python",
   "nbconvert_exporter": "python",
   "pygments_lexer": "ipython3",
   "version": "3.12.4"
  }
 },
 "nbformat": 4,
 "nbformat_minor": 5
}
